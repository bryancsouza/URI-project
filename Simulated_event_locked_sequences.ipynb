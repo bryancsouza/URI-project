{
 "cells": [
  {
   "cell_type": "markdown",
   "id": "e6395b6a-8b05-45f0-91c0-f401814375cc",
   "metadata": {},
   "source": [
    "# Simulating neural data with/without a sequence"
   ]
  },
  {
   "cell_type": "code",
   "execution_count": 1,
   "id": "fc0571c9-8fde-4200-a42a-0323098bd2a9",
   "metadata": {},
   "outputs": [],
   "source": [
    "import numpy as np\n",
    "import matplotlib.pyplot as plt\n",
    "from sklearn import metrics\n",
    "from sklearn.metrics import roc_curve, auc\n",
    "rng = np.random.default_rng(42)"
   ]
  },
  {
   "cell_type": "code",
   "execution_count": 2,
   "id": "21da5311-7881-4711-8a84-d29e2530db98",
   "metadata": {},
   "outputs": [],
   "source": [
    "def poisson_FR(n_neurons: int, FR, duration: float):\n",
    "    \"\"\"\n",
    "    Function made by Tom Has.\n",
    "    Generates neuronal activity from poisson firing rate for one neurons.\n",
    "    Input:  - n_neurons:   The number of neurons to simulate.\n",
    "            - FR:          The firing rate of the poisson process. (array<float>)\n",
    "            - duration:    The length of recording being simulated in seconds.\n",
    "    Output: - num_spikes:  The total number of spikes generated.\n",
    "            - spike_times: Spike timings, sorted.\n",
    "            - ISI:         Inter-spike intervals between all spikes.\n",
    "    \"\"\"\n",
    "    # Generate number of spikes from poisson distribution\n",
    "    num_spikes = rng.poisson(FR * duration)\n",
    "    # Initialize arrays for spike timing and inter-spike interval\n",
    "    spike_times = np.empty(n_neurons, dtype=object)\n",
    "    ISI = np.empty(n_neurons, dtype=object)\n",
    "    for n in range(n_neurons):\n",
    "        # Draw spike timings from uniform distribution\n",
    "        spike_times[n] = list(np.sort(rng.uniform(0, duration, num_spikes[n])))\n",
    "        # Calculate ISI per neuron\n",
    "        ISI[n] = np.diff(spike_times[n])\n",
    "    return num_spikes, spike_times, ISI"
   ]
  },
  {
   "cell_type": "code",
   "execution_count": 4,
   "id": "74b3c236-3128-4a6f-834f-33abc401a102",
   "metadata": {},
   "outputs": [],
   "source": [
    "def random_FR(n_neurons):\n",
    "    \"\"\"\n",
    "    Function originally made by Tom Has, but the distribution is changed to an exponential distribution by Pepijn van den Berg\n",
    "    Draws an array of random firing rates from a gaussian distribution for a specified amount of neurons.\n",
    "    input:  - n_neurons: The amount of neurons to draw a firing rate for.\n",
    "    output: - FRs:       Array of firing rates (one FR for each neuron).\n",
    "    \"\"\"\n",
    "    return rng.exponential(1/(3.68), n_neurons)"
   ]
  },
  {
   "cell_type": "code",
   "execution_count": 5,
   "id": "7dc35ee1-11f0-404c-bddf-f01a56223c41",
   "metadata": {},
   "outputs": [],
   "source": [
    "def random_sequence_template(n_neurons, t_start, t_end, nr_in_sequence): # Experiment with time of sequence\n",
    "    \"\"\"\n",
    "    Function made by Tom Has.\n",
    "    Generate a template from which sequences can be generated. A template is defined as a set of neuron / spike time\n",
    "    pairs which represent the mean of where and when spikes are expected to happen.\n",
    "    input:  - nr_neurons:     The total number of neurons in the virtual recording.\n",
    "            - t_start:        The earliest point in time at which a sequence can begin in seconds.\n",
    "            - t_end:          The latest point in time at which a sequence can end in seconds.\n",
    "            - nr_in_sequence: The number of neurons participating in the sequence.\n",
    "    output: - timings:        The times that neurons are expected to fire\n",
    "    \n",
    "    \"\"\"\n",
    "    # Sample which neurons participate in the sequence\n",
    "    participating = rng.integers(0, n_neurons, nr_in_sequence)\n",
    "    # Initialize array for keeping track of timings.\n",
    "    timings = np.empty(n_neurons, dtype=object)\n",
    "    # Set each element to an empty array\n",
    "    for i in range(n_neurons):\n",
    "        timings[i] = []\n",
    "    # For every neuron participating, instead generate a random timing\n",
    "    for n in participating:\n",
    "        timings[n].append(rng.uniform(t_start, t_end))\n",
    "    return timings, participating"
   ]
  },
  {
   "cell_type": "code",
   "execution_count": 6,
   "id": "8ee7debe-d308-476a-aa22-6c249b26383f",
   "metadata": {},
   "outputs": [],
   "source": [
    "def template2sequence(timings, jitter, delay=0):\n",
    "    \"\"\"\n",
    "    Function made by Tom Has.\n",
    "    Generates a sequence from a sequence template. The resulting sequence resembles the template with some variations\n",
    "    in spike timing.\n",
    "    Input:  - timings:       The spike timings in the template.\n",
    "            - jitter:        Standard deviation of spike timing.\n",
    "    Output: - spike_timings: The spike timings in the resulting sequence.\n",
    "    \"\"\"\n",
    "    spike_timings = np.empty(timings.shape[0], dtype=object)\n",
    "    for i in range(timings.shape[0]):\n",
    "        spike_timings[i] = []\n",
    "        for t in timings[i]:\n",
    "            # CHANGED: Assure stimulus-relatedness\n",
    "            while True:\n",
    "                t_spike = rng.normal(0, jitter)+t\n",
    "                if t_spike > duration/2: \n",
    "                    break\n",
    "            spike_timings[i].append(t_spike + delay)\n",
    "    return spike_timings"
   ]
  },
  {
   "cell_type": "code",
   "execution_count": 7,
   "id": "8f002538-bee3-4c26-bea8-890652ac35a8",
   "metadata": {},
   "outputs": [],
   "source": [
    "def embed_sequence(noise, sequence, mode=\"remove_random\"):\n",
    "    \"\"\"\n",
    "    Function made by Tom Has.\n",
    "    Adds activity and sequence together, removing one spike from the random activity for every spike in the sequence.\n",
    "    Input:  - noise:         Random poisson firing to embed the sequence in.\n",
    "            - sequence:      The sequence being embeded\n",
    "            - mode:          If mode=\"remove_nearest\", nearest spike to sequence spikes will be removed. (currently unimplemented)\n",
    "                             Add mode: If you add a spike, remove one and increase a similar ISI elsewhere.\n",
    "                             If you add a spike, you shorten the ISI, so you can go somewhere else with the same ISI and lengthen that ISI.\n",
    "                             If mode=\"remove_random\", a random spike will be removed from the spike train.\n",
    "    Output: - spike_timings: Spike timings after embedding\n",
    "    \"\"\"\n",
    "    spike_timings = np.empty(noise.shape[0], dtype=object)\n",
    "    for i in range(noise.shape[0]):\n",
    "        if mode == \"remove_random\":\n",
    "            spike_timings[i] = list(rng.choice(noise[i], max(len(noise[i]) - len(sequence[i]), 0), replace=False))\n",
    "        elif mode == \"add\":\n",
    "            spike_timings[i] = noise[i]\n",
    "        else:\n",
    "            raise Exception(\"Replacement methods other than \\\"remove_random\\\" are not implemented yet.\")\n",
    "        spike_timings[i].extend(sequence[i])\n",
    "        spike_timings[i].sort()\n",
    "    return spike_timings"
   ]
  },
  {
   "cell_type": "code",
   "execution_count": 8,
   "id": "f68c5ed0-f1c0-4be5-960e-19f927bb9cb2",
   "metadata": {},
   "outputs": [],
   "source": [
    "def simulate_trials(n_trials, n_neurons, duration, has_sequence=False, jitter=0.001, nr_in_sequence=5, seq_window=50, seq_time=1000, p_sequence=1):\n",
    "    \"\"\"\n",
    "    Function made by Tom Has, although some modifications have been made.\n",
    "    Simulates a number of trials with a common underlying sequence.\n",
    "    Firing rate varies between neurons, but is constant per neuron across trials.\n",
    "    Input:  - n_trials:       Number of trials simulated.\n",
    "            - n_neurons:      Number of neurons per trial.\n",
    "            - duration:       Duration of a trial.\n",
    "            - has_sequence:   If True, embeds a common sequence into the activity.\n",
    "            - jitter:         Jitter / time variability of spikes within the sequence.\n",
    "            - nr_in_sequence: Number of neurons (spikes) participating in the sequence.\n",
    "            - seq_window:     The sequence duration in ms.\n",
    "            - seq_time:       The moment of stimulus presentation, in ms.\n",
    "            - p_sequence:     The probability of the sequence occurring in a trial. \n",
    "    Output: - trials:         Array containing for each trial, for each neuron the spike times.\n",
    "    \"\"\"\n",
    "    # Generate common sequence\n",
    "    template, neurons = random_sequence_template(n_neurons, seq_time/1000, seq_time/1000+seq_window/1000, nr_in_sequence)\n",
    "    sorted_seq = np.arange(0, n_neurons)[np.argsort(template)]\n",
    "    sorted_seq = sorted_seq[n_neurons-len(neurons):]\n",
    "    # Determine FR per neuron\n",
    "    FR = random_FR(n_neurons)\n",
    "    # Make array to store trials\n",
    "    trials = np.empty((n_trials, n_neurons), dtype=object)\n",
    "    # Keep track of sequence timings\n",
    "    sequences = np.empty((n_trials, n_neurons), dtype=object)\n",
    "    for i in range(n_trials):\n",
    "        # Generate background activity\n",
    "        num_spikes, noise, ISI = poisson_FR(n_neurons, FR, duration)\n",
    "        # MODIFICATION BY PEPIJN VAN DEN BERG: determine randomly whether the sequence will occur\n",
    "        if has_sequence and rng.uniform() <= p_sequence:  \n",
    "            # Generate sequence\n",
    "            sequence = template2sequence(template, jitter)\n",
    "            sequences[i, :] = sequence\n",
    "            # Embed suence into background activity\n",
    "            trials[i] = embed_sequence(noise, sequence)\n",
    "        else:\n",
    "            trials[i] = noise\n",
    "\n",
    "    return trials, sequences, sorted_seq"
   ]
  },
  {
   "cell_type": "code",
   "execution_count": 9,
   "id": "ff6ee839-271b-4d4f-80fb-03509fb6d8cb",
   "metadata": {},
   "outputs": [],
   "source": [
    "def sim_event_locked_sequence(n_neurons, n_trials, duration, jitter, nr_in_sequence, seq_window, seq_time, p_sequence, seq=True, template=None, neurons=None):\n",
    "    \"\"\"\n",
    "    This code brings together functions by Tom and me to simulate neural data (Tom's function) \n",
    "    and subsequently computes their rank and occurrence matrix (my own code)\n",
    "    \"\"\"\n",
    "\n",
    "    # Simulate neural data\n",
    "    trials, sequences, sorted_seq = simulate_trials(n_trials, n_neurons, duration, has_sequence=seq, jitter=jitter, nr_in_sequence=nr_in_sequence, seq_window=seq_window, seq_time=seq_time, p_sequence=p_sequence)\n",
    "    \n",
    "    # Construct spike matrix\n",
    "    window = [0, duration*1000]\n",
    "    bin_width = 1\n",
    "    # Create bins \n",
    "    bins = np.arange(window[0],window[1]+1,bin_width)\n",
    "    spk_matrix = np.zeros([n_trials, n_neurons, len(bins)-1])\n",
    "    \n",
    "    for itrial in range(n_trials):\n",
    "        for ineuron in range(n_neurons):\n",
    "            spikes = np.array(trials[itrial,ineuron])\n",
    "            spikes = spikes*1000\n",
    "            idx = np.where(np.logical_and(spikes>window[0], spikes<window[1]))[0]\n",
    "            count = np.histogram(spikes[idx],bins)\n",
    "            spk_matrix[itrial,ineuron,:] = count[0]\n",
    "    \n",
    "    # Cut the data to the sequence timing\n",
    "    seq_window = seq_window+10\n",
    "    spk_matrix_cut = spk_matrix[:,:,seq_time:seq_time+seq_window] \n",
    "\n",
    "    return spk_matrix, spk_matrix_cut, sorted_seq"
   ]
  },
  {
   "cell_type": "markdown",
   "id": "dd834e4f-89da-43cf-8eb7-fd205e5f532b",
   "metadata": {},
   "source": [
    "----------------------------------------------------------------------------------------------------------"
   ]
  },
  {
   "cell_type": "markdown",
   "id": "cf5d3efb-ad12-4590-9343-0e831a7f2d70",
   "metadata": {},
   "source": [
    "# Generating example spikes"
   ]
  },
  {
   "cell_type": "code",
   "execution_count": 10,
   "id": "e2072c29-7cbc-4ff2-af1b-5b0891ce85d5",
   "metadata": {},
   "outputs": [
    {
     "name": "stdout",
     "output_type": "stream",
     "text": [
      "Simulated sequence: [11 12 20]\n",
      "Simulated sequence: [30 48 55]\n",
      "Simulated sequence: [16  3 46]\n",
      "Simulated sequence: [11 30 12]\n",
      "Simulated sequence: [33  5 57]\n",
      "Simulated sequence: [ 1 42  2]\n",
      "Simulated sequence: [ 5 31 30]\n",
      "Simulated sequence: [22 31 44]\n"
     ]
    },
    {
     "data": {
      "image/png": "[encoded data removed]",
      "text/plain": [
       "<Figure size 1296x864 with 8 Axes>"
      ]
     },
     "metadata": {
      "needs_background": "light"
     },
     "output_type": "display_data"
    }
   ],
   "source": [
    "p_range = np.linspace(0.8, 0.2, 4)\n",
    "jitter_range = [0.005, 0.02]\n",
    "duration=2\n",
    "neurons = 60\n",
    "trials = 30\n",
    "nr_in_sequence = 3\n",
    "seq_window=50\n",
    "seq_time = int(duration/2*1000)\n",
    "\n",
    "plt.figure(figsize=(18, 12))\n",
    "for ij, j in enumerate(jitter_range):\n",
    "    for ip, p in enumerate(p_range):\n",
    "        plt.subplot(len(jitter_range), len(p_range), ip+len(p_range)*ij+1)\n",
    "        spk_matrix, spk_matrix_cut, sorted_seq = sim_event_locked_sequence(neurons, trials, duration, j, nr_in_sequence, seq_window, seq_time, p)\n",
    "        print(\"Simulated sequence:\", sorted_seq)\n",
    "        plt.title(\"P=\"+str(round(p,1))+\" ,\"+[\"low\",\"high\"][ij]+\" jitter\")\n",
    "        plt.imshow(np.sum(spk_matrix,axis=0),aspect='auto',cmap='gray_r', vmin=0, vmax=1)\n",
    "        plt.xticks(range(0, spk_matrix.shape[2], 200), range(-seq_time,seq_time, 200))\n",
    "        plt.xlabel('Time (ms)')\n",
    "        plt.ylabel('Neuron')\n",
    "        ylims = plt.ylim()\n",
    "        plt.vlines(x = seq_time, ymin=ylims[0], ymax= ylims[1],linestyle='--', color='black', alpha=0.5)\n",
    "        plt.xlim([seq_time-200, seq_time+200])\n",
    "#plt.savefig('Figure1.svg')\n",
    "#plt.savefig('Figure1.jpg')\n",
    "plt.show()        "
   ]
  },
  {
   "cell_type": "markdown",
   "id": "19f72d96-96f8-4b17-82a7-02023d50ed59",
   "metadata": {},
   "source": [
    "# Finding the ranks and occ of the data"
   ]
  },
  {
   "cell_type": "code",
   "execution_count": 12,
   "id": "72ecafac-58ab-4e49-b048-c10a2868b7fc",
   "metadata": {},
   "outputs": [],
   "source": [
    "def firing_ranks_spkmatrix(spikes_slice):\n",
    "    \"\"\"\n",
    "    Function made by Pepijn van den Berg.\n",
    "    Compute the ranks (i.e., the order in which the neurons spiked) of the given data\n",
    "    \"\"\"\n",
    "    \n",
    "    # Make a vector for average spike times per neuron\n",
    "    avg_spike = np.zeros([spikes_slice.shape[1]])\n",
    "    \n",
    "    # Make a matrix of ranks for each trial\n",
    "    ranks = np.full([spikes_slice.shape[0], spikes_slice.shape[1]], np.nan)\n",
    "\n",
    "    for trial in range(spikes_slice.shape[0]):    \n",
    "        # Find average spiking time per neuron\n",
    "        for ineuron in range(spikes_slice.shape[1]):\n",
    "            avg_spike[ineuron] = np.mean([bin_idx for bin_idx, activity in enumerate(spikes_slice[trial, ineuron]) if activity > 0])\n",
    "        \n",
    "        # Sort the neurons, based on their avg spiking time\n",
    "        sorted_neurons = np.argsort(avg_spike)\n",
    "\n",
    "        # Fill the rank matrix, but only for the defined 'rank-slots'\n",
    "        for ineuron, neuron in enumerate(sorted_neurons):\n",
    "            if not np.isnan(avg_spike[neuron]):\n",
    "                ranks[trial,ineuron] = neuron \n",
    "    return ranks"
   ]
  },
  {
   "cell_type": "code",
   "execution_count": 13,
   "id": "d64537b8-ead7-48ea-b453-eea5cbf8209a",
   "metadata": {},
   "outputs": [],
   "source": [
    "def firing_ranks2occ_matrix(firing_ranks):\n",
    "    \"\"\"\n",
    "    Function made by Tom Has.\n",
    "    Constructs an occurrence matrix from firing ranks where occ[x, y] represents how often neuron x had rank y.\n",
    "    Input:  - firing_ranks: Array containing for each rank in each trial which neuron had this rank in this trial\n",
    "    Output: - occ:          Occurrence matrix\n",
    "    \"\"\"\n",
    "    n_neurons = firing_ranks.shape[1]\n",
    "    occ = np.zeros((n_neurons, n_neurons), dtype=int)\n",
    "    # Loop over trials\n",
    "    for trial in firing_ranks:\n",
    "        # Loop over ranks:\n",
    "        for rank, neuron in enumerate(trial):\n",
    "            if np.isnan(neuron):\n",
    "                continue\n",
    "            # For not nan rank, neuron pairs, increment the respective square in the occurrence matrix|\n",
    "            occ[int(neuron), rank] += 1\n",
    "    return occ"
   ]
  },
  {
   "cell_type": "code",
   "execution_count": 14,
   "id": "fd5947f8-2b92-4432-8919-dfaf569ba96a",
   "metadata": {},
   "outputs": [],
   "source": [
    "def sort_occ_matrix(occ_matrix, mean_rank=False):   \n",
    "    \"\"\"\"\n",
    "    Function made by Pepijn van den Berg\n",
    "    Modifies an occ matrix to only active neurons and 'used' rank positions. \n",
    "    Also, it sorts the matrix, either based on mean rank, or on mode rank.\n",
    "    \"\"\"\n",
    "    # Find active neurons\n",
    "    active_neurons = np.where(np.any(occ_matrix!=0, axis=1))[0]\n",
    "\n",
    "    # Find non-zero rank range\n",
    "    active_ranks = np.where(np.any(occ_matrix!=0, axis=0))[0]\n",
    "    if len(active_ranks)==0:\n",
    "        rank_limit = 1\n",
    "    else:\n",
    "        rank_limit = active_ranks[-1]\n",
    "\n",
    "    # Pick 'active' rows of occ_matrix, for relevant rank range\n",
    "    occ_matrix = occ_matrix[active_neurons, 0:rank_limit+1]\n",
    "    \n",
    "    # Compute max rank\n",
    "    max_ranks = np.argmax(occ_matrix, axis=1)\n",
    "    \n",
    "    # Compute mean rank\n",
    "    mean_ranks = np.zeros(len(active_neurons))\n",
    "    for ineuron, neuron in enumerate(active_neurons):\n",
    "        mean_ranks[ineuron] = np.mean(occ_matrix[ineuron,:]*np.arange(rank_limit+1))\n",
    "    \n",
    "    \n",
    "    # Return sorted occ matrix\n",
    "    if mean_rank:\n",
    "        return [occ_matrix[np.argsort(mean_ranks),:], np.argsort(mean_ranks), active_neurons]\n",
    "    else:\n",
    "        return [occ_matrix[np.argsort(max_ranks),:], np.argsort(max_ranks), active_neurons]"
   ]
  },
  {
   "cell_type": "code",
   "execution_count": 12,
   "id": "24d63b7e-897d-452c-9491-a8772963c864",
   "metadata": {},
   "outputs": [],
   "source": [
    "neurons = 60\n",
    "trials = 30\n",
    "duration = 2 # In seconds\n",
    "jitter = 0.01 # Amount of noise for the exact spiking times of the neurons in the sequence\n",
    "seq_window = 50 # In ms\n",
    "seq_time = 1000 # At what time the sequence is elicited (in ms)\n",
    "p_sequence = 0.4\n",
    "nr_in_sequence = 6"
   ]
  },
  {
   "cell_type": "code",
   "execution_count": 13,
   "id": "36821884-5e57-4af2-ae29-a7d8f6499df2",
   "metadata": {},
   "outputs": [
    {
     "name": "stdout",
     "output_type": "stream",
     "text": [
      "Sequence: [46 51  5 26 25 39]\n",
      "Sequence: [53 48  0  1 40 28]\n"
     ]
    },
    {
     "name": "stderr",
     "output_type": "stream",
     "text": [
      "C:\\Users\\pepij\\anaconda3\\lib\\site-packages\\numpy\\core\\fromnumeric.py:3464: RuntimeWarning: Mean of empty slice.\n",
      "  return _methods._mean(a, axis=axis, dtype=dtype,\n",
      "C:\\Users\\pepij\\anaconda3\\lib\\site-packages\\numpy\\core\\_methods.py:192: RuntimeWarning: invalid value encountered in scalar divide\n",
      "  ret = ret.dtype.type(ret / rcount)\n"
     ]
    }
   ],
   "source": [
    "spk_matrix, spk_matrix_cut, sorted_seq = sim_event_locked_sequence(neurons, trials, duration, jitter, nr_in_sequence, seq_window*5, seq_time, p_sequence)\n",
    "\n",
    "print(\"Sequence:\", sorted_seq)\n",
    "\n",
    "# Find the rank and occ matrix \n",
    "ranks = firing_ranks_spkmatrix(spk_matrix_cut)   \n",
    "occ_matrix = firing_ranks2occ_matrix(ranks)\n",
    "\n",
    "sorted_occ_1, order_1, active_neurons_1 = sort_occ_matrix(occ_matrix)\n",
    "\n",
    "spk_matrix, spk_matrix_cut, sorted_seq = sim_event_locked_sequence(neurons, trials, duration, jitter, nr_in_sequence, seq_window*5, seq_time, p_sequence, seq=False)\n",
    "\n",
    "print(\"Sequence:\", sorted_seq)\n",
    "\n",
    "# Find the rank and occ matrix \n",
    "ranks = firing_ranks_spkmatrix(spk_matrix_cut)   \n",
    "occ_matrix = firing_ranks2occ_matrix(ranks)\n",
    "\n",
    "sorted_occ_2, order_2, active_neurons_2 = sort_occ_matrix(occ_matrix)\n",
    "\n",
    "\n",
    "sorted_occs = [sorted_occ_1,sorted_occ_2]\n",
    "orders = [order_1, order_2]\n",
    "active_neurons_lists = [active_neurons_1, active_neurons_2]"
   ]
  },
  {
   "cell_type": "code",
   "execution_count": 14,
   "id": "c4fed2cc-d6b4-443c-8f02-8f26b1527f4c",
   "metadata": {},
   "outputs": [
    {
     "data": {
      "image/png": "[encoded data removed]",
      "text/plain": [
       "<Figure size 612x360 with 3 Axes>"
      ]
     },
     "metadata": {
      "needs_background": "light"
     },
     "output_type": "display_data"
    }
   ],
   "source": [
    "from matplotlib.colors import Normalize\n",
    "import matplotlib.cm as cm\n",
    "\n",
    "fig, axes = plt.subplots(nrows=1, ncols=2, figsize=(8.5, 5))\n",
    "cmap = cm.get_cmap('viridis')\n",
    "normalizer = Normalize(0, np.max(sorted_occ_1))\n",
    "im = cm.ScalarMappable(norm=normalizer)\n",
    "\n",
    "axes.flat[0].set_axis_off()\n",
    "axes.flat[0].imshow(sorted_occs[0],cmap=cmap, norm=normalizer)\n",
    "\n",
    "axes.flat[1].set_axis_off()\n",
    "axes.flat[1].imshow(sorted_occs[1], cmap=cmap, norm=normalizer)\n",
    "fig.colorbar(im, ax=axes.ravel().tolist())\n",
    "#plt.savefig('Figure2.svg')\n",
    "#plt.savefig('Figure2.jpg')\n",
    "plt.show()"
   ]
  },
  {
   "cell_type": "markdown",
   "id": "763cb685-1b62-468e-9f9e-462bfe8eb491",
   "metadata": {},
   "source": [
    "# Computing MI and significance "
   ]
  },
  {
   "cell_type": "code",
   "execution_count": 15,
   "id": "de45e60b-7785-4778-ac8c-29cf938159e3",
   "metadata": {},
   "outputs": [],
   "source": [
    "def MI(M):\n",
    "    \"\"\"\n",
    "    Function made by Tom Has.\n",
    "    Calculates the mutual information between the 2 axes of a matrix.\n",
    "    Input:  - M:  2d matrix\n",
    "    Output: - MI: Mutual information\n",
    "    \"\"\"\n",
    "    sizex = M.shape[0]\n",
    "    sizey = M.shape[1]\n",
    "    total = np.sum(M)\n",
    "    p_Y = np.sum(M, axis=0) / total\n",
    "    p_X = np.sum(M, axis=1) / total\n",
    "    # MI = sum over x and y: p(x,y) * log(p(x,y) / (p(x) * p(y)))\n",
    "    #    = sum over x and y: M(x,y)/total * log((M(x,y) * total) / (p_X(x) * p_Y(y)))\n",
    "    MI = sum([sum([(\n",
    "        0 if M[x, y] == 0 else\n",
    "        M[x, y] / total * np.log((M[x, y] / total) / (p_X[x] * p_Y[y]))\n",
    "    ) for x in range(sizex)]) for y in range(sizey)])\n",
    "    return MI"
   ]
  },
  {
   "cell_type": "code",
   "execution_count": 13,
   "id": "4cfde3d8-d4c1-4f0a-b93d-729162b02a63",
   "metadata": {},
   "outputs": [],
   "source": [
    "def getURI(firing_times_per_trial, nr_surrogates):\n",
    "    # global avg_firing_time\n",
    "    \"\"\"\n",
    "    Function made by Tom Has.\n",
    "    Computes the mutual information between unit and firing rank.\n",
    "    Firing rank is defined as the place in the order of average firing times for a neuron within a trial.\n",
    "    Input:  - firing_times_per_trial: 2d array containing for each neuron, for each trial the list of firing times\n",
    "                                      that this neuron produced in this trial.\n",
    "            - nr_surrogates:          Number of shuffled occurrence matrices to compute p-value. Gets more accurate\n",
    "                                      with higher numbers.\n",
    "    Output: - URI:                    The calculated URI metric.\n",
    "            - occurrence_matrix:      The occurrence matrix between neuron and rank\n",
    "            - p-value:                p-value from surrogate calculation. Can be interpreted as the probability of\n",
    "                                      URI metric being as high as it is under null-hypothesis (no sequence).\n",
    "    \"\"\"\n",
    "    ranks = firing_ranks_spkmatrix(firing_times_per_trial)    \n",
    "    occurrence_matrix = firing_ranks2occ_matrix(ranks)\n",
    "    URI = MI(occurrence_matrix)\n",
    "    surrogates = get_surrogate_MIs(ranks, nr_surrogates)\n",
    "    URI_p_val = np.count_nonzero(surrogates >= URI) / nr_surrogates\n",
    "    return URI, URI_p_val, occurrence_matrix"
   ]
  },
  {
   "cell_type": "code",
   "execution_count": 14,
   "id": "3f2380f4-5386-42c0-8206-9852ae8b526d",
   "metadata": {},
   "outputs": [],
   "source": [
    "def get_surrogate_MIs(firing_ranks, n_surrogates):\n",
    "    \"\"\"\n",
    "    Function made by Tom Has.\n",
    "    Computes a number of MI scores belonging to unit-rank shuffled versions of firing_ranks\n",
    "    Input:  - firing_ranks: Array containing for each rank in each trial which neuron had this rank in this trial\n",
    "            - n_surrogates: Number of shuffles / number of surrogate scores obtained\n",
    "    Output: - MIs:          MI scores belonging to the surrogates (1 score per surrogate)\n",
    "    \"\"\"\n",
    "    # Create a copy of firing_ranks\n",
    "    ranks = firing_ranks.copy()\n",
    "    # Create an array for return values\n",
    "    MIs = np.empty(n_surrogates)\n",
    "    # Loop n_surrogates times\n",
    "    for nr in range(n_surrogates):\n",
    "        for trial in ranks:\n",
    "            # Get the valid indices (not nan)\n",
    "            ivalid = np.where(~np.isnan(trial))[0]\n",
    "            # Shuffle trials and ranks\n",
    "            trial[ivalid] = trial[rng.permutation(ivalid)]\n",
    "\n",
    "        occ = firing_ranks2occ_matrix(ranks)\n",
    "        MIs[nr] = MI(occ)\n",
    "    return MIs"
   ]
  },
  {
   "cell_type": "code",
   "execution_count": 15,
   "id": "ef76e1e7-778d-4583-ba3b-4bac8efefdcb",
   "metadata": {},
   "outputs": [],
   "source": [
    "def event_locked_seq(spk_matrix, seq_time, win, n_surrogates):\n",
    "    \"\"\"\n",
    "    Function made by Pepijn van den Berg\n",
    "    Returns the URI, p-value and occ-matrix when timelocked to the stimulus\n",
    "    \"\"\"    \n",
    "    URI, URI_p_val, occurrence_matrix = getURI(spk_matrix[:,:,seq_time:seq_time+win], n_surrogates)\n",
    "    return URI, URI_p_val, occurrence_matrix"
   ]
  },
  {
   "cell_type": "markdown",
   "id": "6fa2db3f-9401-4dfb-84de-6626082152ff",
   "metadata": {},
   "source": [
    "------------------------------------------------------------------------------------------------"
   ]
  },
  {
   "cell_type": "markdown",
   "id": "98aa6b65-ee9b-4e5e-a068-0e219827ad35",
   "metadata": {},
   "source": [
    "# Accuracy of non-sequential data"
   ]
  },
  {
   "cell_type": "code",
   "execution_count": 19,
   "id": "54857e9f-644a-4d5b-91dd-5094dc66aa59",
   "metadata": {},
   "outputs": [],
   "source": [
    "neurons = 60\n",
    "trials = 30\n",
    "duration = 2\n",
    "seq_time= int(duration/2*1000)\n",
    "n_surrogates = 200\n",
    "n_simulations = 500"
   ]
  },
  {
   "cell_type": "code",
   "execution_count": 20,
   "id": "e9529ad0-9910-416b-84e2-3939abb0a8d2",
   "metadata": {},
   "outputs": [
    {
     "name": "stdout",
     "output_type": "stream",
     "text": [
      "0\n",
      "1\n",
      "2\n",
      "3\n",
      "4\n",
      "5\n",
      "6\n"
     ]
    },
    {
     "name": "stderr",
     "output_type": "stream",
     "text": [
      "C:\\Users\\pepij\\AppData\\Local\\Temp\\ipykernel_5932\\891461473.py:10: RuntimeWarning: invalid value encountered in divide\n",
      "  p_Y = np.sum(M, axis=0) / total\n",
      "C:\\Users\\pepij\\AppData\\Local\\Temp\\ipykernel_5932\\891461473.py:11: RuntimeWarning: invalid value encountered in divide\n",
      "  p_X = np.sum(M, axis=1) / total\n"
     ]
    },
    {
     "name": "stdout",
     "output_type": "stream",
     "text": [
      "7\n",
      "8\n",
      "9\n",
      "10\n",
      "11\n",
      "12\n",
      "13\n",
      "14\n",
      "15\n",
      "16\n",
      "17\n",
      "18\n",
      "19\n",
      "20\n",
      "21\n",
      "22\n",
      "23\n",
      "24\n",
      "25\n",
      "26\n",
      "27\n",
      "28\n",
      "29\n",
      "30\n",
      "31\n",
      "32\n",
      "33\n",
      "34\n",
      "35\n",
      "36\n",
      "37\n",
      "38\n",
      "39\n",
      "40\n",
      "41\n",
      "42\n",
      "43\n",
      "44\n",
      "45\n",
      "46\n",
      "47\n",
      "48\n",
      "49\n",
      "50\n",
      "51\n",
      "52\n",
      "53\n",
      "54\n",
      "55\n",
      "56\n",
      "57\n",
      "58\n",
      "59\n",
      "60\n",
      "61\n",
      "62\n",
      "63\n",
      "64\n",
      "65\n",
      "66\n",
      "67\n",
      "68\n",
      "69\n",
      "70\n",
      "71\n",
      "72\n",
      "73\n",
      "74\n",
      "75\n",
      "76\n",
      "77\n",
      "78\n",
      "79\n",
      "80\n",
      "81\n",
      "82\n",
      "83\n",
      "84\n",
      "85\n",
      "86\n",
      "87\n",
      "88\n",
      "89\n",
      "90\n",
      "91\n",
      "92\n",
      "93\n",
      "94\n",
      "95\n",
      "96\n",
      "97\n",
      "98\n",
      "99\n",
      "100\n",
      "101\n",
      "102\n",
      "103\n",
      "104\n",
      "105\n",
      "106\n",
      "107\n",
      "108\n",
      "109\n",
      "110\n",
      "111\n",
      "112\n",
      "113\n",
      "114\n",
      "115\n",
      "116\n",
      "117\n",
      "118\n",
      "119\n",
      "120\n",
      "121\n",
      "122\n",
      "123\n",
      "124\n",
      "125\n",
      "126\n",
      "127\n",
      "128\n",
      "129\n",
      "130\n",
      "131\n",
      "132\n",
      "133\n",
      "134\n",
      "135\n",
      "136\n",
      "137\n",
      "138\n",
      "139\n",
      "140\n",
      "141\n",
      "142\n",
      "143\n",
      "144\n",
      "145\n",
      "146\n",
      "147\n",
      "148\n",
      "149\n",
      "150\n",
      "151\n",
      "152\n",
      "153\n",
      "154\n",
      "155\n",
      "156\n",
      "157\n",
      "158\n",
      "159\n",
      "160\n",
      "161\n",
      "162\n",
      "163\n",
      "164\n",
      "165\n",
      "166\n",
      "167\n",
      "168\n",
      "169\n",
      "170\n",
      "171\n",
      "172\n",
      "173\n",
      "174\n",
      "175\n",
      "176\n",
      "177\n",
      "178\n",
      "179\n",
      "180\n",
      "181\n",
      "182\n",
      "183\n",
      "184\n",
      "185\n",
      "186\n",
      "187\n",
      "188\n",
      "189\n",
      "190\n",
      "191\n",
      "192\n",
      "193\n",
      "194\n",
      "195\n",
      "196\n",
      "197\n",
      "198\n",
      "199\n",
      "200\n",
      "201\n",
      "202\n",
      "203\n",
      "204\n",
      "205\n",
      "206\n",
      "207\n",
      "208\n",
      "209\n",
      "210\n",
      "211\n",
      "212\n",
      "213\n",
      "214\n",
      "215\n",
      "216\n",
      "217\n",
      "218\n",
      "219\n",
      "220\n",
      "221\n",
      "222\n",
      "223\n",
      "224\n",
      "225\n",
      "226\n",
      "227\n",
      "228\n",
      "229\n",
      "230\n",
      "231\n",
      "232\n",
      "233\n",
      "234\n",
      "235\n",
      "236\n",
      "237\n",
      "238\n",
      "239\n",
      "240\n",
      "241\n",
      "242\n",
      "243\n",
      "244\n",
      "245\n",
      "246\n",
      "247\n",
      "248\n",
      "249\n",
      "250\n",
      "251\n",
      "252\n",
      "253\n",
      "254\n",
      "255\n",
      "256\n",
      "257\n",
      "258\n",
      "259\n",
      "260\n",
      "261\n",
      "262\n",
      "263\n",
      "264\n",
      "265\n",
      "266\n",
      "267\n",
      "268\n",
      "269\n",
      "270\n",
      "271\n",
      "272\n",
      "273\n",
      "274\n",
      "275\n",
      "276\n",
      "277\n",
      "278\n",
      "279\n",
      "280\n",
      "281\n",
      "282\n",
      "283\n",
      "284\n",
      "285\n",
      "286\n",
      "287\n",
      "288\n",
      "289\n",
      "290\n",
      "291\n",
      "292\n",
      "293\n",
      "294\n",
      "295\n",
      "296\n",
      "297\n",
      "298\n",
      "299\n",
      "300\n",
      "301\n",
      "302\n",
      "303\n",
      "304\n",
      "305\n",
      "306\n",
      "307\n",
      "308\n",
      "309\n",
      "310\n",
      "311\n",
      "312\n",
      "313\n",
      "314\n",
      "315\n",
      "316\n",
      "317\n",
      "318\n",
      "319\n",
      "320\n",
      "321\n",
      "322\n",
      "323\n",
      "324\n",
      "325\n",
      "326\n",
      "327\n",
      "328\n",
      "329\n",
      "330\n",
      "331\n",
      "332\n",
      "333\n",
      "334\n",
      "335\n",
      "336\n",
      "337\n",
      "338\n",
      "339\n",
      "340\n",
      "341\n",
      "342\n",
      "343\n",
      "344\n",
      "345\n",
      "346\n",
      "347\n",
      "348\n",
      "349\n",
      "350\n",
      "351\n",
      "352\n",
      "353\n",
      "354\n",
      "355\n",
      "356\n",
      "357\n",
      "358\n",
      "359\n",
      "360\n",
      "361\n",
      "362\n",
      "363\n",
      "364\n",
      "365\n",
      "366\n",
      "367\n",
      "368\n",
      "369\n",
      "370\n",
      "371\n",
      "372\n",
      "373\n",
      "374\n",
      "375\n",
      "376\n",
      "377\n",
      "378\n",
      "379\n",
      "380\n",
      "381\n",
      "382\n",
      "383\n",
      "384\n",
      "385\n",
      "386\n",
      "387\n",
      "388\n",
      "389\n",
      "390\n",
      "391\n",
      "392\n",
      "393\n",
      "394\n",
      "395\n",
      "396\n",
      "397\n",
      "398\n",
      "399\n",
      "400\n",
      "401\n",
      "402\n",
      "403\n",
      "404\n",
      "405\n",
      "406\n",
      "407\n",
      "408\n",
      "409\n",
      "410\n",
      "411\n",
      "412\n",
      "413\n",
      "414\n",
      "415\n",
      "416\n",
      "417\n",
      "418\n",
      "419\n",
      "420\n",
      "421\n",
      "422\n",
      "423\n",
      "424\n",
      "425\n",
      "426\n",
      "427\n",
      "428\n",
      "429\n",
      "430\n",
      "431\n",
      "432\n",
      "433\n",
      "434\n",
      "435\n",
      "436\n",
      "437\n",
      "438\n",
      "439\n",
      "440\n",
      "441\n",
      "442\n",
      "443\n",
      "444\n",
      "445\n",
      "446\n",
      "447\n",
      "448\n",
      "449\n",
      "450\n",
      "451\n",
      "452\n",
      "453\n",
      "454\n",
      "455\n",
      "456\n",
      "457\n",
      "458\n",
      "459\n",
      "460\n",
      "461\n",
      "462\n",
      "463\n",
      "464\n",
      "465\n",
      "466\n",
      "467\n",
      "468\n",
      "469\n",
      "470\n",
      "471\n",
      "472\n",
      "473\n",
      "474\n",
      "475\n",
      "476\n",
      "477\n",
      "478\n",
      "479\n",
      "480\n",
      "481\n",
      "482\n",
      "483\n",
      "484\n",
      "485\n",
      "486\n",
      "487\n",
      "488\n",
      "489\n",
      "490\n",
      "491\n",
      "492\n",
      "493\n",
      "494\n",
      "495\n",
      "496\n",
      "497\n",
      "498\n",
      "499\n"
     ]
    }
   ],
   "source": [
    "win_range = [5, 25, 50, 75, 100, 125, 150, 175, 200]\n",
    "p_list = np.zeros([n_simulations, len(win_range)])\n",
    "\n",
    "for n in range(n_simulations):\n",
    "    spk_matrix, spk_matrix_cut, sorted_seq = sim_event_locked_sequence(neurons, trials, duration, 0, 1, 1, 1, 1, seq=False)\n",
    "\n",
    "    for iw, w in enumerate(win_range):\n",
    "        URI_p_val = event_locked_seq(spk_matrix, seq_time, w, n_surrogates)[1]\n",
    "        p_list[n, iw] = URI_p_val"
   ]
  },
  {
   "cell_type": "code",
   "execution_count": 22,
   "id": "94eba6b2-d163-4b94-ad91-ad03033a1611",
   "metadata": {},
   "outputs": [
    {
     "data": {
      "image/png": "[encoded data removed]",
      "text/plain": [
       "<Figure size 432x288 with 1 Axes>"
      ]
     },
     "metadata": {
      "needs_background": "light"
     },
     "output_type": "display_data"
    }
   ],
   "source": [
    "accuracy = [np.count_nonzero(p_list[:,i]>0.05)/n_simulations for i in range(len(win_range))]\n",
    "plt.figure()\n",
    "plt.title('Accuracy of detection on data without sequence')\n",
    "plt.plot(win_range, accuracy, lw=2)\n",
    "plt.scatter(win_range, accuracy)\n",
    "plt.xlabel('Sequence window (ms)')\n",
    "plt.ylabel('Accuracy')\n",
    "plt.savefig('Figure3.svg')\n",
    "plt.savefig('Figure3.jpg')\n",
    "plt.show()"
   ]
  },
  {
   "cell_type": "markdown",
   "id": "920853cd-d4ec-4b29-99c6-1ad18e718d36",
   "metadata": {},
   "source": [
    "# Nr of trials necessary for finding sequence (p < 0.05)"
   ]
  },
  {
   "cell_type": "code",
   "execution_count": 19,
   "id": "f16825bc-9cf9-40e6-b90f-866a458fc07a",
   "metadata": {},
   "outputs": [],
   "source": [
    "neurons = 60\n",
    "duration = 2\n",
    "seq_time= int(duration/2*1000)\n",
    "win = 50\n",
    "trials = 80\n",
    "n_surrogates = 200\n",
    "n_simulations = 30\n",
    "\n",
    "p_range = [0.1, 0.2, 0.3, 0.4, 0.5, 0.6, 0.7, 0.8, 0.9]\n",
    "jitter_range = [0.005, 0.01, 0.02]"
   ]
  },
  {
   "cell_type": "code",
   "execution_count": 186,
   "id": "1401e58a-808b-40c7-be49-a9baa8a14d42",
   "metadata": {},
   "outputs": [
    {
     "name": "stdout",
     "output_type": "stream",
     "text": [
      "0.1\n",
      "0.005\n",
      "0\n",
      "1\n"
     ]
    },
    {
     "name": "stderr",
     "output_type": "stream",
     "text": [
      "C:\\Users\\pepij\\AppData\\Local\\Temp\\ipykernel_22564\\705524249.py:10: RuntimeWarning: invalid value encountered in divide\n",
      "  p_Y = np.sum(M, axis=0) / total\n",
      "C:\\Users\\pepij\\AppData\\Local\\Temp\\ipykernel_22564\\705524249.py:11: RuntimeWarning: invalid value encountered in divide\n",
      "  p_X = np.sum(M, axis=1) / total\n"
     ]
    },
    {
     "name": "stdout",
     "output_type": "stream",
     "text": [
      "2\n",
      "3\n",
      "4\n",
      "5\n",
      "6\n",
      "7\n",
      "8\n",
      "9\n",
      "10\n",
      "11\n",
      "12\n",
      "13\n",
      "14\n",
      "15\n",
      "16\n",
      "17\n",
      "18\n",
      "19\n",
      "20\n",
      "21\n",
      "22\n",
      "23\n",
      "24\n",
      "25\n",
      "26\n",
      "27\n",
      "28\n",
      "29\n",
      "0.1\n",
      "0.01\n",
      "0\n",
      "1\n",
      "2\n",
      "3\n",
      "4\n",
      "5\n",
      "6\n",
      "7\n",
      "8\n",
      "9\n",
      "10\n",
      "11\n",
      "12\n",
      "13\n",
      "14\n",
      "15\n",
      "16\n",
      "17\n",
      "18\n",
      "19\n",
      "20\n",
      "21\n",
      "22\n",
      "23\n",
      "24\n",
      "25\n",
      "26\n",
      "27\n",
      "28\n",
      "29\n",
      "0.1\n",
      "0.02\n",
      "0\n",
      "1\n",
      "2\n",
      "3\n",
      "4\n",
      "5\n",
      "6\n",
      "7\n",
      "8\n",
      "9\n",
      "10\n",
      "11\n",
      "12\n",
      "13\n",
      "14\n",
      "15\n",
      "16\n",
      "17\n",
      "18\n",
      "19\n",
      "20\n",
      "21\n",
      "22\n",
      "23\n",
      "24\n",
      "25\n",
      "26\n",
      "27\n",
      "28\n",
      "29\n",
      "0.2\n",
      "0.005\n",
      "0\n",
      "1\n",
      "2\n",
      "3\n",
      "4\n",
      "5\n",
      "6\n",
      "7\n",
      "8\n",
      "9\n",
      "10\n",
      "11\n",
      "12\n",
      "13\n",
      "14\n",
      "15\n",
      "16\n",
      "17\n",
      "18\n",
      "19\n",
      "20\n",
      "21\n",
      "22\n",
      "23\n",
      "24\n",
      "25\n",
      "26\n",
      "27\n",
      "28\n",
      "29\n",
      "0.2\n",
      "0.01\n",
      "0\n",
      "1\n",
      "2\n",
      "3\n",
      "4\n",
      "5\n",
      "6\n",
      "7\n",
      "8\n",
      "9\n",
      "10\n",
      "11\n",
      "12\n",
      "13\n",
      "14\n",
      "15\n",
      "16\n",
      "17\n",
      "18\n",
      "19\n",
      "20\n",
      "21\n",
      "22\n",
      "23\n",
      "24\n",
      "25\n",
      "26\n",
      "27\n",
      "28\n",
      "29\n",
      "0.2\n",
      "0.02\n",
      "0\n",
      "1\n",
      "2\n",
      "3\n",
      "4\n",
      "5\n",
      "6\n",
      "7\n",
      "8\n",
      "9\n",
      "10\n",
      "11\n",
      "12\n",
      "13\n",
      "14\n",
      "15\n",
      "16\n",
      "17\n",
      "18\n",
      "19\n",
      "20\n",
      "21\n",
      "22\n",
      "23\n",
      "24\n",
      "25\n",
      "26\n",
      "27\n",
      "28\n",
      "29\n",
      "0.3\n",
      "0.005\n",
      "0\n",
      "1\n",
      "2\n",
      "3\n",
      "4\n",
      "5\n",
      "6\n",
      "7\n",
      "8\n",
      "9\n",
      "10\n",
      "11\n",
      "12\n",
      "13\n",
      "14\n",
      "15\n",
      "16\n",
      "17\n",
      "18\n",
      "19\n",
      "20\n",
      "21\n",
      "22\n",
      "23\n",
      "24\n",
      "25\n",
      "26\n",
      "27\n",
      "28\n",
      "29\n",
      "0.3\n",
      "0.01\n",
      "0\n",
      "1\n",
      "2\n",
      "3\n",
      "4\n",
      "5\n",
      "6\n",
      "7\n",
      "8\n",
      "9\n",
      "10\n",
      "11\n",
      "12\n",
      "13\n",
      "14\n",
      "15\n",
      "16\n",
      "17\n",
      "18\n",
      "19\n",
      "20\n",
      "21\n",
      "22\n",
      "23\n",
      "24\n",
      "25\n",
      "26\n",
      "27\n",
      "28\n",
      "29\n",
      "0.3\n",
      "0.02\n",
      "0\n",
      "1\n",
      "2\n",
      "3\n",
      "4\n",
      "5\n",
      "6\n",
      "7\n",
      "8\n",
      "9\n",
      "10\n",
      "11\n",
      "12\n",
      "13\n",
      "14\n",
      "15\n",
      "16\n",
      "17\n",
      "18\n",
      "19\n",
      "20\n",
      "21\n",
      "22\n",
      "23\n",
      "24\n",
      "25\n",
      "26\n",
      "27\n",
      "28\n",
      "29\n",
      "0.4\n",
      "0.005\n",
      "0\n",
      "1\n",
      "2\n",
      "3\n",
      "4\n",
      "5\n",
      "6\n",
      "7\n",
      "8\n",
      "9\n",
      "10\n",
      "11\n",
      "12\n",
      "13\n",
      "14\n",
      "15\n",
      "16\n",
      "17\n",
      "18\n",
      "19\n",
      "20\n",
      "21\n",
      "22\n",
      "23\n",
      "24\n",
      "25\n",
      "26\n",
      "27\n",
      "28\n",
      "29\n",
      "0.4\n",
      "0.01\n",
      "0\n",
      "1\n",
      "2\n",
      "3\n",
      "4\n",
      "5\n",
      "6\n",
      "7\n",
      "8\n",
      "9\n",
      "10\n",
      "11\n",
      "12\n",
      "13\n",
      "14\n",
      "15\n",
      "16\n",
      "17\n",
      "18\n",
      "19\n",
      "20\n",
      "21\n",
      "22\n",
      "23\n",
      "24\n",
      "25\n",
      "26\n",
      "27\n",
      "28\n",
      "29\n",
      "0.4\n",
      "0.02\n",
      "0\n",
      "1\n",
      "2\n",
      "3\n",
      "4\n",
      "5\n",
      "6\n",
      "7\n",
      "8\n",
      "9\n",
      "10\n",
      "11\n",
      "12\n",
      "13\n",
      "14\n",
      "15\n",
      "16\n",
      "17\n",
      "18\n",
      "19\n",
      "20\n",
      "21\n",
      "22\n",
      "23\n",
      "24\n",
      "25\n",
      "26\n",
      "27\n",
      "28\n",
      "29\n",
      "0.5\n",
      "0.005\n",
      "0\n",
      "1\n",
      "2\n",
      "3\n",
      "4\n",
      "5\n",
      "6\n",
      "7\n",
      "8\n",
      "9\n",
      "10\n",
      "11\n",
      "12\n",
      "13\n",
      "14\n",
      "15\n",
      "16\n",
      "17\n",
      "18\n",
      "19\n",
      "20\n",
      "21\n",
      "22\n",
      "23\n",
      "24\n",
      "25\n",
      "26\n",
      "27\n",
      "28\n",
      "29\n",
      "0.5\n",
      "0.01\n",
      "0\n",
      "1\n",
      "2\n",
      "3\n",
      "4\n",
      "5\n",
      "6\n",
      "7\n",
      "8\n",
      "9\n",
      "10\n",
      "11\n",
      "12\n",
      "13\n",
      "14\n",
      "15\n",
      "16\n",
      "17\n",
      "18\n",
      "19\n",
      "20\n",
      "21\n",
      "22\n",
      "23\n",
      "24\n",
      "25\n",
      "26\n",
      "27\n",
      "28\n",
      "29\n",
      "0.5\n",
      "0.02\n",
      "0\n",
      "1\n",
      "2\n",
      "3\n",
      "4\n",
      "5\n",
      "6\n",
      "7\n",
      "8\n",
      "9\n",
      "10\n",
      "11\n",
      "12\n",
      "13\n",
      "14\n",
      "15\n",
      "16\n",
      "17\n",
      "18\n",
      "19\n",
      "20\n",
      "21\n",
      "22\n",
      "23\n",
      "24\n",
      "25\n",
      "26\n",
      "27\n",
      "28\n",
      "29\n",
      "0.6\n",
      "0.005\n",
      "0\n",
      "1\n",
      "2\n",
      "3\n",
      "4\n",
      "5\n",
      "6\n",
      "7\n",
      "8\n",
      "9\n",
      "10\n",
      "11\n",
      "12\n",
      "13\n",
      "14\n",
      "15\n",
      "16\n",
      "17\n",
      "18\n",
      "19\n",
      "20\n",
      "21\n",
      "22\n",
      "23\n",
      "24\n",
      "25\n",
      "26\n",
      "27\n",
      "28\n",
      "29\n",
      "0.6\n",
      "0.01\n",
      "0\n",
      "1\n",
      "2\n",
      "3\n",
      "4\n",
      "5\n",
      "6\n",
      "7\n",
      "8\n",
      "9\n",
      "10\n",
      "11\n",
      "12\n",
      "13\n",
      "14\n",
      "15\n",
      "16\n",
      "17\n",
      "18\n",
      "19\n",
      "20\n",
      "21\n",
      "22\n",
      "23\n",
      "24\n",
      "25\n",
      "26\n",
      "27\n",
      "28\n",
      "29\n",
      "0.6\n",
      "0.02\n",
      "0\n",
      "1\n",
      "2\n",
      "3\n",
      "4\n",
      "5\n",
      "6\n",
      "7\n",
      "8\n",
      "9\n",
      "10\n",
      "11\n",
      "12\n",
      "13\n",
      "14\n",
      "15\n",
      "16\n",
      "17\n",
      "18\n",
      "19\n",
      "20\n",
      "21\n",
      "22\n",
      "23\n",
      "24\n",
      "25\n",
      "26\n",
      "27\n",
      "28\n",
      "29\n",
      "0.7\n",
      "0.005\n",
      "0\n",
      "1\n",
      "2\n",
      "3\n",
      "4\n",
      "5\n",
      "6\n",
      "7\n",
      "8\n",
      "9\n",
      "10\n",
      "11\n",
      "12\n",
      "13\n",
      "14\n",
      "15\n",
      "16\n",
      "17\n",
      "18\n",
      "19\n",
      "20\n",
      "21\n",
      "22\n",
      "23\n",
      "24\n",
      "25\n",
      "26\n",
      "27\n",
      "28\n",
      "29\n",
      "0.7\n",
      "0.01\n",
      "0\n",
      "1\n",
      "2\n",
      "3\n",
      "4\n",
      "5\n",
      "6\n",
      "7\n",
      "8\n",
      "9\n",
      "10\n",
      "11\n",
      "12\n",
      "13\n",
      "14\n",
      "15\n",
      "16\n",
      "17\n",
      "18\n",
      "19\n",
      "20\n",
      "21\n",
      "22\n",
      "23\n",
      "24\n",
      "25\n",
      "26\n",
      "27\n",
      "28\n",
      "29\n",
      "0.7\n",
      "0.02\n",
      "0\n",
      "1\n",
      "2\n",
      "3\n",
      "4\n",
      "5\n",
      "6\n",
      "7\n",
      "8\n",
      "9\n",
      "10\n",
      "11\n",
      "12\n",
      "13\n",
      "14\n",
      "15\n",
      "16\n",
      "17\n",
      "18\n",
      "19\n",
      "20\n",
      "21\n",
      "22\n",
      "23\n",
      "24\n",
      "25\n",
      "26\n",
      "27\n",
      "28\n",
      "29\n",
      "0.8\n",
      "0.005\n",
      "0\n",
      "1\n",
      "2\n",
      "3\n",
      "4\n",
      "5\n",
      "6\n",
      "7\n",
      "8\n",
      "9\n",
      "10\n",
      "11\n",
      "12\n",
      "13\n",
      "14\n",
      "15\n",
      "16\n",
      "17\n",
      "18\n",
      "19\n",
      "20\n",
      "21\n",
      "22\n",
      "23\n",
      "24\n",
      "25\n",
      "26\n",
      "27\n",
      "28\n",
      "29\n",
      "0.8\n",
      "0.01\n",
      "0\n",
      "1\n",
      "2\n",
      "3\n",
      "4\n",
      "5\n",
      "6\n",
      "7\n",
      "8\n",
      "9\n",
      "10\n",
      "11\n",
      "12\n",
      "13\n",
      "14\n",
      "15\n",
      "16\n",
      "17\n",
      "18\n",
      "19\n",
      "20\n",
      "21\n",
      "22\n",
      "23\n",
      "24\n",
      "25\n",
      "26\n",
      "27\n",
      "28\n",
      "29\n",
      "0.8\n",
      "0.02\n",
      "0\n",
      "1\n",
      "2\n",
      "3\n",
      "4\n",
      "5\n",
      "6\n",
      "7\n",
      "8\n",
      "9\n",
      "10\n",
      "11\n",
      "12\n",
      "13\n",
      "14\n",
      "15\n",
      "16\n",
      "17\n",
      "18\n",
      "19\n",
      "20\n",
      "21\n",
      "22\n",
      "23\n",
      "24\n",
      "25\n",
      "26\n",
      "27\n",
      "28\n",
      "29\n",
      "0.9\n",
      "0.005\n",
      "0\n",
      "1\n",
      "2\n",
      "3\n",
      "4\n",
      "5\n",
      "6\n",
      "7\n",
      "8\n",
      "9\n",
      "10\n",
      "11\n",
      "12\n",
      "13\n",
      "14\n",
      "15\n",
      "16\n",
      "17\n",
      "18\n",
      "19\n",
      "20\n",
      "21\n",
      "22\n",
      "23\n",
      "24\n",
      "25\n",
      "26\n",
      "27\n",
      "28\n",
      "29\n",
      "0.9\n",
      "0.01\n",
      "0\n",
      "1\n",
      "2\n",
      "3\n",
      "4\n",
      "5\n",
      "6\n",
      "7\n",
      "8\n",
      "9\n",
      "10\n",
      "11\n",
      "12\n",
      "13\n",
      "14\n",
      "15\n",
      "16\n",
      "17\n",
      "18\n",
      "19\n",
      "20\n",
      "21\n",
      "22\n",
      "23\n",
      "24\n",
      "25\n",
      "26\n",
      "27\n",
      "28\n",
      "29\n",
      "0.9\n",
      "0.02\n",
      "0\n",
      "1\n",
      "2\n",
      "3\n",
      "4\n",
      "5\n",
      "6\n",
      "7\n",
      "8\n",
      "9\n",
      "10\n",
      "11\n",
      "12\n",
      "13\n",
      "14\n",
      "15\n",
      "16\n",
      "17\n",
      "18\n",
      "19\n",
      "20\n",
      "21\n",
      "22\n",
      "23\n",
      "24\n",
      "25\n",
      "26\n",
      "27\n",
      "28\n",
      "29\n"
     ]
    }
   ],
   "source": [
    "n_matrix = np.zeros([len(p_range), len(jitter_range), n_simulations])\n",
    "\n",
    "for ip, p in enumerate(p_range):\n",
    "    for ijitter, jitter in enumerate(jitter_range):\n",
    "        for n in range(n_simulations):\n",
    "            nr_in_sequence = np.random.randint(2, 11)\n",
    "            spk_matrix, spk_matrix_cut, sorted_seq = sim_event_locked_sequence(neurons, trials, duration, jitter, nr_in_sequence, seq_window, seq_time, p)\n",
    "            for n_trials in range(1,trials):\n",
    "                if event_locked_seq(spk_matrix[:n_trials], seq_time, win, n_surrogates)[1] > 0.05:\n",
    "                    n_matrix[ip, ijitter, n] = n_trials\n",
    "            if n_matrix[ip, ijitter, n] == 0:\n",
    "                n_matrix[ip, ijitter, n] = trials               "
   ]
  },
  {
   "cell_type": "code",
   "execution_count": 16,
   "id": "c357e0e0-4148-4a37-983f-e8715d4d10b7",
   "metadata": {},
   "outputs": [],
   "source": [
    "n_matrix_copy = np.array([[[29., 17., 78., 36., 76., 40., 21., 78., 62., 27., 22., 31.,\n",
    "         34., 52., 12.,  5., 71., 54., 78.,  4.,  8., 39., 26., 35.,\n",
    "         79., 42., 58., 26., 29., 24.],\n",
    "        [79., 79., 75., 79., 54., 64., 24., 65., 79., 74., 79., 79.,\n",
    "         79., 26., 79., 55., 22., 12., 79., 79., 79., 70., 79., 24.,\n",
    "         79., 67., 79., 68., 59., 79.],\n",
    "        [79., 79., 79., 79., 79., 79., 79., 79., 79., 79., 68., 64.,\n",
    "         28., 79., 79., 79., 79., 37., 79., 79., 79., 79., 79., 79.,\n",
    "         79., 79., 79., 79., 79., 79.]],\n",
    "\n",
    "       [[39.,  5.,  4., 12.,  9.,  6., 12., 14.,  7., 11., 10.,  2.,\n",
    "         26., 28., 35., 28., 33., 25., 17., 12., 16., 30., 22., 23.,\n",
    "         16., 18., 45., 35., 30., 14.],\n",
    "        [63., 52., 45., 69., 20., 22.,  4., 31., 35., 79., 30., 14.,\n",
    "         37., 35., 69., 35., 79., 43.,  8., 28., 79., 38., 34., 27.,\n",
    "         13., 47., 53., 43., 48., 26.],\n",
    "        [79., 44., 79., 79., 79., 79., 79., 79., 79., 79., 79., 79.,\n",
    "         79., 61., 79., 33., 79., 79., 38., 79., 63., 76., 79., 79.,\n",
    "         79., 47., 79., 79., 79., 79.]],\n",
    "\n",
    "       [[11., 14.,  9., 19., 24., 15., 32.,  8., 15.,  4., 13., 14.,\n",
    "          6., 11.,  9., 15., 25.,  7., 29., 24., 29., 18., 31., 14.,\n",
    "          8., 13.,  6., 10.,  7., 11.],\n",
    "        [31., 32.,  8., 26., 38., 13., 14., 13., 26., 22., 26., 25.,\n",
    "         29., 32., 36.,  4., 36., 25., 30., 11., 31., 22., 12., 18.,\n",
    "         25., 17.,  5., 25.,  6.,  9.],\n",
    "        [79., 56., 79., 57., 79., 79., 34., 79., 32., 79., 79., 79.,\n",
    "         34., 79., 78., 67., 76., 79., 79., 79., 57., 79., 79., 79.,\n",
    "         74., 62., 79., 79., 79., 79.]],\n",
    "\n",
    "       [[ 8.,  4., 10.,  4.,  8., 14.,  9.,  3.,  8.,  6.,  5.,  6.,\n",
    "         20.,  4.,  7., 23.,  5.,  8.,  5.,  2.,  1.,  4., 15.,  8.,\n",
    "          3.,  7., 13.,  7.,  4., 28.],\n",
    "        [ 7., 20., 46.,  9., 10., 28., 34.,  8., 23., 15.,  8., 20.,\n",
    "         43.,  8.,  6., 18., 78., 12., 12., 14., 16., 35., 23., 23.,\n",
    "         17.,  1., 26., 26., 19.,  4.],\n",
    "        [66., 60., 25., 79., 64., 79., 46., 79., 65., 58., 28., 79.,\n",
    "         33., 79., 79., 79., 79., 79., 54., 41.,  7., 58., 79., 79.,\n",
    "         79., 79., 79., 79., 79., 79.]],\n",
    "\n",
    "       [[ 8., 11.,  4.,  3.,  5., 13.,  1.,  4.,  1., 13.,  4.,  6.,\n",
    "          9.,  2.,  1.,  7.,  6.,  9., 14.,  4.,  8.,  2.,  2.,  2.,\n",
    "          6.,  5.,  5.,  5.,  3.,  6.],\n",
    "        [ 7., 17.,  6.,  4.,  9., 12., 10., 10.,  9., 21.,  3.,  5.,\n",
    "          5., 16., 19., 32., 10., 16.,  5., 10., 11., 20.,  7.,  7.,\n",
    "         27.,  6., 10., 13., 15., 43.],\n",
    "        [33., 79., 66., 33., 47., 79., 79., 79., 79., 69., 79., 79.,\n",
    "         34., 19., 59.,  7., 47., 79., 79., 47., 79., 48., 73., 79.,\n",
    "         79., 78., 71., 17., 58., 79.]],\n",
    "\n",
    "       [[ 5.,  6.,  3.,  3.,  9.,  4.,  8.,  3.,  3.,  4.,  4.,  7.,\n",
    "          4.,  5.,  6.,  8., 13.,  3.,  1.,  5.,  8.,  2.,  4.,  5.,\n",
    "         12.,  6.,  4.,  7.,  6.,  3.],\n",
    "        [ 4., 10., 48.,  3.,  9., 16.,  4.,  6.,  5., 17.,  2.,  5.,\n",
    "         12., 15., 13.,  5., 22., 23.,  6., 11., 15.,  4.,  4.,  3.,\n",
    "          8.,  4., 11.,  9.,  7.,  5.],\n",
    "        [30., 66., 15., 55., 62., 72., 16., 79., 76., 68., 79., 54.,\n",
    "         49., 79., 34., 63., 42., 79., 26.,  9., 39., 37., 12., 79.,\n",
    "         79., 57., 43., 50., 37., 37.]],\n",
    "\n",
    "       [[10.,  3.,  2.,  5.,  3.,  5.,  5.,  2., 12.,  3.,  3., 12.,\n",
    "          8.,  3.,  3.,  5.,  3.,  6., 13.,  5.,  2.,  4.,  3.,  3.,\n",
    "          4.,  7.,  7.,  2.,  2.,  2.],\n",
    "        [ 5., 10., 18.,  7.,  3.,  5., 46., 11.,  5.,  9.,  7.,  5.,\n",
    "          7.,  1., 24.,  1.,  9.,  1.,  5.,  6., 13., 11., 12.,  6.,\n",
    "          5., 13.,  2., 10., 61., 25.],\n",
    "        [22., 79.,  5., 50., 79., 16., 77., 20., 14., 21., 79., 79.,\n",
    "         59., 32., 57., 30., 69., 53., 27., 79., 79., 79., 67., 34.,\n",
    "         27., 63., 54., 78., 35., 47.]],\n",
    "\n",
    "       [[ 1.,  4.,  5.,  4.,  4., 10.,  9.,  3.,  1.,  7.,  6.,  1.,\n",
    "          5.,  3.,  1.,  2.,  5.,  3.,  5.,  1.,  3.,  8.,  2.,  3.,\n",
    "          1.,  5.,  5.,  2.,  7.,  2.],\n",
    "        [10.,  6.,  3.,  8., 21., 11.,  7.,  7.,  3.,  6.,  8.,  8.,\n",
    "          4.,  2., 13., 10.,  1., 16., 13., 10.,  1., 14.,  2.,  2.,\n",
    "          5., 12.,  2.,  3., 14.,  1.],\n",
    "        [ 8., 40., 29., 73., 35., 69., 25., 19., 76., 26., 49., 22.,\n",
    "         78., 26., 24., 25., 25., 48., 25., 76., 58., 18., 30., 16.,\n",
    "         42., 47., 38., 21., 67., 20.]],\n",
    "\n",
    "       [[ 4.,  6.,  3.,  3.,  3.,  1.,  3.,  2.,  4.,  3.,  3.,  5.,\n",
    "          4.,  2.,  5.,  3.,  4.,  2.,  4.,  3.,  4., 10.,  1., 17.,\n",
    "          6.,  1.,  5.,  3.,  4.,  2.],\n",
    "        [ 2., 10.,  9.,  5.,  2.,  7.,  5.,  3.,  8., 13., 10., 11.,\n",
    "          6.,  5.,  7.,  6.,  6.,  7.,  5.,  3.,  6.,  9.,  7., 14.,\n",
    "          5., 13.,  5.,  7.,  1.,  8.],\n",
    "        [44., 16., 26., 77., 22., 54., 18., 20., 12., 43., 68., 79.,\n",
    "         13., 71., 47., 79., 18., 29., 58., 44., 23., 16., 39., 18.,\n",
    "         79., 79., 25., 33., 76., 28.]]])\n",
    "\n",
    "\n",
    "idx = np.where(n_matrix_copy == 79)\n",
    "n_matrix_copy[idx] = np.nan"
   ]
  },
  {
   "cell_type": "code",
   "execution_count": 279,
   "id": "9f59865a-5c6e-4ef6-8547-4bfee2324802",
   "metadata": {},
   "outputs": [
    {
     "data": {
      "image/png": "[encoded data removed]",
      "text/plain": [
       "<Figure size 1080x864 with 6 Axes>"
      ]
     },
     "metadata": {
      "needs_background": "light"
     },
     "output_type": "display_data"
    }
   ],
   "source": [
    "jitter_labels = ['0.005', '0.01', '0.02']\n",
    "\n",
    "plt.figure(figsize=(15,12))\n",
    "for i in range(3):\n",
    "        plt.subplot(2, 3, i+1)\n",
    "        plt.title('Jitter: '+jitter_labels[i])\n",
    "        plt.plot(p_range, np.count_nonzero(n_matrix_copy[:,i] > 0, axis=1)/30)\n",
    "        plt.ylim([0,1.05])\n",
    "        plt.margins(y=1)\n",
    "        plt.ylabel('Accuracy')\n",
    "    \n",
    "for i in range(3):        \n",
    "    plt.subplot(2, 3, i+4)\n",
    "    plt.title('Jitter: '+jitter_labels[i])\n",
    "    plt.plot(p_range, np.nanmean(n_matrix_copy[:,i], axis=1)+1)\n",
    "    plt.ylim(0, 80)\n",
    "    plt.xticks(np.arange(0.1, 1, 0.1))\n",
    "    plt.xlabel('Probability of sequence')\n",
    "    plt.ylabel('Trials')\n",
    "    plt.fill_between(p_range, np.nanmean(n_matrix_copy[:,i], axis=1)+np.nanstd(n_matrix_copy[:,i], axis=1), np.nanmean(n_matrix_copy[:,i], axis=1)-np.nanstd(n_matrix_copy[:,i], axis=1), alpha=0.2)\n",
    "\n",
    "    \n",
    "plt.savefig('Figure4.svg')\n",
    "plt.savefig('Figure4.jpg')\n",
    "plt.show()"
   ]
  },
  {
   "cell_type": "markdown",
   "id": "7770cc49-be26-4312-b29e-d187cb39ba8f",
   "metadata": {},
   "source": [
    "# Undershooting and overshooting sequence window length"
   ]
  },
  {
   "cell_type": "code",
   "execution_count": 23,
   "id": "b460656b-44eb-4c20-88d8-e7ccf56050bc",
   "metadata": {},
   "outputs": [
    {
     "name": "stdout",
     "output_type": "stream",
     "text": [
      "0\n",
      "1\n",
      "2\n"
     ]
    }
   ],
   "source": [
    "seq_t_window = np.linspace(-40, 150, 25)\n",
    "seq_time = 1000\n",
    "seq_window = 50\n",
    "n_simulations = 10\n",
    "p_window = [0.8, 0.5, 0.2]\n",
    "jitter_range = [0.005, 0.01, 0.02]\n",
    "p_ = np.zeros([n_simulations, len(seq_t_window), 3])\n",
    "URI_ = np.zeros([n_simulations, len(seq_t_window), 3])\n",
    "trials = 30\n",
    "\n",
    "for noise in range(3):\n",
    "    p_sequence = p_window[noise]\n",
    "    jitter = jitter_range[noise]\n",
    "    for n in range(n_simulations):\n",
    "        nr_in_sequence = np.random.randint(2, 11)\n",
    "        spk_matrix, spk_matrix_cut, sorted_seq = sim_event_locked_sequence(neurons, trials, duration, jitter, nr_in_sequence, seq_window, seq_time, p_sequence)\n",
    "        \n",
    "        for it, t in enumerate(seq_t_window):\n",
    "            URI, URI_p_val, occurrence_matrix = event_locked_seq(spk_matrix, seq_time, seq_window+int(t), 100)\n",
    "            p_[n, it, noise] = URI_p_val     \n",
    "            URI_[n, it, noise] = URI"
   ]
  },
  {
   "cell_type": "code",
   "execution_count": 1,
   "id": "4a889b50-14a1-4296-80cc-3804acc1705b",
   "metadata": {},
   "outputs": [
    {
     "ename": "NameError",
     "evalue": "name 'plt' is not defined",
     "output_type": "error",
     "traceback": [
      "\u001b[1;31m---------------------------------------------------------------------------\u001b[0m",
      "\u001b[1;31mNameError\u001b[0m                                 Traceback (most recent call last)",
      "Cell \u001b[1;32mIn[1], line 1\u001b[0m\n\u001b[1;32m----> 1\u001b[0m fig \u001b[38;5;241m=\u001b[39m \u001b[43mplt\u001b[49m\u001b[38;5;241m.\u001b[39mfigure(figsize\u001b[38;5;241m=\u001b[39m(\u001b[38;5;241m15\u001b[39m,\u001b[38;5;241m7\u001b[39m))\n\u001b[0;32m      2\u001b[0m plt\u001b[38;5;241m.\u001b[39msubplot(\u001b[38;5;241m1\u001b[39m, \u001b[38;5;241m2\u001b[39m, \u001b[38;5;241m1\u001b[39m)\n\u001b[0;32m      3\u001b[0m plt\u001b[38;5;241m.\u001b[39mplot(seq_t_window, np\u001b[38;5;241m.\u001b[39mmean(p_[:,:,\u001b[38;5;241m0\u001b[39m], axis\u001b[38;5;241m=\u001b[39m\u001b[38;5;241m0\u001b[39m), label \u001b[38;5;241m=\u001b[39m \u001b[38;5;124m'\u001b[39m\u001b[38;5;124mLow noise\u001b[39m\u001b[38;5;124m'\u001b[39m, lw\u001b[38;5;241m=\u001b[39m\u001b[38;5;241m2\u001b[39m)\n",
      "\u001b[1;31mNameError\u001b[0m: name 'plt' is not defined"
     ]
    }
   ],
   "source": [
    "fig = plt.figure(figsize=(15,7))\n",
    "plt.subplot(1, 2, 1)\n",
    "plt.plot(seq_t_window, np.mean(p_[:,:,0], axis=0), label = 'Low noise', lw=2)\n",
    "plt.plot(seq_t_window, np.mean(p_[:,:,1], axis=0), label = 'Moderate noise', lw=2)\n",
    "plt.plot(seq_t_window, np.mean(p_[:,:,2], axis=0), label = 'High noise', lw=2)\n",
    "plt.xticks([-40, 0, 40, 80, 120, 160])\n",
    "plt.hlines(y=0.05, xmin=-40, xmax=seq_t_window[-1], ls='--', color='k', alpha=0.3, label='p = 0.05')\n",
    "plt.legend()\n",
    "plt.margins(x=0)\n",
    "plt.ylim(0,1)\n",
    "plt.xlabel('Sequence duration - time window (ms)')\n",
    "plt.ylabel('P-value')\n",
    "\n",
    "\n",
    "plt.subplot(1, 2, 2)\n",
    "plt.plot(seq_t_window, np.mean(URI_[:,:,0], axis=0),label = 'Low noise', lw=3)\n",
    "plt.plot(seq_t_window, np.mean(URI_[:,:,1], axis=0),label = 'Moderate noise', lw=3)\n",
    "plt.plot(seq_t_window, np.mean(URI_[:,:,2], axis=0),label = 'High noise', lw=3)\n",
    "plt.ylabel('MI')\n",
    "plt.xlabel('Sequence duration - time window (ms)')\n",
    "plt.xticks([-40, 0, 40, 80, 120, 160])\n",
    "ylims=plt.ylim()\n",
    "plt.vlines(x=0, ymin=ylims[0], ymax=ylims[1], linestyle='--', color='k', alpha=0.3)\n",
    "plt.margins(x=0)\n",
    "plt.margins(y=0)\n",
    "\n",
    "plt.show()"
   ]
  },
  {
   "cell_type": "markdown",
   "id": "e67e45f8-9b18-4254-bdf0-6c89d046ffb2",
   "metadata": {},
   "source": [
    "# Sequence recovery: testing the algorithm"
   ]
  },
  {
   "cell_type": "code",
   "execution_count": 32,
   "id": "97ae103f-da3c-4cb8-a54d-51a7bd8bb7e8",
   "metadata": {},
   "outputs": [],
   "source": [
    "def MI_decrease(ranks, neurons):\n",
    "    \"\"\"\n",
    "    Function made by Pepijn van den Berg.\n",
    "    Calculates all the MIs after pruning each neuron individually.\n",
    "    Input: \n",
    "    - ranks           : the ranks of all the trials\n",
    "    - neurons         : a list of all neurons\n",
    "\n",
    "    Output:\n",
    "    - MIs_sorted      : all MIs after pruning, sorted\n",
    "    - neurons_sorted  : all neurons, sorted on their MI after pruning\n",
    "    \"\"\"\n",
    "    # Calculate MI before pruning\n",
    "    baseline_MI = MI(firing_ranks2occ_matrix(ranks))\n",
    "    \n",
    "    MIs = np.zeros(len(neurons))\n",
    "    \n",
    "    # Prune each neuron individually from the original ranks and calculate MI\n",
    "    for ineuron, neuron in enumerate(neurons):\n",
    "        ranks_candidate, MI_candidate = cut_ranks(ranks, neuron)\n",
    "        MIs[ineuron] = MI_candidate\n",
    "\n",
    "    # Sort the MIs based on their decrease\n",
    "    MIs_sorted = baseline_MI - np.sort(MIs)\n",
    "\n",
    "    # Sort the neurons according to their decrease  (larger decreases resemble a higher likelihood to be part of the sequence)\n",
    "    neurons_sorted = np.array(neurons)[np.argsort(MIs)]\n",
    "    return MIs_sorted, neurons_sorted\n",
    "\n",
    "def construct_sequence(ranks, n_neurons, n_surrogates, threshold=0.05, mode=\"max\", max_neurons=10): \n",
    "    \"\"\"\n",
    "    Function made by Pepijn van den Berg.\n",
    "    Constructs the sequence, by filtering out insignificant neurons and subsequently ordering on either the mean or mode rank.\n",
    "    Input:\n",
    "    - ranks          :  the ranks of all the trials.\n",
    "    - n_neurons      :  the total number of neurons in the data.\n",
    "    - n_surrogates   :  the number of surrogates used for testing significance of individual neurons\n",
    "    - prudence :        value between 0 and 1. the higher, the more the algorithm prefers low sequence lengths. \n",
    "                        high prudence is especially recommended when prioritizing precision over recall.\n",
    "    - mode           :  either \"mean\" or \"max\". decides how the significant neurons are ordered to find sequence order.\n",
    "    - max_neurons    :  the maximum sequence length. \n",
    "\n",
    "    Output:\n",
    "    - sequence             :  a list containing the ordered sequence\n",
    "    \"\"\"\n",
    "\n",
    "    # Find MIs with the largest decrease after pruning the neurons individually\n",
    "    MIs, seq_neurons = MI_decrease(ranks, range(n_neurons))\n",
    "    MIs = MIs[:max_neurons]\n",
    "    seq_neurons = seq_neurons[:max_neurons]\n",
    "    \n",
    "    MIs_surrogate = np.zeros([n_surrogates, max_neurons])\n",
    "\n",
    "    # Keep track of total number of surrogates that have a larger MI decrease after pruning the x'th most significant neuron\n",
    "    for s in range(n_surrogates):\n",
    "        for ineuron in range(max_neurons):\n",
    "            print(seq_neurons[ineuron])\n",
    "            surrogate = surrogate_ranks(ranks, seq_neurons[ineuron])\n",
    "            occ = firing_ranks2occ_matrix(surrogate)\n",
    "            MIs_surrogate[s, ineuron] = MI(firing_ranks2occ_matrix(surrogate)) - cut_ranks(surrogate, seq_neurons[ineuron])[1]\n",
    "\n",
    "    insignificant = np.array([np.count_nonzero(MIs_surrogate[:,ineuron]>=MIs[ineuron])/n_surrogates > threshold for ineuron in range(max_neurons)], dtype=int)\n",
    "    ratios = [np.count_nonzero(MIs_surrogate[:,ineuron]>=MIs[ineuron])/n_surrogates for ineuron in range(max_neurons)]\n",
    "    \n",
    "    if len(np.where(insignificant==0)[0])>0:\n",
    "        seq_neurons = seq_neurons[np.where(insignificant==0)[0]]\n",
    "    else:\n",
    "        seq_neurons = seq_neurons[:3]\n",
    "    \n",
    "    \n",
    "    occ_matrix = firing_ranks2occ_matrix(ranks)\n",
    "    \n",
    "    # Compute mean and maximum ranks\n",
    "    mean_ranks = np.zeros(len(seq_neurons))\n",
    "    max_ranks = np.zeros(len(seq_neurons))\n",
    "    for ineuron, neuron in enumerate(seq_neurons):        \n",
    "        mean_ranks[ineuron] = np.mean(occ_matrix[neuron,:]*np.arange(occ_matrix.shape[1]))\n",
    "        max_ranks[ineuron] = np.argmax(occ_matrix[neuron,:])\n",
    "\n",
    "    # Sort the sequence neurons\n",
    "    if mode == \"mean\":\n",
    "        sequence = np.array(seq_neurons)[np.argsort(mean_ranks)]\n",
    "    else: \n",
    "        sequence = np.array(seq_neurons)[np.argsort(max_ranks)]\n",
    "\n",
    "    # Create the template\n",
    "    template = np.zeros([occ_matrix.shape[0], occ_matrix.shape[0]])\n",
    "\n",
    "    for rank, neuron in enumerate(sequence):\n",
    "        template[neuron, rank] = 1\n",
    "\n",
    "    # Create the null-template\n",
    "    null_template = np.zeros([occ_matrix.shape[0], occ_matrix.shape[0]])\n",
    "    null_template[sequence,:len(sequence)] = 1/len(sequence)\n",
    "\n",
    "    return sequence, template, null_template, MIs, MIs_surrogate, ratios\n",
    "\n",
    "def cut_ranks(ranks, neuron):\n",
    "    \"\"\"\n",
    "    Function made by Pepijn van den Berg.\n",
    "    Prunes the ranks by removing the specified neuron out of all trial ranks, and replacing them with np.nan.\n",
    "    The cut rank-matrix is returned, as well as its mutual information.\n",
    "    \"\"\"\n",
    "    pruned_ranks = np.zeros([ranks.shape[0], ranks.shape[1]])\n",
    "    for itrial in range(ranks.shape[0]):\n",
    "        trial = list(ranks[itrial])\n",
    "        if neuron in trial:\n",
    "            trial.remove(neuron)\n",
    "            trial.append(np.nan)\n",
    "        pruned_ranks[itrial] = trial    \n",
    "    return pruned_ranks, MI(firing_ranks2occ_matrix(pruned_ranks))\n",
    "\n",
    "def surrogate_ranks(firing_ranks, neuron): \n",
    "    \"\"\"\n",
    "    Function made by Pepijn van den Berg.\n",
    "    Surrogate ranks are created by randomly shuffling the ranks of all spikes of the given neuron. \n",
    "    The sequential information of all other neurons remain untouched.\n",
    "    \"\"\"\n",
    "    ranks = np.zeros([firing_ranks.shape[0], firing_ranks.shape[1]])\n",
    "    \n",
    "    for itrial, trial in enumerate(firing_ranks):\n",
    "        if np.any(trial==neuron):\n",
    "            trial_list = list(trial)\n",
    "            spike_indices = np.sort(np.where(trial==neuron)[0],)[::-1]\n",
    "            \n",
    "            for spike_idx in spike_indices:\n",
    "                trial_list.pop(spike_idx)      \n",
    "            for spk in range(len(spike_indices)):\n",
    "                ivalid = np.where(~np.isnan(trial))[0]\n",
    "                n_slots = len(ivalid)+1\n",
    "                new_rank = np.random.randint(n_slots)\n",
    "                trial_list.insert(new_rank, neuron)\n",
    "            ranks[itrial,:] = np.array(trial_list)\n",
    "        else:\n",
    "            ranks[itrial,:] = firing_ranks[itrial]\n",
    "    return ranks\n",
    "    "
   ]
  },
  {
   "cell_type": "code",
   "execution_count": 31,
   "id": "a9e929fa-ca15-4452-bcbc-3d42025c3810",
   "metadata": {},
   "outputs": [
    {
     "name": "stdout",
     "output_type": "stream",
     "text": [
      "Sequence: [ 2 18 42 29]\n"
     ]
    },
    {
     "data": {
      "image/png": "[encoded data removed]",
      "text/plain": [
       "<Figure size 432x288 with 1 Axes>"
      ]
     },
     "metadata": {
      "needs_background": "light"
     },
     "output_type": "display_data"
    },
    {
     "name": "stdout",
     "output_type": "stream",
     "text": [
      "2\n"
     ]
    },
    {
     "data": {
      "image/png": "[encoded data removed]",
      "text/plain": [
       "<Figure size 432x288 with 1 Axes>"
      ]
     },
     "metadata": {
      "needs_background": "light"
     },
     "output_type": "display_data"
    }
   ],
   "source": [
    "p_sequence=0.8\n",
    "jitter=0.005\n",
    "trials=100\n",
    "nr_in_sequence = 4\n",
    "seq_window=30\n",
    "spk_matrix, spk_matrix_cut, sorted_seq = sim_event_locked_sequence(neurons, trials, duration, jitter, nr_in_sequence, seq_window*5, seq_time, p_sequence)\n",
    "\n",
    "print(\"Sequence:\", sorted_seq)\n",
    "\n",
    "# Find the rank and occ matrix \n",
    "ranks = firing_ranks_spkmatrix(spk_matrix_cut)   \n",
    "occ_matrix = firing_ranks2occ_matrix(ranks)\n",
    "\n",
    "plt.figure()\n",
    "plt.imshow(sort_occ_matrix(occ_matrix)[0], aspect='auto')\n",
    "plt.yticks(range(sort_occ_matrix(occ_matrix)[0].shape[0]), sort_occ_matrix(occ_matrix)[2][sort_occ_matrix(occ_matrix)[1]])\n",
    "plt.savefig('ExampleOcc.svg')\n",
    "plt.show()\n",
    "sequence, template, null_template, MIs, MIs_surrogate, ratios = construct_sequence(ranks, neurons, 100, threshold=0.05, mode=\"max\", max_neurons=10)"
   ]
  },
  {
   "cell_type": "code",
   "execution_count": 99,
   "id": "17d72af1-fbd9-41b3-a013-474d25f517e4",
   "metadata": {},
   "outputs": [
    {
     "data": {
      "text/plain": [
       "array([29,  4, 18])"
      ]
     },
     "execution_count": 99,
     "metadata": {},
     "output_type": "execute_result"
    }
   ],
   "source": [
    "sequence"
   ]
  },
  {
   "cell_type": "code",
   "execution_count": 105,
   "id": "bb97ad80-82f9-4004-ad54-189f296d56f4",
   "metadata": {},
   "outputs": [],
   "source": [
    "neurons = 60\n",
    "trials = 30\n",
    "duration = 2 # In seconds\n",
    "jitter = 0.0 # Amount of noise for the exact spiking times of the neurons in the sequence\n",
    "seq_window = 50 # In ms\n",
    "seq_time = 1000 # At what time the sequence is elicited (in ms)\n",
    "p_sequence = 1\n",
    "nr_in_sequence = 3\n",
    "\n"
   ]
  },
  {
   "cell_type": "code",
   "execution_count": 107,
   "id": "ceb8bfa2-d0b6-4037-bd1b-da23b138b953",
   "metadata": {},
   "outputs": [
    {
     "name": "stdout",
     "output_type": "stream",
     "text": [
      "Actual sequence: [ 0 11 14]\n"
     ]
    },
    {
     "name": "stderr",
     "output_type": "stream",
     "text": [
      "C:\\Users\\pepij\\anaconda3\\lib\\site-packages\\numpy\\core\\fromnumeric.py:3464: RuntimeWarning: Mean of empty slice.\n",
      "  return _methods._mean(a, axis=axis, dtype=dtype,\n",
      "C:\\Users\\pepij\\anaconda3\\lib\\site-packages\\numpy\\core\\_methods.py:192: RuntimeWarning: invalid value encountered in scalar divide\n",
      "  ret = ret.dtype.type(ret / rcount)\n"
     ]
    },
    {
     "name": "stdout",
     "output_type": "stream",
     "text": [
      "Predicted sequence: [ 0 11 14]\n",
      "Actual sequence: [29 11 16 23  3  5]\n"
     ]
    },
    {
     "name": "stderr",
     "output_type": "stream",
     "text": [
      "C:\\Users\\pepij\\anaconda3\\lib\\site-packages\\numpy\\core\\fromnumeric.py:3464: RuntimeWarning: Mean of empty slice.\n",
      "  return _methods._mean(a, axis=axis, dtype=dtype,\n",
      "C:\\Users\\pepij\\anaconda3\\lib\\site-packages\\numpy\\core\\_methods.py:192: RuntimeWarning: invalid value encountered in scalar divide\n",
      "  ret = ret.dtype.type(ret / rcount)\n"
     ]
    },
    {
     "name": "stdout",
     "output_type": "stream",
     "text": [
      "Predicted sequence: [11 16  5 23  3]\n",
      "Actual sequence: [ 5  7 20 13 21  6  8  3 17]\n"
     ]
    },
    {
     "name": "stderr",
     "output_type": "stream",
     "text": [
      "C:\\Users\\pepij\\anaconda3\\lib\\site-packages\\numpy\\core\\fromnumeric.py:3464: RuntimeWarning: Mean of empty slice.\n",
      "  return _methods._mean(a, axis=axis, dtype=dtype,\n",
      "C:\\Users\\pepij\\anaconda3\\lib\\site-packages\\numpy\\core\\_methods.py:192: RuntimeWarning: invalid value encountered in scalar divide\n",
      "  ret = ret.dtype.type(ret / rcount)\n"
     ]
    },
    {
     "name": "stdout",
     "output_type": "stream",
     "text": [
      "Predicted sequence: [ 7 13 21  6 20  8  3 17]\n",
      "Actual sequence: [18 22 15]\n"
     ]
    },
    {
     "name": "stderr",
     "output_type": "stream",
     "text": [
      "C:\\Users\\pepij\\anaconda3\\lib\\site-packages\\numpy\\core\\fromnumeric.py:3464: RuntimeWarning: Mean of empty slice.\n",
      "  return _methods._mean(a, axis=axis, dtype=dtype,\n",
      "C:\\Users\\pepij\\anaconda3\\lib\\site-packages\\numpy\\core\\_methods.py:192: RuntimeWarning: invalid value encountered in scalar divide\n",
      "  ret = ret.dtype.type(ret / rcount)\n"
     ]
    },
    {
     "name": "stdout",
     "output_type": "stream",
     "text": [
      "Predicted sequence: [18 22]\n",
      "Actual sequence: [18  2  0 27 28 22]\n"
     ]
    },
    {
     "name": "stderr",
     "output_type": "stream",
     "text": [
      "C:\\Users\\pepij\\anaconda3\\lib\\site-packages\\numpy\\core\\fromnumeric.py:3464: RuntimeWarning: Mean of empty slice.\n",
      "  return _methods._mean(a, axis=axis, dtype=dtype,\n",
      "C:\\Users\\pepij\\anaconda3\\lib\\site-packages\\numpy\\core\\_methods.py:192: RuntimeWarning: invalid value encountered in scalar divide\n",
      "  ret = ret.dtype.type(ret / rcount)\n"
     ]
    },
    {
     "name": "stdout",
     "output_type": "stream",
     "text": [
      "Predicted sequence: [18  2]\n",
      "Actual sequence: [ 5 21  0 15  4 17 23 12  9]\n"
     ]
    },
    {
     "name": "stderr",
     "output_type": "stream",
     "text": [
      "C:\\Users\\pepij\\anaconda3\\lib\\site-packages\\numpy\\core\\fromnumeric.py:3464: RuntimeWarning: Mean of empty slice.\n",
      "  return _methods._mean(a, axis=axis, dtype=dtype,\n",
      "C:\\Users\\pepij\\anaconda3\\lib\\site-packages\\numpy\\core\\_methods.py:192: RuntimeWarning: invalid value encountered in scalar divide\n",
      "  ret = ret.dtype.type(ret / rcount)\n"
     ]
    },
    {
     "name": "stdout",
     "output_type": "stream",
     "text": [
      "Predicted sequence: [21 15  4 17 12  9]\n",
      "Actual sequence: [ 9  8 18]\n"
     ]
    },
    {
     "name": "stderr",
     "output_type": "stream",
     "text": [
      "C:\\Users\\pepij\\anaconda3\\lib\\site-packages\\numpy\\core\\fromnumeric.py:3464: RuntimeWarning: Mean of empty slice.\n",
      "  return _methods._mean(a, axis=axis, dtype=dtype,\n",
      "C:\\Users\\pepij\\anaconda3\\lib\\site-packages\\numpy\\core\\_methods.py:192: RuntimeWarning: invalid value encountered in scalar divide\n",
      "  ret = ret.dtype.type(ret / rcount)\n"
     ]
    },
    {
     "name": "stdout",
     "output_type": "stream",
     "text": [
      "Predicted sequence: [9]\n",
      "Actual sequence: [ 2 17  6 26  4 19]\n"
     ]
    },
    {
     "name": "stderr",
     "output_type": "stream",
     "text": [
      "C:\\Users\\pepij\\anaconda3\\lib\\site-packages\\numpy\\core\\fromnumeric.py:3464: RuntimeWarning: Mean of empty slice.\n",
      "  return _methods._mean(a, axis=axis, dtype=dtype,\n",
      "C:\\Users\\pepij\\anaconda3\\lib\\site-packages\\numpy\\core\\_methods.py:192: RuntimeWarning: invalid value encountered in scalar divide\n",
      "  ret = ret.dtype.type(ret / rcount)\n"
     ]
    },
    {
     "name": "stdout",
     "output_type": "stream",
     "text": [
      "Predicted sequence: [ 2 17  6 26 19]\n",
      "Actual sequence: [ 3  2 11  4 26  0 15 13 16]\n"
     ]
    },
    {
     "name": "stderr",
     "output_type": "stream",
     "text": [
      "C:\\Users\\pepij\\anaconda3\\lib\\site-packages\\numpy\\core\\fromnumeric.py:3464: RuntimeWarning: Mean of empty slice.\n",
      "  return _methods._mean(a, axis=axis, dtype=dtype,\n",
      "C:\\Users\\pepij\\anaconda3\\lib\\site-packages\\numpy\\core\\_methods.py:192: RuntimeWarning: invalid value encountered in scalar divide\n",
      "  ret = ret.dtype.type(ret / rcount)\n"
     ]
    },
    {
     "name": "stdout",
     "output_type": "stream",
     "text": [
      "Predicted sequence: [11  4 16]\n",
      "Actual sequence: [ 0  8 10]\n"
     ]
    },
    {
     "name": "stderr",
     "output_type": "stream",
     "text": [
      "C:\\Users\\pepij\\anaconda3\\lib\\site-packages\\numpy\\core\\fromnumeric.py:3464: RuntimeWarning: Mean of empty slice.\n",
      "  return _methods._mean(a, axis=axis, dtype=dtype,\n",
      "C:\\Users\\pepij\\anaconda3\\lib\\site-packages\\numpy\\core\\_methods.py:192: RuntimeWarning: invalid value encountered in scalar divide\n",
      "  ret = ret.dtype.type(ret / rcount)\n"
     ]
    },
    {
     "name": "stdout",
     "output_type": "stream",
     "text": [
      "Predicted sequence: [13 27 20]\n",
      "Actual sequence: [26 19  6 27 13 17]\n"
     ]
    },
    {
     "name": "stderr",
     "output_type": "stream",
     "text": [
      "C:\\Users\\pepij\\anaconda3\\lib\\site-packages\\numpy\\core\\fromnumeric.py:3464: RuntimeWarning: Mean of empty slice.\n",
      "  return _methods._mean(a, axis=axis, dtype=dtype,\n",
      "C:\\Users\\pepij\\anaconda3\\lib\\site-packages\\numpy\\core\\_methods.py:192: RuntimeWarning: invalid value encountered in scalar divide\n",
      "  ret = ret.dtype.type(ret / rcount)\n"
     ]
    },
    {
     "name": "stdout",
     "output_type": "stream",
     "text": [
      "Predicted sequence: [19 17 27]\n",
      "Actual sequence: [11 28 13 21 10  6 29 24 14]\n"
     ]
    },
    {
     "name": "stderr",
     "output_type": "stream",
     "text": [
      "C:\\Users\\pepij\\anaconda3\\lib\\site-packages\\numpy\\core\\fromnumeric.py:3464: RuntimeWarning: Mean of empty slice.\n",
      "  return _methods._mean(a, axis=axis, dtype=dtype,\n",
      "C:\\Users\\pepij\\anaconda3\\lib\\site-packages\\numpy\\core\\_methods.py:192: RuntimeWarning: invalid value encountered in scalar divide\n",
      "  ret = ret.dtype.type(ret / rcount)\n"
     ]
    },
    {
     "name": "stdout",
     "output_type": "stream",
     "text": [
      "Predicted sequence: [10 29 14]\n"
     ]
    },
    {
     "data": {
      "image/png": "[encoded data removed]",
      "text/plain": [
       "<Figure size 1080x1080 with 12 Axes>"
      ]
     },
     "metadata": {
      "needs_background": "light"
     },
     "output_type": "display_data"
    }
   ],
   "source": [
    "seq_lengths = [3, 6, 9]\n",
    "\n",
    "p_window = [1, 0.8, 0.5, 0.3]\n",
    "jitter_window = [0, 0.005, 0.01, 0.02]\n",
    "threshold=0.05\n",
    "\n",
    "plt.figure(figsize=(15,15))\n",
    "for noise in range(4):\n",
    "    p_sequence = p_window[noise]\n",
    "    jitter = jitter_window[noise]\n",
    "    for nr_in_sequence in seq_lengths:\n",
    "        \n",
    "        spk_matrix, spk_matrix_cut, sorted_seq = sim_event_locked_sequence(neurons, trials, duration, jitter, nr_in_sequence, seq_window, seq_time, p_sequence)\n",
    "        spk_matrix_cut = spk_matrix[:,:,seq_time:seq_time+seq_window] \n",
    "        print(\"Actual sequence:\", sorted_seq)\n",
    "        \n",
    "        # Find the rank and occ matrix \n",
    "        ranks = firing_ranks_spkmatrix(spk_matrix_cut)   \n",
    "        occ_matrix = firing_ranks2occ_matrix(ranks)\n",
    "    \n",
    "        sequence, template, null_template, MIs, MIs_surrogate, ratios = construct_sequence(ranks, neurons, 150, threshold=threshold, mode=\"max\", max_neurons=25)\n",
    "    \n",
    "        print(\"Predicted sequence:\",sequence)\n",
    "        \n",
    "        plt.subplot(4, 3, int(noise*3+int(nr_in_sequence/3)))\n",
    "        plt.plot(np.mean(MIs_surrogate, axis=0), label='Surrogates')\n",
    "        plt.fill_between(range(0, MIs_surrogate.shape[1]), np.mean(MIs_surrogate, axis=0) - np.std(MIs_surrogate, axis=0), np.mean(MIs_surrogate, axis=0) + np.std(MIs_surrogate, axis=0), color='#888888', alpha=0.4)\n",
    "        plt.plot(MIs, 'o')\n",
    "        plt.title('n = ' + str(int(nr_in_sequence)))\n",
    "        plt.xlabel('Neuron')\n",
    "        plt.ylabel('Decrease in MI')\n",
    "plt.savefig('Figure6.svg')\n",
    "plt.savefig('Figure6.jpg')\n",
    "plt.show()"
   ]
  },
  {
   "cell_type": "code",
   "execution_count": 110,
   "id": "3e4dfe40-3c1f-4979-93c9-e7e02e40c0fc",
   "metadata": {},
   "outputs": [],
   "source": [
    "neurons = 60\n",
    "trials = 30\n",
    "duration = 2 # In seconds\n",
    "seq_window = 50 # In ms\n",
    "seq_time = 1000 # At what time the sequence is elicited (in ms)\n",
    "n_simulations = 20"
   ]
  },
  {
   "cell_type": "code",
   "execution_count": 113,
   "id": "3b32a5b3-5adb-4e68-b037-bf44adac04f2",
   "metadata": {},
   "outputs": [
    {
     "name": "stdout",
     "output_type": "stream",
     "text": [
      "0\n",
      "0\n"
     ]
    },
    {
     "name": "stderr",
     "output_type": "stream",
     "text": [
      "C:\\Users\\pepij\\anaconda3\\lib\\site-packages\\numpy\\core\\fromnumeric.py:3464: RuntimeWarning: Mean of empty slice.\n",
      "  return _methods._mean(a, axis=axis, dtype=dtype,\n",
      "C:\\Users\\pepij\\anaconda3\\lib\\site-packages\\numpy\\core\\_methods.py:192: RuntimeWarning: invalid value encountered in scalar divide\n",
      "  ret = ret.dtype.type(ret / rcount)\n"
     ]
    },
    {
     "name": "stdout",
     "output_type": "stream",
     "text": [
      "1\n"
     ]
    },
    {
     "name": "stderr",
     "output_type": "stream",
     "text": [
      "C:\\Users\\pepij\\anaconda3\\lib\\site-packages\\numpy\\core\\fromnumeric.py:3464: RuntimeWarning: Mean of empty slice.\n",
      "  return _methods._mean(a, axis=axis, dtype=dtype,\n",
      "C:\\Users\\pepij\\anaconda3\\lib\\site-packages\\numpy\\core\\_methods.py:192: RuntimeWarning: invalid value encountered in scalar divide\n",
      "  ret = ret.dtype.type(ret / rcount)\n"
     ]
    },
    {
     "name": "stdout",
     "output_type": "stream",
     "text": [
      "2\n"
     ]
    },
    {
     "name": "stderr",
     "output_type": "stream",
     "text": [
      "C:\\Users\\pepij\\anaconda3\\lib\\site-packages\\numpy\\core\\fromnumeric.py:3464: RuntimeWarning: Mean of empty slice.\n",
      "  return _methods._mean(a, axis=axis, dtype=dtype,\n",
      "C:\\Users\\pepij\\anaconda3\\lib\\site-packages\\numpy\\core\\_methods.py:192: RuntimeWarning: invalid value encountered in scalar divide\n",
      "  ret = ret.dtype.type(ret / rcount)\n"
     ]
    },
    {
     "name": "stdout",
     "output_type": "stream",
     "text": [
      "3\n"
     ]
    },
    {
     "name": "stderr",
     "output_type": "stream",
     "text": [
      "C:\\Users\\pepij\\anaconda3\\lib\\site-packages\\numpy\\core\\fromnumeric.py:3464: RuntimeWarning: Mean of empty slice.\n",
      "  return _methods._mean(a, axis=axis, dtype=dtype,\n",
      "C:\\Users\\pepij\\anaconda3\\lib\\site-packages\\numpy\\core\\_methods.py:192: RuntimeWarning: invalid value encountered in scalar divide\n",
      "  ret = ret.dtype.type(ret / rcount)\n"
     ]
    },
    {
     "name": "stdout",
     "output_type": "stream",
     "text": [
      "4\n"
     ]
    },
    {
     "name": "stderr",
     "output_type": "stream",
     "text": [
      "C:\\Users\\pepij\\anaconda3\\lib\\site-packages\\numpy\\core\\fromnumeric.py:3464: RuntimeWarning: Mean of empty slice.\n",
      "  return _methods._mean(a, axis=axis, dtype=dtype,\n",
      "C:\\Users\\pepij\\anaconda3\\lib\\site-packages\\numpy\\core\\_methods.py:192: RuntimeWarning: invalid value encountered in scalar divide\n",
      "  ret = ret.dtype.type(ret / rcount)\n"
     ]
    },
    {
     "name": "stdout",
     "output_type": "stream",
     "text": [
      "5\n"
     ]
    },
    {
     "name": "stderr",
     "output_type": "stream",
     "text": [
      "C:\\Users\\pepij\\anaconda3\\lib\\site-packages\\numpy\\core\\fromnumeric.py:3464: RuntimeWarning: Mean of empty slice.\n",
      "  return _methods._mean(a, axis=axis, dtype=dtype,\n",
      "C:\\Users\\pepij\\anaconda3\\lib\\site-packages\\numpy\\core\\_methods.py:192: RuntimeWarning: invalid value encountered in scalar divide\n",
      "  ret = ret.dtype.type(ret / rcount)\n"
     ]
    },
    {
     "name": "stdout",
     "output_type": "stream",
     "text": [
      "6\n"
     ]
    },
    {
     "name": "stderr",
     "output_type": "stream",
     "text": [
      "C:\\Users\\pepij\\anaconda3\\lib\\site-packages\\numpy\\core\\fromnumeric.py:3464: RuntimeWarning: Mean of empty slice.\n",
      "  return _methods._mean(a, axis=axis, dtype=dtype,\n",
      "C:\\Users\\pepij\\anaconda3\\lib\\site-packages\\numpy\\core\\_methods.py:192: RuntimeWarning: invalid value encountered in scalar divide\n",
      "  ret = ret.dtype.type(ret / rcount)\n"
     ]
    },
    {
     "name": "stdout",
     "output_type": "stream",
     "text": [
      "7\n"
     ]
    },
    {
     "name": "stderr",
     "output_type": "stream",
     "text": [
      "C:\\Users\\pepij\\anaconda3\\lib\\site-packages\\numpy\\core\\fromnumeric.py:3464: RuntimeWarning: Mean of empty slice.\n",
      "  return _methods._mean(a, axis=axis, dtype=dtype,\n",
      "C:\\Users\\pepij\\anaconda3\\lib\\site-packages\\numpy\\core\\_methods.py:192: RuntimeWarning: invalid value encountered in scalar divide\n",
      "  ret = ret.dtype.type(ret / rcount)\n"
     ]
    },
    {
     "name": "stdout",
     "output_type": "stream",
     "text": [
      "8\n"
     ]
    },
    {
     "name": "stderr",
     "output_type": "stream",
     "text": [
      "C:\\Users\\pepij\\anaconda3\\lib\\site-packages\\numpy\\core\\fromnumeric.py:3464: RuntimeWarning: Mean of empty slice.\n",
      "  return _methods._mean(a, axis=axis, dtype=dtype,\n",
      "C:\\Users\\pepij\\anaconda3\\lib\\site-packages\\numpy\\core\\_methods.py:192: RuntimeWarning: invalid value encountered in scalar divide\n",
      "  ret = ret.dtype.type(ret / rcount)\n"
     ]
    },
    {
     "name": "stdout",
     "output_type": "stream",
     "text": [
      "9\n"
     ]
    },
    {
     "name": "stderr",
     "output_type": "stream",
     "text": [
      "C:\\Users\\pepij\\anaconda3\\lib\\site-packages\\numpy\\core\\fromnumeric.py:3464: RuntimeWarning: Mean of empty slice.\n",
      "  return _methods._mean(a, axis=axis, dtype=dtype,\n",
      "C:\\Users\\pepij\\anaconda3\\lib\\site-packages\\numpy\\core\\_methods.py:192: RuntimeWarning: invalid value encountered in scalar divide\n",
      "  ret = ret.dtype.type(ret / rcount)\n"
     ]
    },
    {
     "name": "stdout",
     "output_type": "stream",
     "text": [
      "10\n"
     ]
    },
    {
     "name": "stderr",
     "output_type": "stream",
     "text": [
      "C:\\Users\\pepij\\anaconda3\\lib\\site-packages\\numpy\\core\\fromnumeric.py:3464: RuntimeWarning: Mean of empty slice.\n",
      "  return _methods._mean(a, axis=axis, dtype=dtype,\n",
      "C:\\Users\\pepij\\anaconda3\\lib\\site-packages\\numpy\\core\\_methods.py:192: RuntimeWarning: invalid value encountered in scalar divide\n",
      "  ret = ret.dtype.type(ret / rcount)\n"
     ]
    },
    {
     "name": "stdout",
     "output_type": "stream",
     "text": [
      "11\n"
     ]
    },
    {
     "name": "stderr",
     "output_type": "stream",
     "text": [
      "C:\\Users\\pepij\\anaconda3\\lib\\site-packages\\numpy\\core\\fromnumeric.py:3464: RuntimeWarning: Mean of empty slice.\n",
      "  return _methods._mean(a, axis=axis, dtype=dtype,\n",
      "C:\\Users\\pepij\\anaconda3\\lib\\site-packages\\numpy\\core\\_methods.py:192: RuntimeWarning: invalid value encountered in scalar divide\n",
      "  ret = ret.dtype.type(ret / rcount)\n"
     ]
    },
    {
     "name": "stdout",
     "output_type": "stream",
     "text": [
      "12\n"
     ]
    },
    {
     "name": "stderr",
     "output_type": "stream",
     "text": [
      "C:\\Users\\pepij\\anaconda3\\lib\\site-packages\\numpy\\core\\fromnumeric.py:3464: RuntimeWarning: Mean of empty slice.\n",
      "  return _methods._mean(a, axis=axis, dtype=dtype,\n",
      "C:\\Users\\pepij\\anaconda3\\lib\\site-packages\\numpy\\core\\_methods.py:192: RuntimeWarning: invalid value encountered in scalar divide\n",
      "  ret = ret.dtype.type(ret / rcount)\n"
     ]
    },
    {
     "name": "stdout",
     "output_type": "stream",
     "text": [
      "13\n"
     ]
    },
    {
     "name": "stderr",
     "output_type": "stream",
     "text": [
      "C:\\Users\\pepij\\anaconda3\\lib\\site-packages\\numpy\\core\\fromnumeric.py:3464: RuntimeWarning: Mean of empty slice.\n",
      "  return _methods._mean(a, axis=axis, dtype=dtype,\n",
      "C:\\Users\\pepij\\anaconda3\\lib\\site-packages\\numpy\\core\\_methods.py:192: RuntimeWarning: invalid value encountered in scalar divide\n",
      "  ret = ret.dtype.type(ret / rcount)\n"
     ]
    },
    {
     "name": "stdout",
     "output_type": "stream",
     "text": [
      "14\n"
     ]
    },
    {
     "name": "stderr",
     "output_type": "stream",
     "text": [
      "C:\\Users\\pepij\\anaconda3\\lib\\site-packages\\numpy\\core\\fromnumeric.py:3464: RuntimeWarning: Mean of empty slice.\n",
      "  return _methods._mean(a, axis=axis, dtype=dtype,\n",
      "C:\\Users\\pepij\\anaconda3\\lib\\site-packages\\numpy\\core\\_methods.py:192: RuntimeWarning: invalid value encountered in scalar divide\n",
      "  ret = ret.dtype.type(ret / rcount)\n"
     ]
    },
    {
     "name": "stdout",
     "output_type": "stream",
     "text": [
      "15\n"
     ]
    },
    {
     "name": "stderr",
     "output_type": "stream",
     "text": [
      "C:\\Users\\pepij\\anaconda3\\lib\\site-packages\\numpy\\core\\fromnumeric.py:3464: RuntimeWarning: Mean of empty slice.\n",
      "  return _methods._mean(a, axis=axis, dtype=dtype,\n",
      "C:\\Users\\pepij\\anaconda3\\lib\\site-packages\\numpy\\core\\_methods.py:192: RuntimeWarning: invalid value encountered in scalar divide\n",
      "  ret = ret.dtype.type(ret / rcount)\n"
     ]
    },
    {
     "name": "stdout",
     "output_type": "stream",
     "text": [
      "16\n"
     ]
    },
    {
     "name": "stderr",
     "output_type": "stream",
     "text": [
      "C:\\Users\\pepij\\anaconda3\\lib\\site-packages\\numpy\\core\\fromnumeric.py:3464: RuntimeWarning: Mean of empty slice.\n",
      "  return _methods._mean(a, axis=axis, dtype=dtype,\n",
      "C:\\Users\\pepij\\anaconda3\\lib\\site-packages\\numpy\\core\\_methods.py:192: RuntimeWarning: invalid value encountered in scalar divide\n",
      "  ret = ret.dtype.type(ret / rcount)\n"
     ]
    },
    {
     "name": "stdout",
     "output_type": "stream",
     "text": [
      "17\n"
     ]
    },
    {
     "name": "stderr",
     "output_type": "stream",
     "text": [
      "C:\\Users\\pepij\\anaconda3\\lib\\site-packages\\numpy\\core\\fromnumeric.py:3464: RuntimeWarning: Mean of empty slice.\n",
      "  return _methods._mean(a, axis=axis, dtype=dtype,\n",
      "C:\\Users\\pepij\\anaconda3\\lib\\site-packages\\numpy\\core\\_methods.py:192: RuntimeWarning: invalid value encountered in scalar divide\n",
      "  ret = ret.dtype.type(ret / rcount)\n"
     ]
    },
    {
     "name": "stdout",
     "output_type": "stream",
     "text": [
      "18\n"
     ]
    },
    {
     "name": "stderr",
     "output_type": "stream",
     "text": [
      "C:\\Users\\pepij\\anaconda3\\lib\\site-packages\\numpy\\core\\fromnumeric.py:3464: RuntimeWarning: Mean of empty slice.\n",
      "  return _methods._mean(a, axis=axis, dtype=dtype,\n",
      "C:\\Users\\pepij\\anaconda3\\lib\\site-packages\\numpy\\core\\_methods.py:192: RuntimeWarning: invalid value encountered in scalar divide\n",
      "  ret = ret.dtype.type(ret / rcount)\n"
     ]
    },
    {
     "name": "stdout",
     "output_type": "stream",
     "text": [
      "19\n"
     ]
    },
    {
     "name": "stderr",
     "output_type": "stream",
     "text": [
      "C:\\Users\\pepij\\anaconda3\\lib\\site-packages\\numpy\\core\\fromnumeric.py:3464: RuntimeWarning: Mean of empty slice.\n",
      "  return _methods._mean(a, axis=axis, dtype=dtype,\n",
      "C:\\Users\\pepij\\anaconda3\\lib\\site-packages\\numpy\\core\\_methods.py:192: RuntimeWarning: invalid value encountered in scalar divide\n",
      "  ret = ret.dtype.type(ret / rcount)\n"
     ]
    },
    {
     "data": {
      "text/plain": [
       "<Figure size 432x288 with 0 Axes>"
      ]
     },
     "metadata": {},
     "output_type": "display_data"
    },
    {
     "data": {
      "image/png": "[encoded data removed]",
      "text/plain": [
       "<Figure size 432x288 with 2 Axes>"
      ]
     },
     "metadata": {
      "needs_background": "light"
     },
     "output_type": "display_data"
    },
    {
     "name": "stdout",
     "output_type": "stream",
     "text": [
      "1\n",
      "0\n"
     ]
    },
    {
     "name": "stderr",
     "output_type": "stream",
     "text": [
      "C:\\Users\\pepij\\anaconda3\\lib\\site-packages\\numpy\\core\\fromnumeric.py:3464: RuntimeWarning: Mean of empty slice.\n",
      "  return _methods._mean(a, axis=axis, dtype=dtype,\n",
      "C:\\Users\\pepij\\anaconda3\\lib\\site-packages\\numpy\\core\\_methods.py:192: RuntimeWarning: invalid value encountered in scalar divide\n",
      "  ret = ret.dtype.type(ret / rcount)\n"
     ]
    },
    {
     "name": "stdout",
     "output_type": "stream",
     "text": [
      "1\n"
     ]
    },
    {
     "name": "stderr",
     "output_type": "stream",
     "text": [
      "C:\\Users\\pepij\\anaconda3\\lib\\site-packages\\numpy\\core\\fromnumeric.py:3464: RuntimeWarning: Mean of empty slice.\n",
      "  return _methods._mean(a, axis=axis, dtype=dtype,\n",
      "C:\\Users\\pepij\\anaconda3\\lib\\site-packages\\numpy\\core\\_methods.py:192: RuntimeWarning: invalid value encountered in scalar divide\n",
      "  ret = ret.dtype.type(ret / rcount)\n"
     ]
    },
    {
     "name": "stdout",
     "output_type": "stream",
     "text": [
      "2\n"
     ]
    },
    {
     "name": "stderr",
     "output_type": "stream",
     "text": [
      "C:\\Users\\pepij\\anaconda3\\lib\\site-packages\\numpy\\core\\fromnumeric.py:3464: RuntimeWarning: Mean of empty slice.\n",
      "  return _methods._mean(a, axis=axis, dtype=dtype,\n",
      "C:\\Users\\pepij\\anaconda3\\lib\\site-packages\\numpy\\core\\_methods.py:192: RuntimeWarning: invalid value encountered in scalar divide\n",
      "  ret = ret.dtype.type(ret / rcount)\n"
     ]
    },
    {
     "name": "stdout",
     "output_type": "stream",
     "text": [
      "3\n"
     ]
    },
    {
     "name": "stderr",
     "output_type": "stream",
     "text": [
      "C:\\Users\\pepij\\anaconda3\\lib\\site-packages\\numpy\\core\\fromnumeric.py:3464: RuntimeWarning: Mean of empty slice.\n",
      "  return _methods._mean(a, axis=axis, dtype=dtype,\n",
      "C:\\Users\\pepij\\anaconda3\\lib\\site-packages\\numpy\\core\\_methods.py:192: RuntimeWarning: invalid value encountered in scalar divide\n",
      "  ret = ret.dtype.type(ret / rcount)\n"
     ]
    },
    {
     "name": "stdout",
     "output_type": "stream",
     "text": [
      "4\n"
     ]
    },
    {
     "name": "stderr",
     "output_type": "stream",
     "text": [
      "C:\\Users\\pepij\\anaconda3\\lib\\site-packages\\numpy\\core\\fromnumeric.py:3464: RuntimeWarning: Mean of empty slice.\n",
      "  return _methods._mean(a, axis=axis, dtype=dtype,\n",
      "C:\\Users\\pepij\\anaconda3\\lib\\site-packages\\numpy\\core\\_methods.py:192: RuntimeWarning: invalid value encountered in scalar divide\n",
      "  ret = ret.dtype.type(ret / rcount)\n"
     ]
    },
    {
     "name": "stdout",
     "output_type": "stream",
     "text": [
      "5\n"
     ]
    },
    {
     "name": "stderr",
     "output_type": "stream",
     "text": [
      "C:\\Users\\pepij\\anaconda3\\lib\\site-packages\\numpy\\core\\fromnumeric.py:3464: RuntimeWarning: Mean of empty slice.\n",
      "  return _methods._mean(a, axis=axis, dtype=dtype,\n",
      "C:\\Users\\pepij\\anaconda3\\lib\\site-packages\\numpy\\core\\_methods.py:192: RuntimeWarning: invalid value encountered in scalar divide\n",
      "  ret = ret.dtype.type(ret / rcount)\n"
     ]
    },
    {
     "name": "stdout",
     "output_type": "stream",
     "text": [
      "6\n"
     ]
    },
    {
     "name": "stderr",
     "output_type": "stream",
     "text": [
      "C:\\Users\\pepij\\anaconda3\\lib\\site-packages\\numpy\\core\\fromnumeric.py:3464: RuntimeWarning: Mean of empty slice.\n",
      "  return _methods._mean(a, axis=axis, dtype=dtype,\n",
      "C:\\Users\\pepij\\anaconda3\\lib\\site-packages\\numpy\\core\\_methods.py:192: RuntimeWarning: invalid value encountered in scalar divide\n",
      "  ret = ret.dtype.type(ret / rcount)\n"
     ]
    },
    {
     "name": "stdout",
     "output_type": "stream",
     "text": [
      "7\n"
     ]
    },
    {
     "name": "stderr",
     "output_type": "stream",
     "text": [
      "C:\\Users\\pepij\\anaconda3\\lib\\site-packages\\numpy\\core\\fromnumeric.py:3464: RuntimeWarning: Mean of empty slice.\n",
      "  return _methods._mean(a, axis=axis, dtype=dtype,\n",
      "C:\\Users\\pepij\\anaconda3\\lib\\site-packages\\numpy\\core\\_methods.py:192: RuntimeWarning: invalid value encountered in scalar divide\n",
      "  ret = ret.dtype.type(ret / rcount)\n"
     ]
    },
    {
     "name": "stdout",
     "output_type": "stream",
     "text": [
      "8\n"
     ]
    },
    {
     "name": "stderr",
     "output_type": "stream",
     "text": [
      "C:\\Users\\pepij\\anaconda3\\lib\\site-packages\\numpy\\core\\fromnumeric.py:3464: RuntimeWarning: Mean of empty slice.\n",
      "  return _methods._mean(a, axis=axis, dtype=dtype,\n",
      "C:\\Users\\pepij\\anaconda3\\lib\\site-packages\\numpy\\core\\_methods.py:192: RuntimeWarning: invalid value encountered in scalar divide\n",
      "  ret = ret.dtype.type(ret / rcount)\n"
     ]
    },
    {
     "name": "stdout",
     "output_type": "stream",
     "text": [
      "9\n"
     ]
    },
    {
     "name": "stderr",
     "output_type": "stream",
     "text": [
      "C:\\Users\\pepij\\anaconda3\\lib\\site-packages\\numpy\\core\\fromnumeric.py:3464: RuntimeWarning: Mean of empty slice.\n",
      "  return _methods._mean(a, axis=axis, dtype=dtype,\n",
      "C:\\Users\\pepij\\anaconda3\\lib\\site-packages\\numpy\\core\\_methods.py:192: RuntimeWarning: invalid value encountered in scalar divide\n",
      "  ret = ret.dtype.type(ret / rcount)\n"
     ]
    },
    {
     "name": "stdout",
     "output_type": "stream",
     "text": [
      "10\n"
     ]
    },
    {
     "name": "stderr",
     "output_type": "stream",
     "text": [
      "C:\\Users\\pepij\\anaconda3\\lib\\site-packages\\numpy\\core\\fromnumeric.py:3464: RuntimeWarning: Mean of empty slice.\n",
      "  return _methods._mean(a, axis=axis, dtype=dtype,\n",
      "C:\\Users\\pepij\\anaconda3\\lib\\site-packages\\numpy\\core\\_methods.py:192: RuntimeWarning: invalid value encountered in scalar divide\n",
      "  ret = ret.dtype.type(ret / rcount)\n"
     ]
    },
    {
     "name": "stdout",
     "output_type": "stream",
     "text": [
      "11\n"
     ]
    },
    {
     "name": "stderr",
     "output_type": "stream",
     "text": [
      "C:\\Users\\pepij\\anaconda3\\lib\\site-packages\\numpy\\core\\fromnumeric.py:3464: RuntimeWarning: Mean of empty slice.\n",
      "  return _methods._mean(a, axis=axis, dtype=dtype,\n",
      "C:\\Users\\pepij\\anaconda3\\lib\\site-packages\\numpy\\core\\_methods.py:192: RuntimeWarning: invalid value encountered in scalar divide\n",
      "  ret = ret.dtype.type(ret / rcount)\n"
     ]
    },
    {
     "name": "stdout",
     "output_type": "stream",
     "text": [
      "12\n"
     ]
    },
    {
     "name": "stderr",
     "output_type": "stream",
     "text": [
      "C:\\Users\\pepij\\anaconda3\\lib\\site-packages\\numpy\\core\\fromnumeric.py:3464: RuntimeWarning: Mean of empty slice.\n",
      "  return _methods._mean(a, axis=axis, dtype=dtype,\n",
      "C:\\Users\\pepij\\anaconda3\\lib\\site-packages\\numpy\\core\\_methods.py:192: RuntimeWarning: invalid value encountered in scalar divide\n",
      "  ret = ret.dtype.type(ret / rcount)\n"
     ]
    },
    {
     "name": "stdout",
     "output_type": "stream",
     "text": [
      "13\n"
     ]
    },
    {
     "name": "stderr",
     "output_type": "stream",
     "text": [
      "C:\\Users\\pepij\\anaconda3\\lib\\site-packages\\numpy\\core\\fromnumeric.py:3464: RuntimeWarning: Mean of empty slice.\n",
      "  return _methods._mean(a, axis=axis, dtype=dtype,\n",
      "C:\\Users\\pepij\\anaconda3\\lib\\site-packages\\numpy\\core\\_methods.py:192: RuntimeWarning: invalid value encountered in scalar divide\n",
      "  ret = ret.dtype.type(ret / rcount)\n"
     ]
    },
    {
     "name": "stdout",
     "output_type": "stream",
     "text": [
      "14\n"
     ]
    },
    {
     "name": "stderr",
     "output_type": "stream",
     "text": [
      "C:\\Users\\pepij\\anaconda3\\lib\\site-packages\\numpy\\core\\fromnumeric.py:3464: RuntimeWarning: Mean of empty slice.\n",
      "  return _methods._mean(a, axis=axis, dtype=dtype,\n",
      "C:\\Users\\pepij\\anaconda3\\lib\\site-packages\\numpy\\core\\_methods.py:192: RuntimeWarning: invalid value encountered in scalar divide\n",
      "  ret = ret.dtype.type(ret / rcount)\n"
     ]
    },
    {
     "name": "stdout",
     "output_type": "stream",
     "text": [
      "15\n"
     ]
    },
    {
     "name": "stderr",
     "output_type": "stream",
     "text": [
      "C:\\Users\\pepij\\anaconda3\\lib\\site-packages\\numpy\\core\\fromnumeric.py:3464: RuntimeWarning: Mean of empty slice.\n",
      "  return _methods._mean(a, axis=axis, dtype=dtype,\n",
      "C:\\Users\\pepij\\anaconda3\\lib\\site-packages\\numpy\\core\\_methods.py:192: RuntimeWarning: invalid value encountered in scalar divide\n",
      "  ret = ret.dtype.type(ret / rcount)\n"
     ]
    },
    {
     "name": "stdout",
     "output_type": "stream",
     "text": [
      "16\n"
     ]
    },
    {
     "name": "stderr",
     "output_type": "stream",
     "text": [
      "C:\\Users\\pepij\\anaconda3\\lib\\site-packages\\numpy\\core\\fromnumeric.py:3464: RuntimeWarning: Mean of empty slice.\n",
      "  return _methods._mean(a, axis=axis, dtype=dtype,\n",
      "C:\\Users\\pepij\\anaconda3\\lib\\site-packages\\numpy\\core\\_methods.py:192: RuntimeWarning: invalid value encountered in scalar divide\n",
      "  ret = ret.dtype.type(ret / rcount)\n"
     ]
    },
    {
     "name": "stdout",
     "output_type": "stream",
     "text": [
      "17\n"
     ]
    },
    {
     "name": "stderr",
     "output_type": "stream",
     "text": [
      "C:\\Users\\pepij\\anaconda3\\lib\\site-packages\\numpy\\core\\fromnumeric.py:3464: RuntimeWarning: Mean of empty slice.\n",
      "  return _methods._mean(a, axis=axis, dtype=dtype,\n",
      "C:\\Users\\pepij\\anaconda3\\lib\\site-packages\\numpy\\core\\_methods.py:192: RuntimeWarning: invalid value encountered in scalar divide\n",
      "  ret = ret.dtype.type(ret / rcount)\n"
     ]
    },
    {
     "name": "stdout",
     "output_type": "stream",
     "text": [
      "18\n"
     ]
    },
    {
     "name": "stderr",
     "output_type": "stream",
     "text": [
      "C:\\Users\\pepij\\anaconda3\\lib\\site-packages\\numpy\\core\\fromnumeric.py:3464: RuntimeWarning: Mean of empty slice.\n",
      "  return _methods._mean(a, axis=axis, dtype=dtype,\n",
      "C:\\Users\\pepij\\anaconda3\\lib\\site-packages\\numpy\\core\\_methods.py:192: RuntimeWarning: invalid value encountered in scalar divide\n",
      "  ret = ret.dtype.type(ret / rcount)\n"
     ]
    },
    {
     "name": "stdout",
     "output_type": "stream",
     "text": [
      "19\n"
     ]
    },
    {
     "name": "stderr",
     "output_type": "stream",
     "text": [
      "C:\\Users\\pepij\\anaconda3\\lib\\site-packages\\numpy\\core\\fromnumeric.py:3464: RuntimeWarning: Mean of empty slice.\n",
      "  return _methods._mean(a, axis=axis, dtype=dtype,\n",
      "C:\\Users\\pepij\\anaconda3\\lib\\site-packages\\numpy\\core\\_methods.py:192: RuntimeWarning: invalid value encountered in scalar divide\n",
      "  ret = ret.dtype.type(ret / rcount)\n"
     ]
    },
    {
     "data": {
      "text/plain": [
       "<Figure size 432x288 with 0 Axes>"
      ]
     },
     "metadata": {},
     "output_type": "display_data"
    },
    {
     "data": {
      "image/png": "[encoded data removed]",
      "text/plain": [
       "<Figure size 432x288 with 2 Axes>"
      ]
     },
     "metadata": {
      "needs_background": "light"
     },
     "output_type": "display_data"
    },
    {
     "name": "stdout",
     "output_type": "stream",
     "text": [
      "2\n",
      "0\n"
     ]
    },
    {
     "name": "stderr",
     "output_type": "stream",
     "text": [
      "C:\\Users\\pepij\\anaconda3\\lib\\site-packages\\numpy\\core\\fromnumeric.py:3464: RuntimeWarning: Mean of empty slice.\n",
      "  return _methods._mean(a, axis=axis, dtype=dtype,\n",
      "C:\\Users\\pepij\\anaconda3\\lib\\site-packages\\numpy\\core\\_methods.py:192: RuntimeWarning: invalid value encountered in scalar divide\n",
      "  ret = ret.dtype.type(ret / rcount)\n"
     ]
    },
    {
     "name": "stdout",
     "output_type": "stream",
     "text": [
      "1\n"
     ]
    },
    {
     "name": "stderr",
     "output_type": "stream",
     "text": [
      "C:\\Users\\pepij\\anaconda3\\lib\\site-packages\\numpy\\core\\fromnumeric.py:3464: RuntimeWarning: Mean of empty slice.\n",
      "  return _methods._mean(a, axis=axis, dtype=dtype,\n",
      "C:\\Users\\pepij\\anaconda3\\lib\\site-packages\\numpy\\core\\_methods.py:192: RuntimeWarning: invalid value encountered in scalar divide\n",
      "  ret = ret.dtype.type(ret / rcount)\n"
     ]
    },
    {
     "name": "stdout",
     "output_type": "stream",
     "text": [
      "2\n"
     ]
    },
    {
     "name": "stderr",
     "output_type": "stream",
     "text": [
      "C:\\Users\\pepij\\anaconda3\\lib\\site-packages\\numpy\\core\\fromnumeric.py:3464: RuntimeWarning: Mean of empty slice.\n",
      "  return _methods._mean(a, axis=axis, dtype=dtype,\n",
      "C:\\Users\\pepij\\anaconda3\\lib\\site-packages\\numpy\\core\\_methods.py:192: RuntimeWarning: invalid value encountered in scalar divide\n",
      "  ret = ret.dtype.type(ret / rcount)\n"
     ]
    },
    {
     "name": "stdout",
     "output_type": "stream",
     "text": [
      "3\n"
     ]
    },
    {
     "name": "stderr",
     "output_type": "stream",
     "text": [
      "C:\\Users\\pepij\\anaconda3\\lib\\site-packages\\numpy\\core\\fromnumeric.py:3464: RuntimeWarning: Mean of empty slice.\n",
      "  return _methods._mean(a, axis=axis, dtype=dtype,\n",
      "C:\\Users\\pepij\\anaconda3\\lib\\site-packages\\numpy\\core\\_methods.py:192: RuntimeWarning: invalid value encountered in scalar divide\n",
      "  ret = ret.dtype.type(ret / rcount)\n"
     ]
    },
    {
     "name": "stdout",
     "output_type": "stream",
     "text": [
      "4\n"
     ]
    },
    {
     "name": "stderr",
     "output_type": "stream",
     "text": [
      "C:\\Users\\pepij\\anaconda3\\lib\\site-packages\\numpy\\core\\fromnumeric.py:3464: RuntimeWarning: Mean of empty slice.\n",
      "  return _methods._mean(a, axis=axis, dtype=dtype,\n",
      "C:\\Users\\pepij\\anaconda3\\lib\\site-packages\\numpy\\core\\_methods.py:192: RuntimeWarning: invalid value encountered in scalar divide\n",
      "  ret = ret.dtype.type(ret / rcount)\n"
     ]
    },
    {
     "name": "stdout",
     "output_type": "stream",
     "text": [
      "5\n"
     ]
    },
    {
     "name": "stderr",
     "output_type": "stream",
     "text": [
      "C:\\Users\\pepij\\anaconda3\\lib\\site-packages\\numpy\\core\\fromnumeric.py:3464: RuntimeWarning: Mean of empty slice.\n",
      "  return _methods._mean(a, axis=axis, dtype=dtype,\n",
      "C:\\Users\\pepij\\anaconda3\\lib\\site-packages\\numpy\\core\\_methods.py:192: RuntimeWarning: invalid value encountered in scalar divide\n",
      "  ret = ret.dtype.type(ret / rcount)\n"
     ]
    },
    {
     "name": "stdout",
     "output_type": "stream",
     "text": [
      "6\n"
     ]
    },
    {
     "name": "stderr",
     "output_type": "stream",
     "text": [
      "C:\\Users\\pepij\\anaconda3\\lib\\site-packages\\numpy\\core\\fromnumeric.py:3464: RuntimeWarning: Mean of empty slice.\n",
      "  return _methods._mean(a, axis=axis, dtype=dtype,\n",
      "C:\\Users\\pepij\\anaconda3\\lib\\site-packages\\numpy\\core\\_methods.py:192: RuntimeWarning: invalid value encountered in scalar divide\n",
      "  ret = ret.dtype.type(ret / rcount)\n"
     ]
    },
    {
     "name": "stdout",
     "output_type": "stream",
     "text": [
      "7\n"
     ]
    },
    {
     "name": "stderr",
     "output_type": "stream",
     "text": [
      "C:\\Users\\pepij\\anaconda3\\lib\\site-packages\\numpy\\core\\fromnumeric.py:3464: RuntimeWarning: Mean of empty slice.\n",
      "  return _methods._mean(a, axis=axis, dtype=dtype,\n",
      "C:\\Users\\pepij\\anaconda3\\lib\\site-packages\\numpy\\core\\_methods.py:192: RuntimeWarning: invalid value encountered in scalar divide\n",
      "  ret = ret.dtype.type(ret / rcount)\n"
     ]
    },
    {
     "name": "stdout",
     "output_type": "stream",
     "text": [
      "8\n"
     ]
    },
    {
     "name": "stderr",
     "output_type": "stream",
     "text": [
      "C:\\Users\\pepij\\anaconda3\\lib\\site-packages\\numpy\\core\\fromnumeric.py:3464: RuntimeWarning: Mean of empty slice.\n",
      "  return _methods._mean(a, axis=axis, dtype=dtype,\n",
      "C:\\Users\\pepij\\anaconda3\\lib\\site-packages\\numpy\\core\\_methods.py:192: RuntimeWarning: invalid value encountered in scalar divide\n",
      "  ret = ret.dtype.type(ret / rcount)\n"
     ]
    },
    {
     "name": "stdout",
     "output_type": "stream",
     "text": [
      "9\n"
     ]
    },
    {
     "name": "stderr",
     "output_type": "stream",
     "text": [
      "C:\\Users\\pepij\\anaconda3\\lib\\site-packages\\numpy\\core\\fromnumeric.py:3464: RuntimeWarning: Mean of empty slice.\n",
      "  return _methods._mean(a, axis=axis, dtype=dtype,\n",
      "C:\\Users\\pepij\\anaconda3\\lib\\site-packages\\numpy\\core\\_methods.py:192: RuntimeWarning: invalid value encountered in scalar divide\n",
      "  ret = ret.dtype.type(ret / rcount)\n"
     ]
    },
    {
     "name": "stdout",
     "output_type": "stream",
     "text": [
      "10\n"
     ]
    },
    {
     "name": "stderr",
     "output_type": "stream",
     "text": [
      "C:\\Users\\pepij\\anaconda3\\lib\\site-packages\\numpy\\core\\fromnumeric.py:3464: RuntimeWarning: Mean of empty slice.\n",
      "  return _methods._mean(a, axis=axis, dtype=dtype,\n",
      "C:\\Users\\pepij\\anaconda3\\lib\\site-packages\\numpy\\core\\_methods.py:192: RuntimeWarning: invalid value encountered in scalar divide\n",
      "  ret = ret.dtype.type(ret / rcount)\n"
     ]
    },
    {
     "name": "stdout",
     "output_type": "stream",
     "text": [
      "11\n"
     ]
    },
    {
     "name": "stderr",
     "output_type": "stream",
     "text": [
      "C:\\Users\\pepij\\anaconda3\\lib\\site-packages\\numpy\\core\\fromnumeric.py:3464: RuntimeWarning: Mean of empty slice.\n",
      "  return _methods._mean(a, axis=axis, dtype=dtype,\n",
      "C:\\Users\\pepij\\anaconda3\\lib\\site-packages\\numpy\\core\\_methods.py:192: RuntimeWarning: invalid value encountered in scalar divide\n",
      "  ret = ret.dtype.type(ret / rcount)\n"
     ]
    },
    {
     "name": "stdout",
     "output_type": "stream",
     "text": [
      "12\n"
     ]
    },
    {
     "name": "stderr",
     "output_type": "stream",
     "text": [
      "C:\\Users\\pepij\\anaconda3\\lib\\site-packages\\numpy\\core\\fromnumeric.py:3464: RuntimeWarning: Mean of empty slice.\n",
      "  return _methods._mean(a, axis=axis, dtype=dtype,\n",
      "C:\\Users\\pepij\\anaconda3\\lib\\site-packages\\numpy\\core\\_methods.py:192: RuntimeWarning: invalid value encountered in scalar divide\n",
      "  ret = ret.dtype.type(ret / rcount)\n"
     ]
    },
    {
     "name": "stdout",
     "output_type": "stream",
     "text": [
      "13\n"
     ]
    },
    {
     "name": "stderr",
     "output_type": "stream",
     "text": [
      "C:\\Users\\pepij\\anaconda3\\lib\\site-packages\\numpy\\core\\fromnumeric.py:3464: RuntimeWarning: Mean of empty slice.\n",
      "  return _methods._mean(a, axis=axis, dtype=dtype,\n",
      "C:\\Users\\pepij\\anaconda3\\lib\\site-packages\\numpy\\core\\_methods.py:192: RuntimeWarning: invalid value encountered in scalar divide\n",
      "  ret = ret.dtype.type(ret / rcount)\n"
     ]
    },
    {
     "name": "stdout",
     "output_type": "stream",
     "text": [
      "14\n"
     ]
    },
    {
     "name": "stderr",
     "output_type": "stream",
     "text": [
      "C:\\Users\\pepij\\anaconda3\\lib\\site-packages\\numpy\\core\\fromnumeric.py:3464: RuntimeWarning: Mean of empty slice.\n",
      "  return _methods._mean(a, axis=axis, dtype=dtype,\n",
      "C:\\Users\\pepij\\anaconda3\\lib\\site-packages\\numpy\\core\\_methods.py:192: RuntimeWarning: invalid value encountered in scalar divide\n",
      "  ret = ret.dtype.type(ret / rcount)\n"
     ]
    },
    {
     "name": "stdout",
     "output_type": "stream",
     "text": [
      "15\n"
     ]
    },
    {
     "name": "stderr",
     "output_type": "stream",
     "text": [
      "C:\\Users\\pepij\\anaconda3\\lib\\site-packages\\numpy\\core\\fromnumeric.py:3464: RuntimeWarning: Mean of empty slice.\n",
      "  return _methods._mean(a, axis=axis, dtype=dtype,\n",
      "C:\\Users\\pepij\\anaconda3\\lib\\site-packages\\numpy\\core\\_methods.py:192: RuntimeWarning: invalid value encountered in scalar divide\n",
      "  ret = ret.dtype.type(ret / rcount)\n"
     ]
    },
    {
     "name": "stdout",
     "output_type": "stream",
     "text": [
      "16\n"
     ]
    },
    {
     "name": "stderr",
     "output_type": "stream",
     "text": [
      "C:\\Users\\pepij\\anaconda3\\lib\\site-packages\\numpy\\core\\fromnumeric.py:3464: RuntimeWarning: Mean of empty slice.\n",
      "  return _methods._mean(a, axis=axis, dtype=dtype,\n",
      "C:\\Users\\pepij\\anaconda3\\lib\\site-packages\\numpy\\core\\_methods.py:192: RuntimeWarning: invalid value encountered in scalar divide\n",
      "  ret = ret.dtype.type(ret / rcount)\n"
     ]
    },
    {
     "name": "stdout",
     "output_type": "stream",
     "text": [
      "17\n"
     ]
    },
    {
     "name": "stderr",
     "output_type": "stream",
     "text": [
      "C:\\Users\\pepij\\anaconda3\\lib\\site-packages\\numpy\\core\\fromnumeric.py:3464: RuntimeWarning: Mean of empty slice.\n",
      "  return _methods._mean(a, axis=axis, dtype=dtype,\n",
      "C:\\Users\\pepij\\anaconda3\\lib\\site-packages\\numpy\\core\\_methods.py:192: RuntimeWarning: invalid value encountered in scalar divide\n",
      "  ret = ret.dtype.type(ret / rcount)\n"
     ]
    },
    {
     "name": "stdout",
     "output_type": "stream",
     "text": [
      "18\n"
     ]
    },
    {
     "name": "stderr",
     "output_type": "stream",
     "text": [
      "C:\\Users\\pepij\\anaconda3\\lib\\site-packages\\numpy\\core\\fromnumeric.py:3464: RuntimeWarning: Mean of empty slice.\n",
      "  return _methods._mean(a, axis=axis, dtype=dtype,\n",
      "C:\\Users\\pepij\\anaconda3\\lib\\site-packages\\numpy\\core\\_methods.py:192: RuntimeWarning: invalid value encountered in scalar divide\n",
      "  ret = ret.dtype.type(ret / rcount)\n"
     ]
    },
    {
     "name": "stdout",
     "output_type": "stream",
     "text": [
      "19\n"
     ]
    },
    {
     "name": "stderr",
     "output_type": "stream",
     "text": [
      "C:\\Users\\pepij\\anaconda3\\lib\\site-packages\\numpy\\core\\fromnumeric.py:3464: RuntimeWarning: Mean of empty slice.\n",
      "  return _methods._mean(a, axis=axis, dtype=dtype,\n",
      "C:\\Users\\pepij\\anaconda3\\lib\\site-packages\\numpy\\core\\_methods.py:192: RuntimeWarning: invalid value encountered in scalar divide\n",
      "  ret = ret.dtype.type(ret / rcount)\n"
     ]
    },
    {
     "data": {
      "text/plain": [
       "<Figure size 432x288 with 0 Axes>"
      ]
     },
     "metadata": {},
     "output_type": "display_data"
    },
    {
     "data": {
      "image/png": "[encoded data removed]",
      "text/plain": [
       "<Figure size 432x288 with 2 Axes>"
      ]
     },
     "metadata": {
      "needs_background": "light"
     },
     "output_type": "display_data"
    },
    {
     "name": "stdout",
     "output_type": "stream",
     "text": [
      "3\n",
      "0\n"
     ]
    },
    {
     "name": "stderr",
     "output_type": "stream",
     "text": [
      "C:\\Users\\pepij\\anaconda3\\lib\\site-packages\\numpy\\core\\fromnumeric.py:3464: RuntimeWarning: Mean of empty slice.\n",
      "  return _methods._mean(a, axis=axis, dtype=dtype,\n",
      "C:\\Users\\pepij\\anaconda3\\lib\\site-packages\\numpy\\core\\_methods.py:192: RuntimeWarning: invalid value encountered in scalar divide\n",
      "  ret = ret.dtype.type(ret / rcount)\n"
     ]
    },
    {
     "name": "stdout",
     "output_type": "stream",
     "text": [
      "1\n"
     ]
    },
    {
     "name": "stderr",
     "output_type": "stream",
     "text": [
      "C:\\Users\\pepij\\anaconda3\\lib\\site-packages\\numpy\\core\\fromnumeric.py:3464: RuntimeWarning: Mean of empty slice.\n",
      "  return _methods._mean(a, axis=axis, dtype=dtype,\n",
      "C:\\Users\\pepij\\anaconda3\\lib\\site-packages\\numpy\\core\\_methods.py:192: RuntimeWarning: invalid value encountered in scalar divide\n",
      "  ret = ret.dtype.type(ret / rcount)\n"
     ]
    },
    {
     "name": "stdout",
     "output_type": "stream",
     "text": [
      "2\n"
     ]
    },
    {
     "name": "stderr",
     "output_type": "stream",
     "text": [
      "C:\\Users\\pepij\\anaconda3\\lib\\site-packages\\numpy\\core\\fromnumeric.py:3464: RuntimeWarning: Mean of empty slice.\n",
      "  return _methods._mean(a, axis=axis, dtype=dtype,\n",
      "C:\\Users\\pepij\\anaconda3\\lib\\site-packages\\numpy\\core\\_methods.py:192: RuntimeWarning: invalid value encountered in scalar divide\n",
      "  ret = ret.dtype.type(ret / rcount)\n"
     ]
    },
    {
     "name": "stdout",
     "output_type": "stream",
     "text": [
      "3\n"
     ]
    },
    {
     "name": "stderr",
     "output_type": "stream",
     "text": [
      "C:\\Users\\pepij\\anaconda3\\lib\\site-packages\\numpy\\core\\fromnumeric.py:3464: RuntimeWarning: Mean of empty slice.\n",
      "  return _methods._mean(a, axis=axis, dtype=dtype,\n",
      "C:\\Users\\pepij\\anaconda3\\lib\\site-packages\\numpy\\core\\_methods.py:192: RuntimeWarning: invalid value encountered in scalar divide\n",
      "  ret = ret.dtype.type(ret / rcount)\n"
     ]
    },
    {
     "name": "stdout",
     "output_type": "stream",
     "text": [
      "4\n"
     ]
    },
    {
     "name": "stderr",
     "output_type": "stream",
     "text": [
      "C:\\Users\\pepij\\anaconda3\\lib\\site-packages\\numpy\\core\\fromnumeric.py:3464: RuntimeWarning: Mean of empty slice.\n",
      "  return _methods._mean(a, axis=axis, dtype=dtype,\n",
      "C:\\Users\\pepij\\anaconda3\\lib\\site-packages\\numpy\\core\\_methods.py:192: RuntimeWarning: invalid value encountered in scalar divide\n",
      "  ret = ret.dtype.type(ret / rcount)\n"
     ]
    },
    {
     "name": "stdout",
     "output_type": "stream",
     "text": [
      "5\n"
     ]
    },
    {
     "name": "stderr",
     "output_type": "stream",
     "text": [
      "C:\\Users\\pepij\\anaconda3\\lib\\site-packages\\numpy\\core\\fromnumeric.py:3464: RuntimeWarning: Mean of empty slice.\n",
      "  return _methods._mean(a, axis=axis, dtype=dtype,\n",
      "C:\\Users\\pepij\\anaconda3\\lib\\site-packages\\numpy\\core\\_methods.py:192: RuntimeWarning: invalid value encountered in scalar divide\n",
      "  ret = ret.dtype.type(ret / rcount)\n"
     ]
    },
    {
     "name": "stdout",
     "output_type": "stream",
     "text": [
      "6\n"
     ]
    },
    {
     "name": "stderr",
     "output_type": "stream",
     "text": [
      "C:\\Users\\pepij\\anaconda3\\lib\\site-packages\\numpy\\core\\fromnumeric.py:3464: RuntimeWarning: Mean of empty slice.\n",
      "  return _methods._mean(a, axis=axis, dtype=dtype,\n",
      "C:\\Users\\pepij\\anaconda3\\lib\\site-packages\\numpy\\core\\_methods.py:192: RuntimeWarning: invalid value encountered in scalar divide\n",
      "  ret = ret.dtype.type(ret / rcount)\n"
     ]
    },
    {
     "name": "stdout",
     "output_type": "stream",
     "text": [
      "7\n"
     ]
    },
    {
     "name": "stderr",
     "output_type": "stream",
     "text": [
      "C:\\Users\\pepij\\anaconda3\\lib\\site-packages\\numpy\\core\\fromnumeric.py:3464: RuntimeWarning: Mean of empty slice.\n",
      "  return _methods._mean(a, axis=axis, dtype=dtype,\n",
      "C:\\Users\\pepij\\anaconda3\\lib\\site-packages\\numpy\\core\\_methods.py:192: RuntimeWarning: invalid value encountered in scalar divide\n",
      "  ret = ret.dtype.type(ret / rcount)\n"
     ]
    },
    {
     "name": "stdout",
     "output_type": "stream",
     "text": [
      "8\n"
     ]
    },
    {
     "name": "stderr",
     "output_type": "stream",
     "text": [
      "C:\\Users\\pepij\\anaconda3\\lib\\site-packages\\numpy\\core\\fromnumeric.py:3464: RuntimeWarning: Mean of empty slice.\n",
      "  return _methods._mean(a, axis=axis, dtype=dtype,\n",
      "C:\\Users\\pepij\\anaconda3\\lib\\site-packages\\numpy\\core\\_methods.py:192: RuntimeWarning: invalid value encountered in scalar divide\n",
      "  ret = ret.dtype.type(ret / rcount)\n"
     ]
    },
    {
     "name": "stdout",
     "output_type": "stream",
     "text": [
      "9\n"
     ]
    },
    {
     "name": "stderr",
     "output_type": "stream",
     "text": [
      "C:\\Users\\pepij\\anaconda3\\lib\\site-packages\\numpy\\core\\fromnumeric.py:3464: RuntimeWarning: Mean of empty slice.\n",
      "  return _methods._mean(a, axis=axis, dtype=dtype,\n",
      "C:\\Users\\pepij\\anaconda3\\lib\\site-packages\\numpy\\core\\_methods.py:192: RuntimeWarning: invalid value encountered in scalar divide\n",
      "  ret = ret.dtype.type(ret / rcount)\n"
     ]
    },
    {
     "name": "stdout",
     "output_type": "stream",
     "text": [
      "10\n"
     ]
    },
    {
     "name": "stderr",
     "output_type": "stream",
     "text": [
      "C:\\Users\\pepij\\anaconda3\\lib\\site-packages\\numpy\\core\\fromnumeric.py:3464: RuntimeWarning: Mean of empty slice.\n",
      "  return _methods._mean(a, axis=axis, dtype=dtype,\n",
      "C:\\Users\\pepij\\anaconda3\\lib\\site-packages\\numpy\\core\\_methods.py:192: RuntimeWarning: invalid value encountered in scalar divide\n",
      "  ret = ret.dtype.type(ret / rcount)\n"
     ]
    },
    {
     "name": "stdout",
     "output_type": "stream",
     "text": [
      "11\n"
     ]
    },
    {
     "name": "stderr",
     "output_type": "stream",
     "text": [
      "C:\\Users\\pepij\\anaconda3\\lib\\site-packages\\numpy\\core\\fromnumeric.py:3464: RuntimeWarning: Mean of empty slice.\n",
      "  return _methods._mean(a, axis=axis, dtype=dtype,\n",
      "C:\\Users\\pepij\\anaconda3\\lib\\site-packages\\numpy\\core\\_methods.py:192: RuntimeWarning: invalid value encountered in scalar divide\n",
      "  ret = ret.dtype.type(ret / rcount)\n"
     ]
    },
    {
     "name": "stdout",
     "output_type": "stream",
     "text": [
      "12\n"
     ]
    },
    {
     "name": "stderr",
     "output_type": "stream",
     "text": [
      "C:\\Users\\pepij\\anaconda3\\lib\\site-packages\\numpy\\core\\fromnumeric.py:3464: RuntimeWarning: Mean of empty slice.\n",
      "  return _methods._mean(a, axis=axis, dtype=dtype,\n",
      "C:\\Users\\pepij\\anaconda3\\lib\\site-packages\\numpy\\core\\_methods.py:192: RuntimeWarning: invalid value encountered in scalar divide\n",
      "  ret = ret.dtype.type(ret / rcount)\n"
     ]
    },
    {
     "name": "stdout",
     "output_type": "stream",
     "text": [
      "13\n"
     ]
    },
    {
     "name": "stderr",
     "output_type": "stream",
     "text": [
      "C:\\Users\\pepij\\anaconda3\\lib\\site-packages\\numpy\\core\\fromnumeric.py:3464: RuntimeWarning: Mean of empty slice.\n",
      "  return _methods._mean(a, axis=axis, dtype=dtype,\n",
      "C:\\Users\\pepij\\anaconda3\\lib\\site-packages\\numpy\\core\\_methods.py:192: RuntimeWarning: invalid value encountered in scalar divide\n",
      "  ret = ret.dtype.type(ret / rcount)\n"
     ]
    },
    {
     "name": "stdout",
     "output_type": "stream",
     "text": [
      "14\n"
     ]
    },
    {
     "name": "stderr",
     "output_type": "stream",
     "text": [
      "C:\\Users\\pepij\\anaconda3\\lib\\site-packages\\numpy\\core\\fromnumeric.py:3464: RuntimeWarning: Mean of empty slice.\n",
      "  return _methods._mean(a, axis=axis, dtype=dtype,\n",
      "C:\\Users\\pepij\\anaconda3\\lib\\site-packages\\numpy\\core\\_methods.py:192: RuntimeWarning: invalid value encountered in scalar divide\n",
      "  ret = ret.dtype.type(ret / rcount)\n"
     ]
    },
    {
     "name": "stdout",
     "output_type": "stream",
     "text": [
      "15\n"
     ]
    },
    {
     "name": "stderr",
     "output_type": "stream",
     "text": [
      "C:\\Users\\pepij\\anaconda3\\lib\\site-packages\\numpy\\core\\fromnumeric.py:3464: RuntimeWarning: Mean of empty slice.\n",
      "  return _methods._mean(a, axis=axis, dtype=dtype,\n",
      "C:\\Users\\pepij\\anaconda3\\lib\\site-packages\\numpy\\core\\_methods.py:192: RuntimeWarning: invalid value encountered in scalar divide\n",
      "  ret = ret.dtype.type(ret / rcount)\n"
     ]
    },
    {
     "name": "stdout",
     "output_type": "stream",
     "text": [
      "16\n"
     ]
    },
    {
     "name": "stderr",
     "output_type": "stream",
     "text": [
      "C:\\Users\\pepij\\anaconda3\\lib\\site-packages\\numpy\\core\\fromnumeric.py:3464: RuntimeWarning: Mean of empty slice.\n",
      "  return _methods._mean(a, axis=axis, dtype=dtype,\n",
      "C:\\Users\\pepij\\anaconda3\\lib\\site-packages\\numpy\\core\\_methods.py:192: RuntimeWarning: invalid value encountered in scalar divide\n",
      "  ret = ret.dtype.type(ret / rcount)\n"
     ]
    },
    {
     "name": "stdout",
     "output_type": "stream",
     "text": [
      "17\n"
     ]
    },
    {
     "name": "stderr",
     "output_type": "stream",
     "text": [
      "C:\\Users\\pepij\\anaconda3\\lib\\site-packages\\numpy\\core\\fromnumeric.py:3464: RuntimeWarning: Mean of empty slice.\n",
      "  return _methods._mean(a, axis=axis, dtype=dtype,\n",
      "C:\\Users\\pepij\\anaconda3\\lib\\site-packages\\numpy\\core\\_methods.py:192: RuntimeWarning: invalid value encountered in scalar divide\n",
      "  ret = ret.dtype.type(ret / rcount)\n"
     ]
    },
    {
     "name": "stdout",
     "output_type": "stream",
     "text": [
      "18\n"
     ]
    },
    {
     "name": "stderr",
     "output_type": "stream",
     "text": [
      "C:\\Users\\pepij\\anaconda3\\lib\\site-packages\\numpy\\core\\fromnumeric.py:3464: RuntimeWarning: Mean of empty slice.\n",
      "  return _methods._mean(a, axis=axis, dtype=dtype,\n",
      "C:\\Users\\pepij\\anaconda3\\lib\\site-packages\\numpy\\core\\_methods.py:192: RuntimeWarning: invalid value encountered in scalar divide\n",
      "  ret = ret.dtype.type(ret / rcount)\n"
     ]
    },
    {
     "name": "stdout",
     "output_type": "stream",
     "text": [
      "19\n"
     ]
    },
    {
     "name": "stderr",
     "output_type": "stream",
     "text": [
      "C:\\Users\\pepij\\anaconda3\\lib\\site-packages\\numpy\\core\\fromnumeric.py:3464: RuntimeWarning: Mean of empty slice.\n",
      "  return _methods._mean(a, axis=axis, dtype=dtype,\n",
      "C:\\Users\\pepij\\anaconda3\\lib\\site-packages\\numpy\\core\\_methods.py:192: RuntimeWarning: invalid value encountered in scalar divide\n",
      "  ret = ret.dtype.type(ret / rcount)\n"
     ]
    },
    {
     "data": {
      "text/plain": [
       "<Figure size 432x288 with 0 Axes>"
      ]
     },
     "metadata": {},
     "output_type": "display_data"
    },
    {
     "data": {
      "image/png": "[encoded data removed]",
      "text/plain": [
       "<Figure size 432x288 with 2 Axes>"
      ]
     },
     "metadata": {
      "needs_background": "light"
     },
     "output_type": "display_data"
    }
   ],
   "source": [
    "### precision = np.zeros(4)\n",
    "recall = np.zeros(4)\n",
    "precision = np.zeros(4)\n",
    "p_window = [1, 0.8, 0.6, 0.4]\n",
    "jitter_range = [0, 0.005, 0.01, 0.02]\n",
    "\n",
    "fig_names_svg = ['Figure7a.svg', 'Figure7b.svg', 'Figure7c.svg', 'Figure7d.svg']\n",
    "fig_names_jpg = ['Figure7a.jpg', 'Figure7b.jpg', 'Figure7c.jpg', 'Figure7d.jpg']\n",
    "\n",
    "\n",
    "for noise in range(4):\n",
    "    full_confusion_matrix = np.zeros([2,2])\n",
    "    jitter=jitter_range[noise]\n",
    "    p_sequence = p_window[noise]\n",
    "    for i in range(n_simulations):\n",
    "        nr_in_sequence = np.random.randint(2,11)\n",
    "        spk_matrix, spk_matrix_cut, sorted_seq = sim_event_locked_sequence(neurons, trials, duration, jitter, nr_in_sequence, seq_window, seq_time, p_sequence)\n",
    "        spk_matrix_cut = spk_matrix[:,:,seq_time:seq_time+seq_window*2] \n",
    "        # Find the rank and occ matrix \n",
    "        ranks = firing_ranks_spkmatrix(spk_matrix_cut)   \n",
    "        occ_matrix = firing_ranks2occ_matrix(ranks)\n",
    "    \n",
    "        sequence, template, null_template, MIs, MIs_surrogate, ratios = construct_sequence(ranks, neurons, 150, threshold=threshold, mode=\"max\", max_neurons=25)\n",
    "    \n",
    "        actual = np.zeros(neurons)\n",
    "        actual[sorted_seq] = 1\n",
    "    \n",
    "        predicted = np.zeros(neurons)\n",
    "        predicted[sequence] = 1\n",
    "    \n",
    "        confusion_matrix = metrics.confusion_matrix(actual, predicted, normalize = None)\n",
    "        full_confusion_matrix += confusion_matrix\n",
    "\n",
    "    precision[noise] = full_confusion_matrix[1,1] / (full_confusion_matrix[0,1]+ full_confusion_matrix[1,1])\n",
    "    recall[noise] = full_confusion_matrix[1,1] / (full_confusion_matrix[1,0]+ full_confusion_matrix[1,1])\n",
    "\n",
    "    plt.figure()\n",
    "    cm_display = metrics.ConfusionMatrixDisplay(confusion_matrix = full_confusion_matrix, display_labels = [0, 1])\n",
    "    cm_display.plot()\n",
    "    plt.savefig(fig_names_svg[noise])\n",
    "    plt.savefig(fig_names_jpg[noise])\n",
    "    plt.show()"
   ]
  },
  {
   "cell_type": "code",
   "execution_count": 115,
   "id": "d8703701-50f1-45b1-9f65-97d4d39f8d3d",
   "metadata": {},
   "outputs": [
    {
     "data": {
      "image/png": "[encoded data removed]",
      "text/plain": [
       "<Figure size 432x288 with 1 Axes>"
      ]
     },
     "metadata": {
      "needs_background": "light"
     },
     "output_type": "display_data"
    }
   ],
   "source": [
    "width=0.3\n",
    "ind = np.arange(4)\n",
    "\n",
    "plt.figure()\n",
    "plt.bar(ind, precision , width, label='Precision')\n",
    "plt.bar(ind + width, recall, width, label='Recall')\n",
    "plt.legend(loc='center left', bbox_to_anchor=(1, 0.5))\n",
    "\n",
    "plt.xlabel(\"Noise\")\n",
    "plt.xticks(ind + width / 2, ('None', 'Low', 'Moderate', 'High'))\n",
    "plt.savefig('Figure7e.svg')\n",
    "plt.savefig('Figure7e.jpg')\n",
    "plt.show()"
   ]
  }
 ],
 "metadata": {
  "kernelspec": {
   "display_name": "Python 3 (ipykernel)",
   "language": "python",
   "name": "python3"
  },
  "language_info": {
   "codemirror_mode": {
    "name": "ipython",
    "version": 3
   },
   "file_extension": ".py",
   "mimetype": "text/x-python",
   "name": "python",
   "nbconvert_exporter": "python",
   "pygments_lexer": "ipython3",
   "version": "3.9.7"
  }
 },
 "nbformat": 4,
 "nbformat_minor": 5
}
