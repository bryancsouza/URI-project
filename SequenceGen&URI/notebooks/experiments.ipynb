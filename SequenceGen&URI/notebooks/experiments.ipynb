{
 "cells": [
  {
   "cell_type": "code",
   "execution_count": 1,
   "id": "5197a6ec-5473-4531-9b39-f1296c546653",
   "metadata": {},
   "outputs": [
    {
     "name": "stderr",
     "output_type": "stream",
     "text": [
      "C:\\Users\\tomha\\anaconda3\\envs\\BSC\\lib\\site-packages\\numba\\core\\decorators.py:282: RuntimeWarning: nopython is set for njit and is ignored\n",
      "  warnings.warn('nopython is set for njit and is ignored', RuntimeWarning)\n",
      "C:\\Users\\tomha\\OneDrive\\Bureaublad\\BSC Thesis\\Analysis\\spikeship\\spikeship.py:254: NumbaDeprecationWarning: \u001b[1mThe 'nopython' keyword argument was not supplied to the 'numba.jit' decorator. The implicit default value for this argument is currently False, but it will be changed to True in Numba 0.59.0. See https://numba.readthedocs.io/en/stable/reference/deprecation.html#deprecation-of-object-mode-fall-back-behaviour-when-using-jit for details.\u001b[0m\n",
      "  @jit(int32(int32, int32))\n"
     ]
    }
   ],
   "source": [
    "import numpy as np\n",
    "import SequenceGen\n",
    "import URI_tl\n",
    "import URI_ntl\n",
    "import matplotlib.pyplot as plt\n",
    "from tqdm.notebook import tqdm\n",
    "import spikeship.spikeship as spikeship\n",
    "from scipy.stats import ttest_ind"
   ]
  },
  {
   "cell_type": "code",
   "execution_count": 2,
   "id": "e45337fa-819c-45ad-9c40-ebdc10b87fe0",
   "metadata": {},
   "outputs": [],
   "source": [
    "def convert_spike_timing(spikes_neuron_trial):\n",
    "    nr_trials = spikes_neuron_trial.shape[0]\n",
    "    nr_neurons = spikes_neuron_trial.shape[1]\n",
    "    ii_spike_times = np.empty((nr_trials, nr_neurons, 2))\n",
    "    spike_times = []\n",
    "    idx = 0\n",
    "    for trial in range(nr_trials):\n",
    "        for channel in range(nr_neurons):\n",
    "            spikes = spikes_neuron_trial[trial, channel]\n",
    "            spike_times.extend(spikes)\n",
    "            ii_spike_times[trial, channel, 0] = idx\n",
    "            idx += len(spikes)\n",
    "            ii_spike_times[trial, channel, 1] = idx\n",
    "    spike_times = np.array(spike_times)\n",
    "    return spike_times, ii_spike_times"
   ]
  },
  {
   "cell_type": "markdown",
   "id": "9d0bd8da-1d8a-4ebf-95f9-d7f2ad6d909d",
   "metadata": {},
   "source": [
    "# Time-locked"
   ]
  },
  {
   "cell_type": "code",
   "execution_count": 3,
   "id": "2a77a9be-9a67-44e0-9c63-caf3c7a36b5c",
   "metadata": {},
   "outputs": [],
   "source": [
    "# Parameters for experiment\n",
    "\n",
    "# To add?\n",
    "# Probability of having a sequence (<=1)\n",
    "# Probability of detecting a spike in the sequence (<=1) a.k.a. partial sequence\n",
    "\n",
    "# Constant\n",
    "nr_neurons = 50\n",
    "FR_var = 0. # Spikeship ttest does not work if FR_var > 0 \n",
    "trial_len = 0.1\n",
    "seq_len = 0.04\n",
    "mean_delay = 0.03 # (timing of sequence relative to trial)\n",
    "\n",
    "# Variable\n",
    "nr_trials = np.arange(10, 300)\n",
    "neurons_in_seq = np.arange(2, 15)\n",
    "jitter = np.linspace(0, 0.05, 100)\n",
    "delay_var = np.linspace(0, 0.03, 100)\n",
    "avg_FR = np.linspace(2, 25, 100)\n",
    "\n",
    "# Default parameters\n",
    "nr_trials_ = 100\n",
    "neurons_in_seq_ = 5\n",
    "jitter_ = 0.01\n",
    "delay_var_ = 0.01\n",
    "avg_FR_ = 10"
   ]
  },
  {
   "cell_type": "markdown",
   "id": "7af4bdfc-dc22-4efc-ae14-f05e87672ea5",
   "metadata": {},
   "source": [
    "Interactions:\n",
    "- nr_trials with noise\n",
    "- nr_trials with neurons_in_seq\n",
    "- noise with neurons_in_seq (might be hard to motivate)"
   ]
  },
  {
   "cell_type": "code",
   "execution_count": 4,
   "id": "a42b6dcf-2efc-4fbb-8289-85f97cdb3cf4",
   "metadata": {},
   "outputs": [
    {
     "data": {
      "application/vnd.jupyter.widget-view+json": {
       "model_id": "25b6ecfef9e64fdea3c3bd9793a57ddb",
       "version_major": 2,
       "version_minor": 0
      },
      "text/plain": [
       "  0%|          | 0/100 [00:00<?, ?it/s]"
      ]
     },
     "metadata": {},
     "output_type": "display_data"
    },
    {
     "name": "stderr",
     "output_type": "stream",
     "text": [
      "C:\\Users\\tomha\\anaconda3\\envs\\BSC\\lib\\site-packages\\numpy\\core\\fromnumeric.py:3464: RuntimeWarning: Mean of empty slice.\n",
      "  return _methods._mean(a, axis=axis, dtype=dtype,\n",
      "C:\\Users\\tomha\\anaconda3\\envs\\BSC\\lib\\site-packages\\numpy\\core\\_methods.py:192: RuntimeWarning: invalid value encountered in scalar divide\n",
      "  ret = ret.dtype.type(ret / rcount)\n",
      "C:\\Users\\tomha\\anaconda3\\envs\\BSC\\lib\\site-packages\\numpy\\lib\\function_base.py:2412: RuntimeWarning: invalid value encountered in mean (vectorized)\n",
      "  outputs = ufunc(*inputs)\n"
     ]
    }
   ],
   "source": [
    "# Experiment type A\n",
    "\n",
    "test_params = jitter\n",
    "# Empty arrays with one position for each experiment\n",
    "URI_scores = np.empty(test_params.shape[0])\n",
    "p_vals = np.empty(test_params.shape[0])\n",
    "surr_avgs = np.empty(test_params.shape[0])\n",
    "surr_95s = np.empty(test_params.shape[0])\n",
    "URI_scores_ = np.empty(test_params.shape[0])\n",
    "p_vals_ = np.empty(test_params.shape[0])\n",
    "surr_avgs_ = np.empty(test_params.shape[0])\n",
    "surr_95s_ = np.empty(test_params.shape[0])\n",
    "spikeship_tscores = np.empty(test_params.shape[0])\n",
    "spikeship_pvals = np.empty(test_params.shape[0])\n",
    "\n",
    "for idx in tqdm(range(len(test_params))):\n",
    "    val = test_params[idx]\n",
    "    # Generate the data\n",
    "    data_seq, _ = SequenceGen.simulate_trials(nr_trials_, nr_neurons, trial_len, seq_len, mean_delay=mean_delay, delay_var=delay_var_,\n",
    "                                      avg_FR=avg_FR_, FR_var=FR_var, has_sequence=True, jitter=val, nr_in_sequence=neurons_in_seq_)\n",
    "    data_noseq, _ = SequenceGen.simulate_trials(nr_trials_, nr_neurons, trial_len, seq_len, mean_delay=mean_delay, delay_var=delay_var_,\n",
    "                                      avg_FR=avg_FR_, FR_var=FR_var, has_sequence=False, jitter=val, nr_in_sequence=neurons_in_seq_)\n",
    "    # Compute URI score on data with and without a sequence\n",
    "    URI, p_val, occ, surr_avg, surr_95 = URI_tl.getURI(data_seq, 500)\n",
    "    URI_scores[idx] = URI\n",
    "    p_vals[idx] = p_val\n",
    "    surr_avgs[idx] = surr_avg\n",
    "    surr_95s[idx] = surr_95\n",
    "    URI_, p_val_, occ_, surr_avg_, surr_95_ = URI_tl.getURI(data_noseq, 500)\n",
    "    URI_scores_[idx] = URI_\n",
    "    p_vals_[idx] = p_val_\n",
    "    surr_avgs_[idx] = surr_avg_\n",
    "    surr_95s_[idx] = surr_95_\n",
    "    # Get internal SpikeShip distances for data with and without a sequence and perform two sample t-test\n",
    "    data_seq_convert, conversion1 = convert_spike_timing(data_seq)\n",
    "    data_noseq_convert, conversion2 = convert_spike_timing(data_noseq)\n",
    "    distances_seq = spikeship.distances(data_seq_convert, conversion1)\n",
    "    distances_noseq = spikeship.distances(data_noseq_convert, conversion2)\n",
    "    distances_seq = distances_seq[distances_seq != 0]\n",
    "    distances_noseq = distances_noseq[distances_noseq != 0]\n",
    "    res = ttest_ind(distances_seq.flatten(), data_noseq_convert.flatten(), alternative='less')\n",
    "    spikeship_tscores[idx] = res.statistic\n",
    "    spikeship_pvals[idx] = res.pvalue\n",
    "\n",
    "np.save(\"Results/jitter/URI_scores\", URI_scores)\n",
    "np.save(\"Results/jitter/p_vals\", p_vals)\n",
    "np.save(\"Results/jitter/surr_avgs\", surr_avgs)\n",
    "np.save(\"Results/jitter/surr_95s\", surr_95s)\n",
    "np.save(\"Results/jitter/URI_scores_\", URI_scores_)\n",
    "np.save(\"Results/jitter/p_vals_\", p_vals_)\n",
    "np.save(\"Results/jitter/surr_avgs_\", surr_avgs_)\n",
    "np.save(\"Results/jitter/surr_95s_\", surr_95s_)\n",
    "np.save(\"Results/jitter/spikeship_tscores\", spikeship_tscores)\n",
    "np.save(\"Results/jitter/spikeship_pvals\", spikeship_pvals)"
   ]
  },
  {
   "cell_type": "code",
   "execution_count": 7,
   "id": "1b440fb1",
   "metadata": {},
   "outputs": [
    {
     "data": {
      "application/vnd.jupyter.widget-view+json": {
       "model_id": "7e280de1f6ad47e78014147cfaafe826",
       "version_major": 2,
       "version_minor": 0
      },
      "text/plain": [
       "  0%|          | 0/290 [00:00<?, ?it/s]"
      ]
     },
     "metadata": {},
     "output_type": "display_data"
    }
   ],
   "source": [
    "# Experiment type A\n",
    "\n",
    "test_params = nr_trials\n",
    "# Empty arrays with one position for each experiment\n",
    "URI_scores = np.empty(test_params.shape[0])\n",
    "p_vals = np.empty(test_params.shape[0])\n",
    "surr_avgs = np.empty(test_params.shape[0])\n",
    "surr_95s = np.empty(test_params.shape[0])\n",
    "URI_scores_ = np.empty(test_params.shape[0])\n",
    "p_vals_ = np.empty(test_params.shape[0])\n",
    "surr_avgs_ = np.empty(test_params.shape[0])\n",
    "surr_95s_ = np.empty(test_params.shape[0])\n",
    "spikeship_tscores = np.empty(test_params.shape[0])\n",
    "spikeship_pvals = np.empty(test_params.shape[0])\n",
    "\n",
    "for idx in tqdm(range(len(test_params))):\n",
    "    val = test_params[idx]\n",
    "    # Generate the data\n",
    "    data_seq, _ = SequenceGen.simulate_trials(val, nr_neurons, trial_len, seq_len, mean_delay=mean_delay, delay_var=delay_var_,\n",
    "                                      avg_FR=avg_FR_, FR_var=FR_var, has_sequence=True, jitter=jitter_, nr_in_sequence=neurons_in_seq_)\n",
    "    data_noseq, _ = SequenceGen.simulate_trials(val, nr_neurons, trial_len, seq_len, mean_delay=mean_delay, delay_var=delay_var_,\n",
    "                                      avg_FR=avg_FR_, FR_var=FR_var, has_sequence=False, jitter=jitter_, nr_in_sequence=neurons_in_seq_)\n",
    "    # Compute URI score on data with and without a sequence\n",
    "    URI, p_val, occ, surr_avg, surr_95 = URI_tl.getURI(data_seq, 500)\n",
    "    URI_scores[idx] = URI\n",
    "    p_vals[idx] = p_val\n",
    "    surr_avgs[idx] = surr_avg\n",
    "    surr_95s[idx] = surr_95\n",
    "    URI_, p_val_, occ_, surr_avg_, surr_95_ = URI_tl.getURI(data_noseq, 500)\n",
    "    URI_scores_[idx] = URI_\n",
    "    p_vals_[idx] = p_val_\n",
    "    surr_avgs_[idx] = surr_avg_\n",
    "    surr_95s_[idx] = surr_95_\n",
    "    # Get internal SpikeShip distances for data with and without a sequence and perform two sample t-test\n",
    "    data_seq_convert, conversion1 = convert_spike_timing(data_seq)\n",
    "    data_noseq_convert, conversion2 = convert_spike_timing(data_noseq)\n",
    "    distances_seq = spikeship.distances(data_seq_convert, conversion1)\n",
    "    distances_noseq = spikeship.distances(data_noseq_convert, conversion2)\n",
    "    distances_seq = distances_seq[distances_seq != 0]\n",
    "    distances_noseq = distances_noseq[distances_noseq != 0]\n",
    "    res = ttest_ind(distances_seq.flatten(), data_noseq_convert.flatten(), alternative='less')\n",
    "    spikeship_tscores[idx] = res.statistic\n",
    "    spikeship_pvals[idx] = res.pvalue\n",
    "\n",
    "np.save(\"Results/nr_trials/URI_scores\", URI_scores)\n",
    "np.save(\"Results/nr_trials/p_vals\", p_vals)\n",
    "np.save(\"Results/nr_trials/surr_avgs\", surr_avgs)\n",
    "np.save(\"Results/nr_trials/surr_95s\", surr_95s)\n",
    "np.save(\"Results/nr_trials/URI_scores_\", URI_scores_)\n",
    "np.save(\"Results/nr_trials/p_vals_\", p_vals_)\n",
    "np.save(\"Results/nr_trials/surr_avgs_\", surr_avgs_)\n",
    "np.save(\"Results/nr_trials/surr_95s_\", surr_95s_)\n",
    "np.save(\"Results/nr_trials/spikeship_tscores\", spikeship_tscores)\n",
    "np.save(\"Results/nr_trials/spikeship_pvals\", spikeship_pvals)"
   ]
  },
  {
   "cell_type": "code",
   "execution_count": 7,
   "id": "c3ae2e02",
   "metadata": {},
   "outputs": [
    {
     "data": {
      "application/vnd.jupyter.widget-view+json": {
       "model_id": "d7a592db655844688ed3588095c6d411",
       "version_major": 2,
       "version_minor": 0
      },
      "text/plain": [
       "  0%|          | 0/13 [00:00<?, ?it/s]"
      ]
     },
     "metadata": {},
     "output_type": "display_data"
    }
   ],
   "source": [
    "# Experiment type A\n",
    "\n",
    "test_params = neurons_in_seq\n",
    "nr_exp = 5\n",
    "# Empty arrays with one position for each experiment\n",
    "URI_scores = np.empty((test_params.shape[0], nr_exp))\n",
    "p_vals = np.empty((test_params.shape[0], nr_exp))\n",
    "surr_avgs = np.empty((test_params.shape[0], nr_exp))\n",
    "surr_95s = np.empty((test_params.shape[0], nr_exp))\n",
    "URI_scores_ = np.empty((test_params.shape[0], nr_exp))\n",
    "p_vals_ = np.empty((test_params.shape[0], nr_exp))\n",
    "surr_avgs_ = np.empty((test_params.shape[0], nr_exp))\n",
    "surr_95s_ = np.empty((test_params.shape[0], nr_exp))\n",
    "spikeship_tscores = np.empty((test_params.shape[0], nr_exp))\n",
    "spikeship_pvals = np.empty((test_params.shape[0], nr_exp))\n",
    "\n",
    "for idx in tqdm(range(len(test_params))):\n",
    "    for exp_nr in range(nr_exp):\n",
    "        val = test_params[idx]\n",
    "        # Generate the data\n",
    "        data_seq, _ = SequenceGen.simulate_trials(nr_trials_, nr_neurons, trial_len, seq_len, mean_delay=mean_delay, delay_var=delay_var_,\n",
    "                                          avg_FR=avg_FR_, FR_var=FR_var, has_sequence=True, jitter=jitter_, nr_in_sequence=val)\n",
    "        data_noseq, _ = SequenceGen.simulate_trials(nr_trials_, nr_neurons, trial_len, seq_len, mean_delay=mean_delay, delay_var=delay_var_,\n",
    "                                          avg_FR=avg_FR_, FR_var=FR_var, has_sequence=False, jitter=jitter_, nr_in_sequence=val)\n",
    "        # Compute URI score on data with and without a sequence\n",
    "        URI, p_val, occ, surr_avg, surr_95 = URI_tl.getURI(data_seq, 500)\n",
    "        URI_scores[idx, exp_nr] = URI\n",
    "        p_vals[idx, exp_nr] = p_val\n",
    "        surr_avgs[idx, exp_nr] = surr_avg\n",
    "        surr_95s[idx, exp_nr] = surr_95\n",
    "        URI_, p_val_, occ_, surr_avg_, surr_95_ = URI_tl.getURI(data_noseq, 500)\n",
    "        URI_scores_[idx, exp_nr] = URI_\n",
    "        p_vals_[idx, exp_nr] = p_val_\n",
    "        surr_avgs_[idx, exp_nr] = surr_avg_\n",
    "        surr_95s_[idx, exp_nr] = surr_95_\n",
    "        # Get internal SpikeShip distances for data with and without a sequence and perform two sample t-test\n",
    "        data_seq_convert, conversion1 = convert_spike_timing(data_seq)\n",
    "        data_noseq_convert, conversion2 = convert_spike_timing(data_noseq)\n",
    "        distances_seq = spikeship.distances(data_seq_convert, conversion1)\n",
    "        distances_noseq = spikeship.distances(data_noseq_convert, conversion2)\n",
    "        distances_seq = distances_seq[distances_seq != 0]\n",
    "        distances_noseq = distances_noseq[distances_noseq != 0]\n",
    "        res = ttest_ind(distances_seq.flatten(), data_noseq_convert.flatten(), alternative='less')\n",
    "        spikeship_tscores[idx, exp_nr] = res.statistic\n",
    "        spikeship_pvals[idx, exp_nr] = res.pvalue\n",
    "\n",
    "np.save(\"Results/neurons_in_seq/URI_scores\", URI_scores)\n",
    "np.save(\"Results/neurons_in_seq/p_vals\", p_vals)\n",
    "np.save(\"Results/neurons_in_seq/surr_avgs\", surr_avgs)\n",
    "np.save(\"Results/neurons_in_seq/surr_95s\", surr_95s)\n",
    "np.save(\"Results/neurons_in_seq/URI_scores_\", URI_scores_)\n",
    "np.save(\"Results/neurons_in_seq/p_vals_\", p_vals_)\n",
    "np.save(\"Results/neurons_in_seq/surr_avgs_\", surr_avgs_)\n",
    "np.save(\"Results/neurons_in_seq/surr_95s_\", surr_95s_)\n",
    "np.save(\"Results/neurons_in_seq/spikeship_tscores\", spikeship_tscores)\n",
    "np.save(\"Results/neurons_in_seq/spikeship_pvals\", spikeship_pvals)"
   ]
  },
  {
   "cell_type": "code",
   "execution_count": 4,
   "id": "72729b7f",
   "metadata": {},
   "outputs": [
    {
     "data": {
      "application/vnd.jupyter.widget-view+json": {
       "model_id": "83abf01e95024cabbf0ab166c15a433a",
       "version_major": 2,
       "version_minor": 0
      },
      "text/plain": [
       "  0%|          | 0/100 [00:00<?, ?it/s]"
      ]
     },
     "metadata": {},
     "output_type": "display_data"
    },
    {
     "name": "stderr",
     "output_type": "stream",
     "text": [
      "C:\\Users\\tomha\\anaconda3\\envs\\BSC\\lib\\site-packages\\numpy\\core\\fromnumeric.py:3464: RuntimeWarning: Mean of empty slice.\n",
      "  return _methods._mean(a, axis=axis, dtype=dtype,\n",
      "C:\\Users\\tomha\\anaconda3\\envs\\BSC\\lib\\site-packages\\numpy\\core\\_methods.py:192: RuntimeWarning: invalid value encountered in scalar divide\n",
      "  ret = ret.dtype.type(ret / rcount)\n",
      "C:\\Users\\tomha\\anaconda3\\envs\\BSC\\lib\\site-packages\\numpy\\lib\\function_base.py:2412: RuntimeWarning: invalid value encountered in mean (vectorized)\n",
      "  outputs = ufunc(*inputs)\n"
     ]
    }
   ],
   "source": [
    "# Experiment type A\n",
    "\n",
    "test_params = delay_var\n",
    "# Empty arrays with one position for each experiment\n",
    "URI_scores = np.empty(test_params.shape[0])\n",
    "p_vals = np.empty(test_params.shape[0])\n",
    "surr_avgs = np.empty(test_params.shape[0])\n",
    "surr_95s = np.empty(test_params.shape[0])\n",
    "URI_scores_ = np.empty(test_params.shape[0])\n",
    "p_vals_ = np.empty(test_params.shape[0])\n",
    "surr_avgs_ = np.empty(test_params.shape[0])\n",
    "surr_95s_ = np.empty(test_params.shape[0])\n",
    "spikeship_tscores = np.empty(test_params.shape[0])\n",
    "spikeship_pvals = np.empty(test_params.shape[0])\n",
    "\n",
    "for idx in tqdm(range(len(test_params))):\n",
    "    val = test_params[idx]\n",
    "    # Generate the data\n",
    "    data_seq, _ = SequenceGen.simulate_trials(nr_trials_, nr_neurons, trial_len, seq_len, mean_delay=mean_delay, delay_var=val,\n",
    "                                      avg_FR=avg_FR_, FR_var=FR_var, has_sequence=True, jitter=jitter_, nr_in_sequence=neurons_in_seq_)\n",
    "    data_noseq, _ = SequenceGen.simulate_trials(nr_trials_, nr_neurons, trial_len, seq_len, mean_delay=mean_delay, delay_var=val,\n",
    "                                      avg_FR=avg_FR_, FR_var=FR_var, has_sequence=False, jitter=jitter_, nr_in_sequence=neurons_in_seq_)\n",
    "    # Compute URI score on data with and without a sequence\n",
    "    URI, p_val, occ, surr_avg, surr_95 = URI_tl.getURI(data_seq, 500)\n",
    "    URI_scores[idx] = URI\n",
    "    p_vals[idx] = p_val\n",
    "    surr_avgs[idx] = surr_avg\n",
    "    surr_95s[idx] = surr_95\n",
    "    URI_, p_val_, occ_, surr_avg_, surr_95_ = URI_tl.getURI(data_noseq, 500)\n",
    "    URI_scores_[idx] = URI_\n",
    "    p_vals_[idx] = p_val_\n",
    "    surr_avgs_[idx] = surr_avg_\n",
    "    surr_95s_[idx] = surr_95_\n",
    "    # Get internal SpikeShip distances for data with and without a sequence and perform two sample t-test\n",
    "    data_seq_convert, conversion1 = convert_spike_timing(data_seq)\n",
    "    data_noseq_convert, conversion2 = convert_spike_timing(data_noseq)\n",
    "    distances_seq = spikeship.distances(data_seq_convert, conversion1)\n",
    "    distances_noseq = spikeship.distances(data_noseq_convert, conversion2)\n",
    "    distances_seq = distances_seq[distances_seq != 0]\n",
    "    distances_noseq = distances_noseq[distances_noseq != 0]\n",
    "    res = ttest_ind(distances_seq.flatten(), data_noseq_convert.flatten(), alternative='less')\n",
    "    spikeship_tscores[idx] = res.statistic\n",
    "    spikeship_pvals[idx] = res.pvalue\n",
    "\n",
    "np.save(\"Results/delay_var/URI_scores\", URI_scores)\n",
    "np.save(\"Results/delay_var/p_vals\", p_vals)\n",
    "np.save(\"Results/delay_var/surr_avgs\", surr_avgs)\n",
    "np.save(\"Results/delay_var/surr_95s\", surr_95s)\n",
    "np.save(\"Results/delay_var/URI_scores_\", URI_scores_)\n",
    "np.save(\"Results/delay_var/p_vals_\", p_vals_)\n",
    "np.save(\"Results/delay_var/surr_avgs_\", surr_avgs_)\n",
    "np.save(\"Results/delay_var/surr_95s_\", surr_95s_)\n",
    "np.save(\"Results/delay_var/spikeship_tscores\", spikeship_tscores)\n",
    "np.save(\"Results/delay_var/spikeship_pvals\", spikeship_pvals)"
   ]
  },
  {
   "cell_type": "code",
   "execution_count": 9,
   "id": "214323dd",
   "metadata": {},
   "outputs": [
    {
     "data": {
      "application/vnd.jupyter.widget-view+json": {
       "model_id": "0b5b7519feae498e9eb4f27a669efd19",
       "version_major": 2,
       "version_minor": 0
      },
      "text/plain": [
       "  0%|          | 0/100 [00:00<?, ?it/s]"
      ]
     },
     "metadata": {},
     "output_type": "display_data"
    }
   ],
   "source": [
    "# Experiment type A\n",
    "\n",
    "test_params = avg_FR\n",
    "# Empty arrays with one position for each experiment\n",
    "URI_scores = np.empty(test_params.shape[0])\n",
    "p_vals = np.empty(test_params.shape[0])\n",
    "surr_avgs = np.empty(test_params.shape[0])\n",
    "surr_95s = np.empty(test_params.shape[0])\n",
    "URI_scores_ = np.empty(test_params.shape[0])\n",
    "p_vals_ = np.empty(test_params.shape[0])\n",
    "surr_avgs_ = np.empty(test_params.shape[0])\n",
    "surr_95s_ = np.empty(test_params.shape[0])\n",
    "spikeship_tscores = np.empty(test_params.shape[0])\n",
    "spikeship_pvals = np.empty(test_params.shape[0])\n",
    "\n",
    "for idx in tqdm(range(len(test_params))):\n",
    "    val = test_params[idx]\n",
    "    # Generate the data\n",
    "    data_seq, _ = SequenceGen.simulate_trials(nr_trials_, nr_neurons, trial_len, seq_len, mean_delay=mean_delay, delay_var=delay_var_,\n",
    "                                      avg_FR=val, FR_var=FR_var, has_sequence=True, jitter=jitter_, nr_in_sequence=neurons_in_seq_)\n",
    "    data_noseq, _ = SequenceGen.simulate_trials(nr_trials_, nr_neurons, trial_len, seq_len, mean_delay=mean_delay, delay_var=delay_var_,\n",
    "                                      avg_FR=val, FR_var=FR_var, has_sequence=False, jitter=jitter_, nr_in_sequence=neurons_in_seq_)\n",
    "    # Compute URI score on data with and without a sequence\n",
    "    URI, p_val, occ, surr_avg, surr_95 = URI_tl.getURI(data_seq, 500)\n",
    "    URI_scores[idx] = URI\n",
    "    p_vals[idx] = p_val\n",
    "    surr_avgs[idx] = surr_avg\n",
    "    surr_95s[idx] = surr_95\n",
    "    URI_, p_val_, occ_, surr_avg_, surr_95_ = URI_tl.getURI(data_noseq, 500)\n",
    "    URI_scores_[idx] = URI_\n",
    "    p_vals_[idx] = p_val_\n",
    "    surr_avgs_[idx] = surr_avg_\n",
    "    surr_95s_[idx] = surr_95_\n",
    "    # Get internal SpikeShip distances for data with and without a sequence and perform two sample t-test\n",
    "    data_seq_convert, conversion1 = convert_spike_timing(data_seq)\n",
    "    data_noseq_convert, conversion2 = convert_spike_timing(data_noseq)\n",
    "    distances_seq = spikeship.distances(data_seq_convert, conversion1)\n",
    "    distances_noseq = spikeship.distances(data_noseq_convert, conversion2)\n",
    "    distances_seq = distances_seq[distances_seq != 0]\n",
    "    distances_noseq = distances_noseq[distances_noseq != 0]\n",
    "    res = ttest_ind(distances_seq.flatten(), data_noseq_convert.flatten(), alternative='less')\n",
    "    spikeship_tscores[idx] = res.statistic\n",
    "    spikeship_pvals[idx] = res.pvalue\n",
    "\n",
    "np.save(\"Results/avg_FR/URI_scores\", URI_scores)\n",
    "np.save(\"Results/avg_FR/p_vals\", p_vals)\n",
    "np.save(\"Results/avg_FR/surr_avgs\", surr_avgs)\n",
    "np.save(\"Results/avg_FR/surr_95s\", surr_95s)\n",
    "np.save(\"Results/avg_FR/URI_scores_\", URI_scores_)\n",
    "np.save(\"Results/avg_FR/p_vals_\", p_vals_)\n",
    "np.save(\"Results/avg_FR/surr_avgs_\", surr_avgs_)\n",
    "np.save(\"Results/avg_FR/surr_95s_\", surr_95s_)\n",
    "np.save(\"Results/avg_FR/spikeship_tscores\", spikeship_tscores)\n",
    "np.save(\"Results/avg_FR/spikeship_pvals\", spikeship_pvals)"
   ]
  },
  {
   "cell_type": "markdown",
   "id": "ea9a4ef3-2a38-4244-9256-27976e22df93",
   "metadata": {},
   "source": [
    "# Interaction effect"
   ]
  },
  {
   "cell_type": "code",
   "execution_count": 4,
   "id": "feb539fb-bdcb-41e9-ae0c-ed384b800a22",
   "metadata": {},
   "outputs": [],
   "source": [
    "nr_trials_ie = np.arange(20, 320, 20)\n",
    "avg_FR_ie = np.linspace(2, 25, 15)"
   ]
  },
  {
   "cell_type": "code",
   "execution_count": 7,
   "id": "1b2d74cf-5078-493f-9856-a00b2c7f1330",
   "metadata": {},
   "outputs": [
    {
     "data": {
      "application/vnd.jupyter.widget-view+json": {
       "model_id": "18e01ece095147049379e7a0174b60da",
       "version_major": 2,
       "version_minor": 0
      },
      "text/plain": [
       "  0%|          | 0/15 [00:00<?, ?it/s]"
      ]
     },
     "metadata": {},
     "output_type": "display_data"
    },
    {
     "name": "stderr",
     "output_type": "stream",
     "text": [
      "C:\\Users\\tomha\\anaconda3\\envs\\BSC\\lib\\site-packages\\numpy\\core\\fromnumeric.py:3464: RuntimeWarning: Mean of empty slice.\n",
      "  return _methods._mean(a, axis=axis, dtype=dtype,\n",
      "C:\\Users\\tomha\\anaconda3\\envs\\BSC\\lib\\site-packages\\numpy\\core\\_methods.py:192: RuntimeWarning: invalid value encountered in scalar divide\n",
      "  ret = ret.dtype.type(ret / rcount)\n",
      "C:\\Users\\tomha\\anaconda3\\envs\\BSC\\lib\\site-packages\\numpy\\lib\\function_base.py:2412: RuntimeWarning: invalid value encountered in mean (vectorized)\n",
      "  outputs = ufunc(*inputs)\n"
     ]
    }
   ],
   "source": [
    "# Experiment type A\n",
    "\n",
    "\n",
    "# Empty arrays with one position for each experiment\n",
    "URI_scores        = np.empty((nr_trials_ie.shape[0], avg_FR_ie.shape[0]))\n",
    "p_vals            = np.empty((nr_trials_ie.shape[0], avg_FR_ie.shape[0]))\n",
    "surr_avgs         = np.empty((nr_trials_ie.shape[0], avg_FR_ie.shape[0]))\n",
    "surr_95s          = np.empty((nr_trials_ie.shape[0], avg_FR_ie.shape[0]))\n",
    "URI_scores_       = np.empty((nr_trials_ie.shape[0], avg_FR_ie.shape[0]))\n",
    "p_vals_           = np.empty((nr_trials_ie.shape[0], avg_FR_ie.shape[0]))\n",
    "surr_avgs_        = np.empty((nr_trials_ie.shape[0], avg_FR_ie.shape[0]))\n",
    "surr_95s_         = np.empty((nr_trials_ie.shape[0], avg_FR_ie.shape[0]))\n",
    "spikeship_tscores = np.empty((nr_trials_ie.shape[0], avg_FR_ie.shape[0]))\n",
    "spikeship_pvals   = np.empty((nr_trials_ie.shape[0], avg_FR_ie.shape[0]))\n",
    "\n",
    "for idx_i in tqdm(range(len(nr_trials_ie))):\n",
    "    for idx_j in range(len(avg_FR_ie)):\n",
    "        nr_trials_i = nr_trials_ie[idx_i]\n",
    "        avg_FR_j = avg_FR_ie[idx_j]\n",
    "        # Generate the data\n",
    "        data_seq, _ = SequenceGen.simulate_trials(nr_trials_i, nr_neurons, trial_len, seq_len, mean_delay=mean_delay, delay_var=delay_var_,\n",
    "                                          avg_FR=avg_FR_j, FR_var=FR_var, has_sequence=True, jitter=jitter_, nr_in_sequence=neurons_in_seq_)\n",
    "        data_noseq, _ = SequenceGen.simulate_trials(nr_trials_i, nr_neurons, trial_len, seq_len, mean_delay=mean_delay, delay_var=delay_var_,\n",
    "                                          avg_FR=avg_FR_j, FR_var=FR_var, has_sequence=False, jitter=jitter_, nr_in_sequence=neurons_in_seq_)\n",
    "        # Compute URI score on data with and without a sequence\n",
    "        URI, p_val, occ, surr_avg, surr_95 = URI_tl.getURI(data_seq, 500)\n",
    "        URI_scores[idx_i, idx_j] = URI\n",
    "        p_vals[idx_i, idx_j] = p_val\n",
    "        surr_avgs[idx_i, idx_j] = surr_avg\n",
    "        surr_95s[idx_i, idx_j] = surr_95\n",
    "        URI_, p_val_, occ_, surr_avg_, surr_95_ = URI_tl.getURI(data_noseq, 500)\n",
    "        URI_scores_[idx_i, idx_j] = URI_\n",
    "        p_vals_[idx_i, idx_j] = p_val_\n",
    "        surr_avgs_[idx_i, idx_j] = surr_avg_\n",
    "        surr_95s_[idx_i, idx_j] = surr_95_\n",
    "        # Get internal SpikeShip distances for data with and without a sequence and perform two sample t-test\n",
    "        data_seq_convert, conversion1 = convert_spike_timing(data_seq)\n",
    "        data_noseq_convert, conversion2 = convert_spike_timing(data_noseq)\n",
    "        distances_seq = spikeship.distances(data_seq_convert, conversion1)\n",
    "        distances_noseq = spikeship.distances(data_noseq_convert, conversion2)\n",
    "        distances_seq = distances_seq[distances_seq != 0]\n",
    "        distances_noseq = distances_noseq[distances_noseq != 0]\n",
    "        res = ttest_ind(distances_seq.flatten(), data_noseq_convert.flatten(), alternative='less')\n",
    "        spikeship_tscores[idx_i, idx_j] = res.statistic\n",
    "        spikeship_pvals[idx_i, idx_j] = res.pvalue\n",
    "\n",
    "np.save(\"Results/interaction1/URI_scores\", URI_scores)\n",
    "np.save(\"Results/interaction1/p_vals\", p_vals)\n",
    "np.save(\"Results/interaction1/surr_avgs\", surr_avgs)\n",
    "np.save(\"Results/interaction1/surr_95s\", surr_95s)\n",
    "np.save(\"Results/interaction1/URI_scores_\", URI_scores_)\n",
    "np.save(\"Results/interaction1/p_vals_\", p_vals_)\n",
    "np.save(\"Results/interaction1/surr_avgs_\", surr_avgs_)\n",
    "np.save(\"Results/interaction1/surr_95s_\", surr_95s_)\n",
    "np.save(\"Results/interaction1/spikeship_tscores\", spikeship_tscores)\n",
    "np.save(\"Results/interaction1/spikeship_pvals\", spikeship_pvals)"
   ]
  },
  {
   "cell_type": "code",
   "execution_count": 8,
   "id": "801a6821-aa79-492f-b271-56af0a68f8df",
   "metadata": {},
   "outputs": [],
   "source": [
    "nr_trials_ie = np.arange(20, 320, 20)\n",
    "neurons_in_seq_ie = np.arange(2, 17)"
   ]
  },
  {
   "cell_type": "code",
   "execution_count": 9,
   "id": "7da830be-f02b-4991-838d-a1cc578bd0c4",
   "metadata": {},
   "outputs": [
    {
     "data": {
      "application/vnd.jupyter.widget-view+json": {
       "model_id": "6c3363341f2f49d7b2e033d694fafd42",
       "version_major": 2,
       "version_minor": 0
      },
      "text/plain": [
       "  0%|          | 0/15 [00:00<?, ?it/s]"
      ]
     },
     "metadata": {},
     "output_type": "display_data"
    },
    {
     "name": "stderr",
     "output_type": "stream",
     "text": [
      "C:\\Users\\tomha\\anaconda3\\envs\\BSC\\lib\\site-packages\\numpy\\core\\fromnumeric.py:3464: RuntimeWarning: Mean of empty slice.\n",
      "  return _methods._mean(a, axis=axis, dtype=dtype,\n",
      "C:\\Users\\tomha\\anaconda3\\envs\\BSC\\lib\\site-packages\\numpy\\core\\_methods.py:192: RuntimeWarning: invalid value encountered in scalar divide\n",
      "  ret = ret.dtype.type(ret / rcount)\n",
      "C:\\Users\\tomha\\anaconda3\\envs\\BSC\\lib\\site-packages\\numpy\\lib\\function_base.py:2412: RuntimeWarning: invalid value encountered in mean (vectorized)\n",
      "  outputs = ufunc(*inputs)\n"
     ]
    }
   ],
   "source": [
    "# Experiment type A\n",
    "\n",
    "\n",
    "# Empty arrays with one position for each experiment\n",
    "URI_scores        = np.empty((nr_trials_ie.shape[0], neurons_in_seq_ie.shape[0]))\n",
    "p_vals            = np.empty((nr_trials_ie.shape[0], neurons_in_seq_ie.shape[0]))\n",
    "surr_avgs         = np.empty((nr_trials_ie.shape[0], neurons_in_seq_ie.shape[0]))\n",
    "surr_95s          = np.empty((nr_trials_ie.shape[0], neurons_in_seq_ie.shape[0]))\n",
    "URI_scores_       = np.empty((nr_trials_ie.shape[0], neurons_in_seq_ie.shape[0]))\n",
    "p_vals_           = np.empty((nr_trials_ie.shape[0], neurons_in_seq_ie.shape[0]))\n",
    "surr_avgs_        = np.empty((nr_trials_ie.shape[0], neurons_in_seq_ie.shape[0]))\n",
    "surr_95s_         = np.empty((nr_trials_ie.shape[0], neurons_in_seq_ie.shape[0]))\n",
    "spikeship_tscores = np.empty((nr_trials_ie.shape[0], neurons_in_seq_ie.shape[0]))\n",
    "spikeship_pvals   = np.empty((nr_trials_ie.shape[0], neurons_in_seq_ie.shape[0]))\n",
    "\n",
    "for idx_i in tqdm(range(len(nr_trials_ie))):\n",
    "    for idx_j in range(len(neurons_in_seq_ie)):\n",
    "        nr_trials_i = nr_trials_ie[idx_i]\n",
    "        neurons_in_seq_j = neurons_in_seq_ie[idx_j]\n",
    "        # Generate the data\n",
    "        data_seq, _ = SequenceGen.simulate_trials(nr_trials_i, nr_neurons, trial_len, seq_len, mean_delay=mean_delay, delay_var=delay_var_,\n",
    "                                          avg_FR=avg_FR_, FR_var=FR_var, has_sequence=True, jitter=jitter_, nr_in_sequence=neurons_in_seq_j)\n",
    "        data_noseq, _ = SequenceGen.simulate_trials(nr_trials_i, nr_neurons, trial_len, seq_len, mean_delay=mean_delay, delay_var=delay_var_,\n",
    "                                          avg_FR=avg_FR_, FR_var=FR_var, has_sequence=False, jitter=jitter_, nr_in_sequence=neurons_in_seq_j)\n",
    "        # Compute URI score on data with and without a sequence\n",
    "        URI, p_val, occ, surr_avg, surr_95 = URI_tl.getURI(data_seq, 500)\n",
    "        URI_scores[idx_i, idx_j] = URI\n",
    "        p_vals[idx_i, idx_j] = p_val\n",
    "        surr_avgs[idx_i, idx_j] = surr_avg\n",
    "        surr_95s[idx_i, idx_j] = surr_95\n",
    "        URI_, p_val_, occ_, surr_avg_, surr_95_ = URI_tl.getURI(data_noseq, 500)\n",
    "        URI_scores_[idx_i, idx_j] = URI_\n",
    "        p_vals_[idx_i, idx_j] = p_val_\n",
    "        surr_avgs_[idx_i, idx_j] = surr_avg_\n",
    "        surr_95s_[idx_i, idx_j] = surr_95_\n",
    "        # Get internal SpikeShip distances for data with and without a sequence and perform two sample t-test\n",
    "        data_seq_convert, conversion1 = convert_spike_timing(data_seq)\n",
    "        data_noseq_convert, conversion2 = convert_spike_timing(data_noseq)\n",
    "        distances_seq = spikeship.distances(data_seq_convert, conversion1)\n",
    "        distances_noseq = spikeship.distances(data_noseq_convert, conversion2)\n",
    "        distances_seq = distances_seq[distances_seq != 0]\n",
    "        distances_noseq = distances_noseq[distances_noseq != 0]\n",
    "        res = ttest_ind(distances_seq.flatten(), data_noseq_convert.flatten(), alternative='less')\n",
    "        spikeship_tscores[idx_i, idx_j] = res.statistic\n",
    "        spikeship_pvals[idx_i, idx_j] = res.pvalue\n",
    "\n",
    "np.save(\"Results/interaction2/URI_scores\", URI_scores)\n",
    "np.save(\"Results/interaction2/p_vals\", p_vals)\n",
    "np.save(\"Results/interaction2/surr_avgs\", surr_avgs)\n",
    "np.save(\"Results/interaction2/surr_95s\", surr_95s)\n",
    "np.save(\"Results/interaction2/URI_scores_\", URI_scores_)\n",
    "np.save(\"Results/interaction2/p_vals_\", p_vals_)\n",
    "np.save(\"Results/interaction2/surr_avgs_\", surr_avgs_)\n",
    "np.save(\"Results/interaction2/surr_95s_\", surr_95s_)\n",
    "np.save(\"Results/interaction2/spikeship_tscores\", spikeship_tscores)\n",
    "np.save(\"Results/interaction2/spikeship_pvals\", spikeship_pvals)"
   ]
  },
  {
   "cell_type": "markdown",
   "id": "468ea026-2713-45e3-a7d0-38abd385ae2b",
   "metadata": {},
   "source": [
    "# Non-time-locked"
   ]
  },
  {
   "cell_type": "code",
   "execution_count": 16,
   "id": "33824d25-a448-40cf-8925-693a5432f070",
   "metadata": {},
   "outputs": [],
   "source": [
    "noise_lvl = 1\n",
    "nr_trials_NTL = 5\n",
    "trial_len_NTL = 100\n",
    "data_seq, _, participating = SequenceGen.simulate_unaligned(nr_trials_NTL, nr_neurons, trial_len_NTL, avg_FR=noise_lvl, FR_var=FR_var,\n",
    "                       time_btwn_seq=2, seq_length=seq_len, jitter=jitter_, nr_in_sequence=neurons_in_seq_)\n",
    "data_noseq, _, _ = SequenceGen.simulate_unaligned(nr_trials_NTL, nr_neurons, trial_len_NTL, avg_FR=noise_lvl, FR_var=FR_var,\n",
    "                       time_btwn_seq=5, seq_length=seq_len, jitter=jitter_, nr_in_sequence=0)\n",
    "URIs, URI_pvals = URI_ntl.get_URI_nontimelocked(data_seq, 500, window=(-0.1, 0.1))\n",
    "URIs_, URI_pvals_ = URI_ntl.get_URI_nontimelocked(data_noseq, 500, window=(-0.1, 0.1))\n",
    "\n",
    "np.save(\"Results/NTL/URIs1\", URIs)\n",
    "np.save(\"Results/NTL/URI_pvals1\", URI_pvals)\n",
    "np.save(\"Results/NTL/participating1\", participating)\n",
    "np.save(\"Results/NTL/URIs_1\", URIs_)\n",
    "np.save(\"Results/NTL/URI_pvals_1\", URI_pvals_)"
   ]
  },
  {
   "cell_type": "code",
   "execution_count": 17,
   "id": "efeb4e93-71ec-49cb-a640-7bc314721682",
   "metadata": {},
   "outputs": [],
   "source": [
    "noise_lvl = 5\n",
    "nr_trials_NTL = 5\n",
    "trial_len_NTL = 100\n",
    "data_seq, _, participating = SequenceGen.simulate_unaligned(nr_trials_NTL, nr_neurons, trial_len_NTL, avg_FR=noise_lvl, FR_var=FR_var,\n",
    "                       time_btwn_seq=2, seq_length=seq_len, jitter=jitter_, nr_in_sequence=neurons_in_seq_)\n",
    "data_noseq, _, _ = SequenceGen.simulate_unaligned(nr_trials_NTL, nr_neurons, trial_len_NTL, avg_FR=noise_lvl, FR_var=FR_var,\n",
    "                       time_btwn_seq=5, seq_length=seq_len, jitter=jitter_, nr_in_sequence=0)\n",
    "URIs, URI_pvals = URI_ntl.get_URI_nontimelocked(data_seq, 500, window=(-0.1, 0.1))\n",
    "URIs_, URI_pvals_ = URI_ntl.get_URI_nontimelocked(data_noseq, 500, window=(-0.1, 0.1))\n",
    "\n",
    "np.save(\"Results/NTL/URIs5\", URIs)\n",
    "np.save(\"Results/NTL/URI_pvals5\", URI_pvals)\n",
    "np.save(\"Results/NTL/participating5\", participating)\n",
    "np.save(\"Results/NTL/URIs_5\", URIs_)\n",
    "np.save(\"Results/NTL/URI_pvals_5\", URI_pvals_)"
   ]
  }
 ],
 "metadata": {
  "kernelspec": {
   "display_name": "Python 3 (ipykernel)",
   "language": "python",
   "name": "python3"
  },
  "language_info": {
   "codemirror_mode": {
    "name": "ipython",
    "version": 3
   },
   "file_extension": ".py",
   "mimetype": "text/x-python",
   "name": "python",
   "nbconvert_exporter": "python",
   "pygments_lexer": "ipython3",
   "version": "3.8.18"
  }
 },
 "nbformat": 4,
 "nbformat_minor": 5
}
