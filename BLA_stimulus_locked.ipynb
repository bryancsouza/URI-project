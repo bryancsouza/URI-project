{
 "cells": [
  {
   "cell_type": "markdown",
   "id": "e9e201ea-30f0-4c73-80ad-3c6a4fb7e544",
   "metadata": {},
   "source": [
    "Unless denoted otherwise, all functions and code were created by Pepijn van den Berg."
   ]
  },
  {
   "cell_type": "code",
   "execution_count": 1,
   "id": "b7dc9278",
   "metadata": {},
   "outputs": [],
   "source": [
    "import scipy.io\n",
    "import io\n",
    "from data_loader import DataLoader\n",
    "import numpy as np\n",
    "from utils import *\n",
    "from matplotlib import pyplot as plt\n",
    "import numpy.random as rng"
   ]
  },
  {
   "cell_type": "code",
   "execution_count": 2,
   "id": "e1832aad",
   "metadata": {},
   "outputs": [],
   "source": [
    "def load_data(rats):\n",
    "    return DataLoader('C:\\\\Users\\\\pepij\\\\OneDrive\\\\Documenten\\\\02 AI\\\\4 Thesis\\\\GG-Dataset-Tulio-Ultralight\\\\' , 'BLA', rats=[rats])"
   ]
  },
  {
   "cell_type": "code",
   "execution_count": 3,
   "id": "3979c802",
   "metadata": {},
   "outputs": [],
   "source": [
    "def session_vars(session_nr):\n",
    "    \"\"\"\n",
    "    This function finds the following session-specific variables:\n",
    "        neuron_list: a list of all neuron numbers\n",
    "        n_neurons:   the total number of neurons\n",
    "        session:     the session code\n",
    "        begin_run_t: at what time the run-component of the session starts\n",
    "        end_run_t:   at what time the run-component of the session ends        \n",
    "    \"\"\"\n",
    "    session = list(data.events[rat].keys())[session_nr]\n",
    "    neuron_list = list(spk[rat][session][area].keys())\n",
    "    n_neurons = len(neuron_list)\n",
    "\n",
    "    begin_run_i = list(data.events[rat][session]['cat']['data']).index('beginning run')\n",
    "    end_run_i = list(data.events[rat][session]['cat']['data']).index('end run')\n",
    "\n",
    "    begin_run_t = list(data.events[rat][session]['cat']['ts'])[begin_run_i]\n",
    "    end_run_t = list(data.events[rat][session]['cat']['ts'])[end_run_i]\n",
    "    \n",
    "    return neuron_list, n_neurons, session, begin_run_t, end_run_t"
   ]
  },
  {
   "cell_type": "code",
   "execution_count": 4,
   "id": "f97cdcc9",
   "metadata": {},
   "outputs": [],
   "source": [
    "def position_vars(visualization=False):\n",
    "    \"\"\"\"\n",
    "    This function finds two variables related to position of the rat:\n",
    "        x:        the x coordinate of the rat\n",
    "        y:        the y coordinate of the rat\n",
    "        time_loc: the series of locations with their corresponding times\n",
    "        x_mean:   the mean x-coordinate of the rat during a puff\n",
    "        puff_locs_x: used for visualization. x locations of puffs\n",
    "        puff_locs_y: used for visualization. y locations of puffs\n",
    "    \"\"\"\n",
    "    x = data.position[rat][session]['x']\n",
    "    y = data.position[rat][session]['y']\n",
    "    time_loc = data.position[rat][session]['Time']\n",
    "\n",
    "    # Cut x and y to the run session. \n",
    "    loc_run_ind = [index for index, t in enumerate(time_loc) if t > begin_run_t and t < end_run_t]\n",
    "    \n",
    "    x_cut = x[loc_run_ind[0]:loc_run_ind[-1]]\n",
    "    y_cut = y[loc_run_ind[0]:loc_run_ind[-1]]\n",
    "    \n",
    "    # Find the puff events and location\n",
    "    puff_events_ = data.events[rat][session]['puf']['ts']\n",
    "    puff_events = []\n",
    "    \n",
    "    # Make sure the puff events are an int format (some sessions consist of strings)\n",
    "    if isinstance(list(puff_events_)[0], str):\n",
    "        for t in np.array(puff_events_):\n",
    "            puff_events.append(float(t[:14]))\n",
    "    else:\n",
    "        puff_events = puff_events_\n",
    "    \n",
    "    \n",
    "    # Filter puff events to run session\n",
    "    puff_events = [t for t in puff_events if t > begin_run_t and t < end_run_t]\n",
    "    \n",
    "    \n",
    "    puff_locs_x = [x_cut[np.absolute(time_loc-i).argmin()] for i in puff_events]\n",
    "    puff_locs_y = [y_cut[np.absolute(time_loc-i).argmin()] for i in puff_events]\n",
    "\n",
    "    # Find the mean of the puff location\n",
    "    x_mean = np.mean(puff_locs_x)\n",
    "\n",
    "    if(visualization):\n",
    "        plt.figure(figsize = (12,12))\n",
    "        plt.subplot(2, 2, 1)\n",
    "        plt.plot(x_cut,y_cut)\n",
    "        plt.plot(puff_locs_x, puff_locs_y, 'o', label = 'puff locations')\n",
    "        ylimits = plt.ylim()\n",
    "        plt.vlines(x = x_mean, ymin=ylimits[0], ymax= ylimits[1],linestyle='--', color='black', label = 'mean puff location')\n",
    "        plt.legend()\n",
    "\n",
    "        plt.subplot(2, 2, 2)\n",
    "        plt.plot(x_cut, time_loc[loc_run_ind[0]:loc_run_ind[-1]])\n",
    "        plt.plot(puff_locs_x, puff_events, 'o', label = 'puff locations')\n",
    "        \n",
    "        plt.subplot(2, 2, 3)\n",
    "        plt.hist(puff_locs_x, density=True)\n",
    "        ylim = plt.ylim()\n",
    "        plt.vlines(x_mean,ymin=0, ymax=ylim[1],color='red', label = 'mean')\n",
    "        plt.legend()        \n",
    "        plt.show()\n",
    "    \n",
    "    return x, y, time_loc, x_mean, puff_locs_x, puff_locs_y, x_cut, y_cut"
   ]
  },
  {
   "cell_type": "code",
   "execution_count": 5,
   "id": "154c02ce",
   "metadata": {},
   "outputs": [],
   "source": [
    "def spike_matrix_init(window, bin_width, visualization = False):\n",
    "    \"\"\"\n",
    "    This function constructs a spike matrix of shape [trial x neuron x bin]. \n",
    "    Every trial consists of an airpuff event, or the crossing of the location of an airpuff event.\n",
    "    Together with the matrix, a vector is returned that labels each trial as a puff/safe trial.\n",
    "    \"\"\"\n",
    "    # Find all reward timings of the session\n",
    "    lrw_ts_ = list(data.events[rat][session]['lrw']['ts']) \n",
    "    rrw_ts_ = list(data.events[rat][session]['rrw']['ts']) \n",
    "    \n",
    "    lrw_ts = []\n",
    "    rrw_ts = []\n",
    "    \n",
    "    # Make sure the rewards are an int format (some sessions consist of strings)\n",
    "    if isinstance(rrw_ts_[0], str):\n",
    "        for t in np.array(rrw_ts_):\n",
    "            rrw_ts.append(float(t[:14]))\n",
    "    else:\n",
    "        rrw_ts = rrw_ts_\n",
    "    \n",
    "    if isinstance(lrw_ts_[0], str):\n",
    "        for t in np.array(lrw_ts_):\n",
    "            lrw_ts.append(float(t[:14]))\n",
    "    else:\n",
    "        lrw_ts = lrw_ts_\n",
    "\n",
    "    # Cut off the left- and right rewards to the run-session\n",
    "    rrw_ts = [t for t in rrw_ts if t > begin_run_t and t < end_run_t]\n",
    "    lrw_ts = [t for t in lrw_ts if t > begin_run_t and t < end_run_t]\n",
    "\n",
    "    # Concatenate all reward timings\n",
    "    rw_ts = np.sort(rrw_ts + lrw_ts)\n",
    "\n",
    "    # Create bins \n",
    "    bins = np.arange(window[0],window[1]+1,bin_width)\n",
    "\n",
    "    # Initialize the spike matrix\n",
    "    spk_matrix_ = np.zeros([len(rw_ts)-1,n_neurons,bins.shape[0]-1]) # dimensions: trial x neuron x bins\n",
    "\n",
    "    # Initialize the trial type vector\n",
    "    trial_type = np.ndarray(len(rw_ts)-1)\n",
    "\n",
    "    # Keep track of event locations, only used for visualization\n",
    "    nopuff_x = []\n",
    "    nopuff_y = []\n",
    "    puff_x = []\n",
    "    puff_y = []\n",
    "    \n",
    "    # Keep track of the most recent puff\n",
    "    last_puff_x = x_mean \n",
    "    \n",
    "    # Keep track of all event times (only for visualization)\n",
    "    event_ts_puff = []\n",
    "    event_ts_safe = []\n",
    "    \n",
    "    for reward_i, reward_t in enumerate(rw_ts[:-1]):  # Every reward except the last marks the start of a run\n",
    "        # Make a list of puffs in the trial, if any\n",
    "        puff_list = [t for t in data.events[rat][session]['puf']['ts'] if t > reward_t and t < rw_ts[reward_i+1]]\n",
    "\n",
    "        valid_trial = True\n",
    "        \n",
    "        # Check whether this is a puff trial\n",
    "        if np.any(puff_list):\n",
    "            event_t = puff_list[-1]\n",
    "            event_ts_puff.append(event_t)\n",
    "            \n",
    "            # update last puff variable\n",
    "            last_puff_x = x[np.absolute(time_loc-event_t).argmin()]\n",
    "            puff_x.append(last_puff_x)\n",
    "            puff_y.append(y[np.absolute(time_loc-event_t).argmin()])\n",
    "\n",
    "        else: # If in a no-puff trial:\n",
    "            # Take a time slice of the trial \n",
    "            time_loc_ind = [index for index, t in enumerate(time_loc) if t > reward_t and t < rw_ts[reward_i+1]]\n",
    "            \n",
    "            # Check whether the timepoints give an empty array \n",
    "            if(~np.any(np.array(time_loc_ind))):\n",
    "                valid_trial = False\n",
    "                continue\n",
    "            \n",
    "            # Cut x, y and t to the trial\n",
    "            x_trial = list(x[time_loc_ind[0]:time_loc_ind[-1]])\n",
    "            y_trial = list(y[time_loc_ind[0]:time_loc_ind[-1]])\n",
    "            time_loc_trial = list(time_loc)[time_loc_ind[0]:time_loc_ind[-1]]           \n",
    "            \n",
    "            # Find the t where the rat is the closest to the recent puff location\n",
    "            if len(np.array(x_trial))==0: # Some sessions have missing location data. This prevents an error\n",
    "                   event_t = 0\n",
    "            else:\n",
    "                event_t = time_loc_trial[np.absolute(np.array(x_trial)-last_puff_x).argmin()]\n",
    "            event_ts_safe.append(event_t)\n",
    "            \n",
    "            if(visualization):\n",
    "                nopuff_x.append(x_trial[np.absolute(np.array(x_trial)-last_puff_x).argmin()]) \n",
    "                nopuff_y.append(y_trial[np.absolute(np.array(x_trial)-last_puff_x).argmin()]) \n",
    "        \n",
    "        if(valid_trial):\n",
    "            for ineuron in range(n_neurons):\n",
    "                spikes = spk[rat][session][area][neuron_list[ineuron]]\n",
    "                idx = np.where(np.logical_and(spikes>event_t+window[0], spikes<event_t+window[1]))[0]\n",
    "                count = np.histogram(spikes[idx]-event_t,bins)\n",
    "                spk_matrix_[reward_i,ineuron] = count[0]\n",
    "        else:\n",
    "            spk_matrix_[reward_i,ineuron] = np.zeros(len(range(window[0], window[1]+1)))\n",
    "                \n",
    "\n",
    "        # Put a 1 if in a puff trial, and a 0 otherwise\n",
    "        trial_type[reward_i] = int(np.any(puff_list))\n",
    "\n",
    "    if(visualization):   \n",
    "        plt.figure(figsize = (10,5))\n",
    "        plt.plot(x_cut, y_cut)\n",
    "        plt.plot(puff_x, puff_y, 'o', markersize=3, color='r', label = 'puff locations')\n",
    "        plt.plot(nopuff_x, nopuff_y, 'o', markersize=3, color='lime', label = 'non-puff locations')\n",
    "        ylimits = plt.ylim()\n",
    "        plt.vlines(x = x_mean, ymin=ylimits[0], ymax= ylimits[1],linestyle='--', color='black', label = 'mean puff location')\n",
    "        plt.legend()\n",
    "        plt.savefig('Figure8a.svg')\n",
    "        plt.savefig('Figure8a.jpg')\n",
    "        plt.show()\n",
    "        #plt.figure()\n",
    "        #plt.title('All spikes in the session, timelocked at puff/no puff')\n",
    "        #plt.imshow(np.sum(spk_matrix_,axis=0),aspect='auto',cmap='gray_r', vmin=0, vmax=1)\n",
    "        #plt.xticks(range(0, spk_matrix_.shape[2], 200), range(window[0],window[1], 200))\n",
    "        #plt.xlabel('Time (ms)')\n",
    "        #plt.ylabel('Neuron')\n",
    "        #plt.vlines(x = window[1], ymin=0, ymax= spk_matrix_.shape[1],linestyle='--', color='black', alpha=0.5)\n",
    "        \n",
    "        plt.show()\n",
    "        \n",
    "        plt.figure(figsize = (10,10))\n",
    "        plt.plot(x, time_loc)\n",
    "        plt.plot(puff_x, event_ts_puff, 'o', color='r',label='Puff events')\n",
    "        plt.plot(nopuff_x, event_ts_safe, 'o', color='lime', label='Safe events')\n",
    "        plt.ylim([10250000, 10900000])\n",
    "        plt.xlabel('x')\n",
    "        plt.ylabel('time (ms)')\n",
    "        plt.savefig('Figure8b.svg')\n",
    "        plt.savefig('Figure8b.jpg')\n",
    "        plt.show()\n",
    "\n",
    "    return spk_matrix_, trial_type"
   ]
  },
  {
   "cell_type": "code",
   "execution_count": 6,
   "id": "30d59d1a",
   "metadata": {},
   "outputs": [],
   "source": [
    "def mask_spikes(puff = True):\n",
    "    \"\"\"\n",
    "    This function returns the spike matrix for only the trials that are puff (or no puff if puff = False)\n",
    "    \"\"\"\n",
    "    PUFF = 1\n",
    "    SAFE = 0\n",
    "\n",
    "    puff_idx = np.where(trial_type == PUFF)[0]\n",
    "    safe_idx = np.where(trial_type == SAFE)[0]\n",
    "   \n",
    "    if puff:\n",
    "        return spk_matrix_[puff_idx,:,:]\n",
    "    else:\n",
    "        return spk_matrix_[safe_idx,:,:]"
   ]
  },
  {
   "cell_type": "code",
   "execution_count": 7,
   "id": "6de75a47",
   "metadata": {},
   "outputs": [],
   "source": [
    "def firing_ranks_spkmatrix(spikes_slice):\n",
    "    \"\"\"\n",
    "    Compute the ranks (i.e., the order in which the neurons spiked) of the given data\n",
    "    \"\"\"\n",
    "    \n",
    "    # Make a vector for average spike times per neuron\n",
    "    avg_spike = np.zeros([spikes_slice.shape[1]])\n",
    "    \n",
    "    # Make a matrix of ranks for each trial\n",
    "    ranks = np.full([spikes_slice.shape[0], spikes_slice.shape[1]], np.nan)\n",
    "\n",
    "    for trial in range(spikes_slice.shape[0]):    \n",
    "        # Find average spiking time per neuron\n",
    "        for ineuron in range(spikes_slice.shape[1]):\n",
    "            avg_spike[ineuron] = np.mean([bin_idx for bin_idx, activity in enumerate(spikes_slice[trial, ineuron]) if activity > 0])\n",
    "        \n",
    "        # Sort the neurons, based on their avg spiking time\n",
    "        sorted_neurons = np.argsort(avg_spike)\n",
    "\n",
    "        # Fill the rank matrix, but only for the defined 'rank-slots'\n",
    "        for ineuron, neuron in enumerate(sorted_neurons):\n",
    "            if not np.isnan(avg_spike[neuron]):\n",
    "                ranks[trial,ineuron] = neuron \n",
    "    return ranks"
   ]
  },
  {
   "cell_type": "code",
   "execution_count": 8,
   "id": "560a476f",
   "metadata": {},
   "outputs": [],
   "source": [
    "def event_locked_seq(win, n_surrogates, visualization = False):\n",
    "    \"\"\"\n",
    "    Returns the URI, p-value and occ-matrix when timelocked to the stimulus\n",
    "    \"\"\"\n",
    "    URI, URI_p_val, occurrence_matrix = getURI(spk_matrix[:,:,window[1]:window[1]+win], n_surrogates)\n",
    "\n",
    "    sorted_occ = sort_occ_matrix(occurrence_matrix, mean_rank=True)\n",
    "    if len(sorted_occ[2]) < 5:\n",
    "        URI_p_val = np.nan\n",
    "    \n",
    "    if visualization:\n",
    "        plt.figure()\n",
    "        plt.subplot(1, 2, 1)\n",
    "        plt.title('Sorted on mean rank')\n",
    "        \n",
    "        plt.imshow(sorted_occ[0])\n",
    "        plt.yticks(range(len(sorted_occ[2])), sorted_occ[2][sorted_occ[1]])\n",
    "        print(sorted_occ[2])\n",
    "        plt.colorbar()\n",
    "        \n",
    "        plt.subplot(1, 2, 2)\n",
    "        plt.title('Sorted on most frequent rank')\n",
    "        sorted_occ = sort_occ_matrix(occurrence_matrix)\n",
    "        plt.imshow(sorted_occ[0])\n",
    "        plt.yticks(range(len(sorted_occ[2])), sorted_occ[2][sorted_occ[1]])        \n",
    "        plt.colorbar()\n",
    "        \n",
    "        plt.savefig('Event-locked-sequence.svg')\n",
    "        plt.show()\n",
    "        \n",
    "    return URI, URI_p_val, occurrence_matrix"
   ]
  },
  {
   "cell_type": "code",
   "execution_count": 9,
   "id": "09d4a408",
   "metadata": {},
   "outputs": [],
   "source": [
    "def sort_occ_matrix(occ_matrix, mean_rank=False):   \n",
    "    \"\"\"\"\n",
    "    Modifies an occ matrix to only active neurons and 'used' rank positions. \n",
    "    Also, it sorts the matrix, either based on mean rank, or on mode rank.\n",
    "    \"\"\"\n",
    "    # Find active neurons\n",
    "    active_neurons = np.where(np.any(occ_matrix!=0, axis=1))[0]\n",
    "\n",
    "    # Find non-zero rank range\n",
    "    active_ranks = np.where(np.any(occ_matrix!=0, axis=0))[0]\n",
    "    if len(active_ranks)==0:\n",
    "        rank_limit = 1\n",
    "    else:\n",
    "        rank_limit = active_ranks[-1]\n",
    "\n",
    "    # Pick 'active' rows of occ_matrix, for relevant rank range\n",
    "    occ_matrix = occ_matrix[active_neurons, 0:rank_limit+1]\n",
    "    \n",
    "    # Compute max rank\n",
    "    max_ranks = np.argmax(occ_matrix, axis=1)\n",
    "    \n",
    "    # Compute mean rank\n",
    "    mean_ranks = np.zeros(len(active_neurons))\n",
    "    for ineuron, neuron in enumerate(active_neurons):\n",
    "        mean_ranks[ineuron] = np.mean(occ_matrix[ineuron,:]*np.arange(rank_limit+1))\n",
    "    \n",
    "    \n",
    "    # Return sorted occ matrix\n",
    "    if mean_rank:\n",
    "        return [occ_matrix[np.argsort(mean_ranks),:], np.argsort(mean_ranks), active_neurons]\n",
    "    else:\n",
    "        return [occ_matrix[np.argsort(max_ranks),:], np.argsort(max_ranks), active_neurons]"
   ]
  },
  {
   "cell_type": "code",
   "execution_count": 11,
   "id": "1f1ee268",
   "metadata": {},
   "outputs": [],
   "source": [
    "def even_odd_occ(win, spk_matrix, neuron):\n",
    "    \"\"\"\n",
    "    This function shows all trials, sorted on the ranks of only the even trials\n",
    "    \"\"\"\n",
    "    # Find all even trials\n",
    "    even_slice = np.array([spk_matrix[trial,:,:] for trial in range(spk_matrix.shape[0]) if trial % 2 == 0])\n",
    "    \n",
    "    # Find all odd trials\n",
    "    odd_slice = np.array([spk_matrix[trial,:,:] for trial in range(spk_matrix.shape[0]) if trial % 2 == 1])\n",
    "    \n",
    "    # Find ranks of even trials\n",
    "    ranks_even = firing_ranks_spkmatrix(even_slice)\n",
    "    \n",
    "    # Make occurence matrix\n",
    "    occ_matrix_even = firing_ranks2occ_matrix(ranks_even)\n",
    "\n",
    "    # Compute the rank that should be labeled 0/the trigger\n",
    "    zero_rank_even = np.argmax(occ_matrix_even[neuron])\n",
    "    \n",
    "    # Sort occurence matrix\n",
    "    [occ_matrix_even, sort_order, active_neurons] = sort_occ_matrix(occ_matrix_even)\n",
    "\n",
    "    # Find ranks of odd trials\n",
    "    ranks_odd = firing_ranks_spkmatrix(odd_slice)\n",
    "\n",
    "    # Make occurence matrix\n",
    "    occ_matrix_odd = firing_ranks2occ_matrix(ranks_odd)\n",
    "    \n",
    "    # Compute the rank that should be labeled 0/the trigger\n",
    "    zero_rank_odd = np.argmax(occ_matrix_odd[neuron])\n",
    "\n",
    "    # Sort the occurence matrix equivalent to the even trials\n",
    "    occ_matrix_odd = occ_matrix_odd[active_neurons]\n",
    "    occ_matrix_odd = occ_matrix_odd[sort_order]\n",
    "    \n",
    "    \n",
    "    plt.figure(figsize=(12, 6))\n",
    "    plt.subplot(1, 2, 1)\n",
    "    plt.title('Active neurons in even trials, ordered on mean rank')\n",
    "    plt.imshow(occ_matrix_even)\n",
    "    plt.xticks(ticks = range(occ_matrix_even.shape[1]), labels=range(-zero_rank_even,occ_matrix_even.shape[1]-zero_rank_even))\n",
    "    plt.yticks(range(len(active_neurons)), active_neurons[sort_order])\n",
    "    plt.ylabel('Neuron')\n",
    "    plt.ylabel('Ranks')\n",
    "    plt.subplot(1, 2, 2)\n",
    "    plt.title('Active neurons in odd trials, ordered equivalent to even trials')\n",
    "    plt.imshow(occ_matrix_odd[:,:occ_matrix_even.shape[1]])\n",
    "    plt.xticks(ticks = range(occ_matrix_even.shape[1]), labels=range(-zero_rank_odd,occ_matrix_odd.shape[1]-zero_rank_odd)[:occ_matrix_even.shape[1]])\n",
    "    plt.yticks(range(len(active_neurons)), active_neurons[sort_order])\n",
    "    plt.ylabel('Neuron')\n",
    "    plt.ylabel('Ranks')\n",
    "    plt.xticks()\n",
    "    plt.colorbar()\n",
    "    plt.show()"
   ]
  },
  {
   "cell_type": "code",
   "execution_count": 12,
   "id": "276570a7",
   "metadata": {},
   "outputs": [],
   "source": [
    "def MI(M):\n",
    "    \"\"\"\n",
    "    Function made by Tom Has.\n",
    "    Calculates the mutual information between the 2 axes of a matrix.\n",
    "    Input:  - M:  2d matrix\n",
    "    Output: - MI: Mutual information\n",
    "    \"\"\"\n",
    "    sizex = M.shape[0]\n",
    "    sizey = M.shape[1]\n",
    "    total = np.sum(M)\n",
    "    p_Y = np.sum(M, axis=0) / total\n",
    "    p_X = np.sum(M, axis=1) / total\n",
    "    # MI = sum over x and y: p(x,y) * log(p(x,y) / (p(x) * p(y)))\n",
    "    #    = sum over x and y: M(x,y)/total * log((M(x,y) * total) / (p_X(x) * p_Y(y)))\n",
    "    MI = sum([sum([(\n",
    "        0 if M[x, y] == 0 else\n",
    "        M[x, y] / total * np.log((M[x, y] / total) / (p_X[x] * p_Y[y]))\n",
    "    ) for x in range(sizex)]) for y in range(sizey)])\n",
    "    return MI\n",
    "\n",
    "def firing_ranks2occ_matrix(firing_ranks):\n",
    "    \"\"\"\n",
    "    Function made by Tom Has.\n",
    "    Constructs an occurrence matrix from firing ranks where occ[x, y] represents how often neuron x had rank y.\n",
    "    Input:  - firing_ranks: Array containing for each rank in each trial which neuron had this rank in this trial\n",
    "    Output: - occ:          Occurrence matrix\n",
    "    \"\"\"\n",
    "    n_neurons = firing_ranks.shape[1]\n",
    "    occ = np.zeros((n_neurons, n_neurons), dtype=int)\n",
    "    # Loop over trials\n",
    "    for trial in firing_ranks:\n",
    "        # Loop over ranks:\n",
    "        for rank, neuron in enumerate(trial):\n",
    "            if np.isnan(neuron):\n",
    "                continue\n",
    "            # For not nan rank, neuron pairs, increment the respective square in the occurrence matrix|\n",
    "            occ[int(neuron), rank] += 1\n",
    "    return occ\n",
    "\n",
    "def get_surrogate_MIs(firing_ranks, n_surrogates):\n",
    "    \"\"\"\n",
    "    Function made by Tom Has.\n",
    "    Computes a number of MI scores belonging to unit-rank shuffled versions of firing_ranks\n",
    "    Input:  - firing_ranks: Array containing for each rank in each trial which neuron had this rank in this trial\n",
    "            - n_surrogates: Number of shuffles / number of surrogate scores obtained\n",
    "    Output: - MIs:          MI scores belonging to the surrogates (1 score per surrogate)\n",
    "    \"\"\"\n",
    "    # Create a copy of firing_ranks\n",
    "    ranks = firing_ranks.copy()\n",
    "    # Create an array for return values\n",
    "    MIs = np.empty(n_surrogates)\n",
    "    # Loop n_surrogates times\n",
    "    for nr in range(n_surrogates):\n",
    "        for trial in ranks:\n",
    "            # Get the valid indices (not nan)\n",
    "            ivalid = np.where(~np.isnan(trial))[0]\n",
    "            # Shuffle trials and ranks\n",
    "            trial[ivalid] = trial[rng.permutation(ivalid)]\n",
    "\n",
    "        occ = firing_ranks2occ_matrix(ranks)\n",
    "        MIs[nr] = MI(occ)\n",
    "    return MIs\n",
    "\n",
    "def getURI(firing_times_per_trial, nr_surrogates):\n",
    "    # global avg_firing_time\n",
    "    \"\"\"\n",
    "    Function made by Tom Has.\n",
    "    Computes the mutual information between unit and firing rank.\n",
    "    Firing rank is defined as the place in the order of average firing times for a neuron within a trial.\n",
    "    Input:  - firing_times_per_trial: 2d array containing for each neuron, for each trial the list of firing times\n",
    "                                      that this neuron produced in this trial.\n",
    "            - nr_surrogates:          Number of shuffled occurrence matrices to compute p-value. Gets more accurate\n",
    "                                      with higher numbers.\n",
    "    Output: - URI:                    The calculated URI metric.\n",
    "            - occurrence_matrix:      The occurrence matrix between neuron and rank\n",
    "            - p-value:                p-value from surrogate calculation. Can be interpreted as the probability of\n",
    "                                      URI metric being as high as it is under null-hypothesis (no sequence).\n",
    "    \"\"\"\n",
    "    ranks = firing_ranks_spkmatrix(firing_times_per_trial)    \n",
    "    occurrence_matrix = firing_ranks2occ_matrix(ranks)\n",
    "    URI = MI(occurrence_matrix)\n",
    "    surrogates = get_surrogate_MIs(ranks, nr_surrogates)\n",
    "    URI_p_val = np.count_nonzero(surrogates >= URI) / nr_surrogates\n",
    "    return URI, URI_p_val, occurrence_matrix"
   ]
  },
  {
   "cell_type": "markdown",
   "id": "d5eb4453",
   "metadata": {},
   "source": [
    "# Construct a session matrix with all valid sessions"
   ]
  },
  {
   "cell_type": "code",
   "execution_count": 14,
   "id": "d65d5157",
   "metadata": {},
   "outputs": [
    {
     "data": {
      "text/plain": [
       "array([[ 0.,  1.,  2.,  3.,  4.,  5.,  6.,  7.,  8., nan, nan, nan],\n",
       "       [ 0.,  1.,  2.,  3.,  5.,  6.,  7.,  8.,  9., nan, nan, nan],\n",
       "       [ 0.,  2.,  3.,  4.,  5.,  6.,  7.,  8.,  9., nan, nan, nan],\n",
       "       [ 0.,  1.,  2.,  3.,  4.,  5.,  6.,  7., nan, nan, nan, nan]])"
      ]
     },
     "execution_count": 14,
     "metadata": {},
     "output_type": "execute_result"
    }
   ],
   "source": [
    "rats = ['Rat08', 'Rat09', 'Rat10', 'Rat11']\n",
    "\n",
    "# Initialize all sessions for all rats\n",
    "valid_sessions = [list(range(9)), list(range(10)), list(range(12)), list(range(8))]\n",
    "\n",
    "# Remove all invalid sessions. \n",
    "#Sessions are invalid if there is a missing file, or if there are not sufficiently many airpuffs/valid trials.\n",
    "valid_sessions[1].remove(4)\n",
    "valid_sessions[2].remove(1)\n",
    "valid_sessions[2].remove(10)\n",
    "valid_sessions[2].remove(11)\n",
    "\n",
    "# Initialize a session matrix of dimensions [rat x session]\n",
    "session_matrix = np.full([4, 12],np.nan)\n",
    "for irat in range(4):\n",
    "    session_matrix[irat,:len(valid_sessions[irat])] = valid_sessions[irat]\n",
    "    \n",
    "session_matrix"
   ]
  },
  {
   "cell_type": "markdown",
   "id": "31a2d9ff",
   "metadata": {},
   "source": [
    "# Set up hyperparameters"
   ]
  },
  {
   "cell_type": "code",
   "execution_count": 15,
   "id": "42f10d41",
   "metadata": {},
   "outputs": [],
   "source": [
    "# Window for constructing the spike matrix\n",
    "window = (-1000, 1000)\n",
    "\n",
    "# Width of the bins used in the spike matrix\n",
    "bin_width = 1\n",
    "\n",
    "# Define the sequence-window and number of surrogates\n",
    "n_surrogates = 1000\n",
    "\n",
    "area = 'all'"
   ]
  },
  {
   "cell_type": "markdown",
   "id": "d842f8cd",
   "metadata": {},
   "source": [
    "# Data visualization for a session"
   ]
  },
  {
   "cell_type": "code",
   "execution_count": 16,
   "id": "5e322fbf",
   "metadata": {},
   "outputs": [
    {
     "name": "stdout",
     "output_type": "stream",
     "text": [
      "C:\\Users\\pepij\\OneDrive\\Documenten\\02 AI\\4 Thesis\\GG-Dataset-Tulio-Ultralight\\\n"
     ]
    },
    {
     "name": "stderr",
     "output_type": "stream",
     "text": [
      "C:\\Users\\pepij\\OneDrive\\Documenten\\02 AI\\4 Thesis\\GG-Dataset-Tulio-Ultralight\\data_loader.py:590: UserWarning: The file does not exist in the dataset, check the folder \n",
      " C:\\Users\\pepij\\OneDrive\\Documenten\\02 AI\\4 Thesis\\GG-Dataset-Tulio-Ultralight\\Rat09\\Rat09-20140324\\Rat09-20140324.rip.evt\n",
      "  self.__warning_msg(path)\n",
      "C:\\Users\\pepij\\OneDrive\\Documenten\\02 AI\\4 Thesis\\GG-Dataset-Tulio-Ultralight\\data_loader.py:590: UserWarning: The file does not exist in the dataset, check the folder \n",
      " C:\\Users\\pepij\\OneDrive\\Documenten\\02 AI\\4 Thesis\\GG-Dataset-Tulio-Ultralight\\Rat09\\Rat09-20140325\\Rat09-20140325.rip.evt\n",
      "  self.__warning_msg(path)\n",
      "C:\\Users\\pepij\\OneDrive\\Documenten\\02 AI\\4 Thesis\\GG-Dataset-Tulio-Ultralight\\data_loader.py:590: UserWarning: The file does not exist in the dataset, check the folder \n",
      " C:\\Users\\pepij\\OneDrive\\Documenten\\02 AI\\4 Thesis\\GG-Dataset-Tulio-Ultralight\\Rat09\\Rat09-20140326\\Rat09-20140326.rip.evt\n",
      "  self.__warning_msg(path)\n",
      "C:\\Users\\pepij\\OneDrive\\Documenten\\02 AI\\4 Thesis\\GG-Dataset-Tulio-Ultralight\\data_loader.py:590: UserWarning: The file does not exist in the dataset, check the folder \n",
      " C:\\Users\\pepij\\OneDrive\\Documenten\\02 AI\\4 Thesis\\GG-Dataset-Tulio-Ultralight\\Rat09\\Rat09-20140327\\Rat09-20140327.rip.evt\n",
      "  self.__warning_msg(path)\n",
      "C:\\Users\\pepij\\OneDrive\\Documenten\\02 AI\\4 Thesis\\GG-Dataset-Tulio-Ultralight\\data_loader.py:590: UserWarning: The file does not exist in the dataset, check the folder \n",
      " C:\\Users\\pepij\\OneDrive\\Documenten\\02 AI\\4 Thesis\\GG-Dataset-Tulio-Ultralight\\Rat09\\Rat09-20140328\\Rat09-20140328.rip.evt\n",
      "  self.__warning_msg(path)\n",
      "C:\\Users\\pepij\\OneDrive\\Documenten\\02 AI\\4 Thesis\\GG-Dataset-Tulio-Ultralight\\data_loader.py:590: UserWarning: The file does not exist in the dataset, check the folder \n",
      " C:\\Users\\pepij\\OneDrive\\Documenten\\02 AI\\4 Thesis\\GG-Dataset-Tulio-Ultralight\\Rat09\\Rat09-20140329\\Rat09-20140329.rip.evt\n",
      "  self.__warning_msg(path)\n",
      "C:\\Users\\pepij\\OneDrive\\Documenten\\02 AI\\4 Thesis\\GG-Dataset-Tulio-Ultralight\\data_loader.py:590: UserWarning: The file does not exist in the dataset, check the folder \n",
      " C:\\Users\\pepij\\OneDrive\\Documenten\\02 AI\\4 Thesis\\GG-Dataset-Tulio-Ultralight\\Rat09\\Rat09-20140331\\Rat09-20140331.rip.evt\n",
      "  self.__warning_msg(path)\n",
      "C:\\Users\\pepij\\OneDrive\\Documenten\\02 AI\\4 Thesis\\GG-Dataset-Tulio-Ultralight\\data_loader.py:590: UserWarning: The file does not exist in the dataset, check the folder \n",
      " C:\\Users\\pepij\\OneDrive\\Documenten\\02 AI\\4 Thesis\\GG-Dataset-Tulio-Ultralight\\Rat09\\Rat09-20140401\\Rat09-20140401.rip.evt\n",
      "  self.__warning_msg(path)\n",
      "C:\\Users\\pepij\\OneDrive\\Documenten\\02 AI\\4 Thesis\\GG-Dataset-Tulio-Ultralight\\data_loader.py:590: UserWarning: The file does not exist in the dataset, check the folder \n",
      " C:\\Users\\pepij\\OneDrive\\Documenten\\02 AI\\4 Thesis\\GG-Dataset-Tulio-Ultralight\\Rat09\\Rat09-20140402\\Rat09-20140402.rip.evt\n",
      "  self.__warning_msg(path)\n",
      "C:\\Users\\pepij\\OneDrive\\Documenten\\02 AI\\4 Thesis\\GG-Dataset-Tulio-Ultralight\\data_loader.py:590: UserWarning: The file does not exist in the dataset, check the folder \n",
      " C:\\Users\\pepij\\OneDrive\\Documenten\\02 AI\\4 Thesis\\GG-Dataset-Tulio-Ultralight\\Rat09\\Rat09-20140403\\Rat09-20140403.rip.evt\n",
      "  self.__warning_msg(path)\n",
      "\n",
      "KeyboardInterrupt\n",
      "\n"
     ]
    }
   ],
   "source": [
    "rat_id = 1\n",
    "rat = rats[rat_id]\n",
    "v = True\n",
    "session_nr = 5\n",
    "\n",
    "# Load the (spike) data\n",
    "data = load_data(rat)\n",
    "spk = data.get_spk()\n",
    "\n",
    "# Define neurons, session and times of the run\n",
    "neuron_list, n_neurons, session, begin_run_t, end_run_t = session_vars(session_nr)\n",
    "\n",
    "# Define variables related to the location of the rats and airpuff events\n",
    "x, y, time_loc, x_mean, puff_locs_x, puff_locs_y, x_cut, y_cut = position_vars(visualization = False)\n",
    "\n",
    "# Construct the spike matrix \n",
    "spk_matrix_, trial_type = spike_matrix_init(window, bin_width, visualization = True)"
   ]
  },
  {
   "cell_type": "markdown",
   "id": "f04271fc-3885-43cb-bf1f-92f9ce2106dc",
   "metadata": {},
   "source": [
    "# Find average firing rate of a particular session"
   ]
  },
  {
   "cell_type": "code",
   "execution_count": 21,
   "id": "bf785fd8-f406-4307-9986-0bbd5574a64e",
   "metadata": {},
   "outputs": [
    {
     "name": "stdout",
     "output_type": "stream",
     "text": [
      "Rat: 0\n",
      "C:\\Users\\pepij\\OneDrive\\Documenten\\02 AI\\4 Thesis\\GG-Dataset-Tulio-Ultralight\\\n",
      "    Session: 2\n",
      "    Session: 4\n",
      "    Session: 5\n",
      "    Session: 6\n",
      "    Session: 7\n",
      "    Session: 8\n",
      "Rat: 1\n",
      "C:\\Users\\pepij\\OneDrive\\Documenten\\02 AI\\4 Thesis\\GG-Dataset-Tulio-Ultralight\\\n"
     ]
    },
    {
     "name": "stderr",
     "output_type": "stream",
     "text": [
      "C:\\Users\\pepij\\OneDrive\\Documenten\\02 AI\\4 Thesis\\GG-Dataset-Tulio-Ultralight\\data_loader.py:590: UserWarning: The file does not exist in the dataset, check the folder \n",
      " C:\\Users\\pepij\\OneDrive\\Documenten\\02 AI\\4 Thesis\\GG-Dataset-Tulio-Ultralight\\Rat09\\Rat09-20140324\\Rat09-20140324.rip.evt\n",
      "  self.__warning_msg(path)\n",
      "C:\\Users\\pepij\\OneDrive\\Documenten\\02 AI\\4 Thesis\\GG-Dataset-Tulio-Ultralight\\data_loader.py:590: UserWarning: The file does not exist in the dataset, check the folder \n",
      " C:\\Users\\pepij\\OneDrive\\Documenten\\02 AI\\4 Thesis\\GG-Dataset-Tulio-Ultralight\\Rat09\\Rat09-20140325\\Rat09-20140325.rip.evt\n",
      "  self.__warning_msg(path)\n",
      "C:\\Users\\pepij\\OneDrive\\Documenten\\02 AI\\4 Thesis\\GG-Dataset-Tulio-Ultralight\\data_loader.py:590: UserWarning: The file does not exist in the dataset, check the folder \n",
      " C:\\Users\\pepij\\OneDrive\\Documenten\\02 AI\\4 Thesis\\GG-Dataset-Tulio-Ultralight\\Rat09\\Rat09-20140326\\Rat09-20140326.rip.evt\n",
      "  self.__warning_msg(path)\n",
      "C:\\Users\\pepij\\OneDrive\\Documenten\\02 AI\\4 Thesis\\GG-Dataset-Tulio-Ultralight\\data_loader.py:590: UserWarning: The file does not exist in the dataset, check the folder \n",
      " C:\\Users\\pepij\\OneDrive\\Documenten\\02 AI\\4 Thesis\\GG-Dataset-Tulio-Ultralight\\Rat09\\Rat09-20140327\\Rat09-20140327.rip.evt\n",
      "  self.__warning_msg(path)\n",
      "C:\\Users\\pepij\\OneDrive\\Documenten\\02 AI\\4 Thesis\\GG-Dataset-Tulio-Ultralight\\data_loader.py:590: UserWarning: The file does not exist in the dataset, check the folder \n",
      " C:\\Users\\pepij\\OneDrive\\Documenten\\02 AI\\4 Thesis\\GG-Dataset-Tulio-Ultralight\\Rat09\\Rat09-20140328\\Rat09-20140328.rip.evt\n",
      "  self.__warning_msg(path)\n",
      "C:\\Users\\pepij\\OneDrive\\Documenten\\02 AI\\4 Thesis\\GG-Dataset-Tulio-Ultralight\\data_loader.py:590: UserWarning: The file does not exist in the dataset, check the folder \n",
      " C:\\Users\\pepij\\OneDrive\\Documenten\\02 AI\\4 Thesis\\GG-Dataset-Tulio-Ultralight\\Rat09\\Rat09-20140329\\Rat09-20140329.rip.evt\n",
      "  self.__warning_msg(path)\n",
      "C:\\Users\\pepij\\OneDrive\\Documenten\\02 AI\\4 Thesis\\GG-Dataset-Tulio-Ultralight\\data_loader.py:590: UserWarning: The file does not exist in the dataset, check the folder \n",
      " C:\\Users\\pepij\\OneDrive\\Documenten\\02 AI\\4 Thesis\\GG-Dataset-Tulio-Ultralight\\Rat09\\Rat09-20140331\\Rat09-20140331.rip.evt\n",
      "  self.__warning_msg(path)\n",
      "C:\\Users\\pepij\\OneDrive\\Documenten\\02 AI\\4 Thesis\\GG-Dataset-Tulio-Ultralight\\data_loader.py:590: UserWarning: The file does not exist in the dataset, check the folder \n",
      " C:\\Users\\pepij\\OneDrive\\Documenten\\02 AI\\4 Thesis\\GG-Dataset-Tulio-Ultralight\\Rat09\\Rat09-20140401\\Rat09-20140401.rip.evt\n",
      "  self.__warning_msg(path)\n",
      "C:\\Users\\pepij\\OneDrive\\Documenten\\02 AI\\4 Thesis\\GG-Dataset-Tulio-Ultralight\\data_loader.py:590: UserWarning: The file does not exist in the dataset, check the folder \n",
      " C:\\Users\\pepij\\OneDrive\\Documenten\\02 AI\\4 Thesis\\GG-Dataset-Tulio-Ultralight\\Rat09\\Rat09-20140402\\Rat09-20140402.rip.evt\n",
      "  self.__warning_msg(path)\n",
      "C:\\Users\\pepij\\OneDrive\\Documenten\\02 AI\\4 Thesis\\GG-Dataset-Tulio-Ultralight\\data_loader.py:590: UserWarning: The file does not exist in the dataset, check the folder \n",
      " C:\\Users\\pepij\\OneDrive\\Documenten\\02 AI\\4 Thesis\\GG-Dataset-Tulio-Ultralight\\Rat09\\Rat09-20140403\\Rat09-20140403.rip.evt\n",
      "  self.__warning_msg(path)\n"
     ]
    },
    {
     "name": "stdout",
     "output_type": "stream",
     "text": [
      "    Session: 0\n",
      "    Session: 1\n",
      "    Session: 2\n",
      "    Session: 3\n",
      "    Session: 5\n",
      "    Session: 6\n",
      "    Session: 7\n",
      "    Session: 8\n",
      "    Session: 9\n",
      "Rat: 2\n",
      "C:\\Users\\pepij\\OneDrive\\Documenten\\02 AI\\4 Thesis\\GG-Dataset-Tulio-Ultralight\\\n"
     ]
    },
    {
     "name": "stderr",
     "output_type": "stream",
     "text": [
      "C:\\Users\\pepij\\OneDrive\\Documenten\\02 AI\\4 Thesis\\GG-Dataset-Tulio-Ultralight\\data_loader.py:515: UserWarning: The file does not exist in the dataset, check the folder \n",
      " C:\\Users\\pepij\\OneDrive\\Documenten\\02 AI\\4 Thesis\\GG-Dataset-Tulio-Ultralight\\Rat10\\Rat10-20140704\\Rat10-20140704-pos.csv\n",
      "  self.__warning_msg(self.paths[rat][session]['position'])\n"
     ]
    },
    {
     "name": "stdout",
     "output_type": "stream",
     "text": [
      "    Session: 0\n",
      "    Session: 2\n",
      "    Session: 3\n",
      "    Session: 4\n",
      "    Session: 5\n",
      "    Session: 6\n",
      "    Session: 7\n",
      "    Session: 8\n",
      "    Session: 9\n",
      "Rat: 3\n",
      "C:\\Users\\pepij\\OneDrive\\Documenten\\02 AI\\4 Thesis\\GG-Dataset-Tulio-Ultralight\\\n",
      "    Session: 0\n",
      "    Session: 1\n",
      "    Session: 2\n",
      "    Session: 3\n",
      "    Session: 4\n",
      "    Session: 5\n",
      "    Session: 6\n",
      "    Session: 7\n"
     ]
    }
   ],
   "source": [
    "v = False\n",
    "\n",
    "# We construct a matrix for all firing rates with dimensions: [rat x session x neuron]\n",
    "FR_mat = np.full([4, 12, 150],np.nan)\n",
    "n_neurons_mat = np.full([4, 12], np.nan)\n",
    "\n",
    "\n",
    "rats = ['Rat08', 'Rat09', 'Rat10', 'Rat11']\n",
    "\n",
    "window = (-2000, 2000)\n",
    "\n",
    "total_duration = window[1]-window[0]/1000\n",
    "\n",
    "for irat, rat in enumerate(rats):\n",
    "    print(\"Rat:\", str(irat))\n",
    "    # Load the (spike) data\n",
    "    data = load_data(rat)\n",
    "    spk = data.get_spk()\n",
    "    \n",
    "    for session_nr in session_matrix[irat]:\n",
    "        if np.isnan(session_nr):\n",
    "            continue\n",
    "        print(\"    Session:\", str(int(session_nr)))\n",
    "        \n",
    "        session_nr = int(session_nr)\n",
    "\n",
    "        # Define neurons, session and times of the run\n",
    "        neuron_list, n_neurons, session, begin_run_t, end_run_t = session_vars(session_nr)\n",
    "\n",
    "        # Define variables related to the location of the rats and airpuff events\n",
    "        x, y, time_loc, x_mean, puff_locs_x, puff_locs_y, x_cut, y_cut = position_vars(visualization = v)\n",
    "\n",
    "        # Construct the spike matrix \n",
    "        spk_matrix_, trial_type = spike_matrix_init(window, bin_width, visualization = v)  \n",
    "        n_neurons_mat[irat, session_nr] = spk_matrix_.shape[1]\n",
    "        FR_mat[irat, session_nr,:spk_matrix_.shape[1]] = spk_matrix_.sum(axis=0).sum(axis=1).astype(int)/(spk_matrix_.shape[2]/total_duration)/spk_matrix_.shape[0]"
   ]
  },
  {
   "cell_type": "code",
   "execution_count": 22,
   "id": "8ac9589f-f875-4a48-b470-28f1403fbb0d",
   "metadata": {},
   "outputs": [
    {
     "data": {
      "image/png": "[encoded data removed]",
      "text/plain": [
       "<Figure size 432x288 with 1 Axes>"
      ]
     },
     "metadata": {
      "needs_background": "light"
     },
     "output_type": "display_data"
    },
    {
     "name": "stdout",
     "output_type": "stream",
     "text": [
      "Active: 92.0 %\n",
      "Inactive: 8.0 %\n"
     ]
    },
    {
     "data": {
      "image/png": "[encoded data removed]",
      "text/plain": [
       "<Figure size 432x288 with 1 Axes>"
      ]
     },
     "metadata": {
      "needs_background": "light"
     },
     "output_type": "display_data"
    },
    {
     "data": {
      "image/png": "[encoded data removed]",
      "text/plain": [
       "<Figure size 432x360 with 1 Axes>"
      ]
     },
     "metadata": {
      "needs_background": "light"
     },
     "output_type": "display_data"
    },
    {
     "data": {
      "image/png": "[encoded data removed]",
      "text/plain": [
       "<Figure size 432x360 with 1 Axes>"
      ]
     },
     "metadata": {
      "needs_background": "light"
     },
     "output_type": "display_data"
    }
   ],
   "source": [
    "n_neurons_list = []\n",
    "\n",
    "for i in range(n_neurons_mat.shape[0]):\n",
    "    for j in range(n_neurons_mat.shape[1]):\n",
    "        if ~np.isnan(n_neurons_mat[i,j]):\n",
    "            n_neurons_list.append(int(n_neurons_mat[i,j]))\n",
    "\n",
    "plt.figure()\n",
    "ax = plt.axes()\n",
    "ax.set_facecolor(\"lightgrey\")\n",
    "plt.plot(n_neurons_list, np.repeat(1, len(n_neurons_list)), 'x', color='white')\n",
    "plt.hist(n_neurons_list, color='k')\n",
    "plt.xlabel('Number of BLA neurons recorded')\n",
    "plt.ylabel('Occurrence')\n",
    "plt.show()\n",
    "\n",
    "FR_list = []\n",
    "for rat in range(FR_mat.shape[0]):\n",
    "    for session in range(FR_mat.shape[1]):\n",
    "        for neuron in range(FR_mat.shape[2]):\n",
    "            if ~np.isnan(FR_mat[rat,session,neuron]) and FR_mat[rat,session,neuron] != 0:\n",
    "                FR_list.append(FR_mat[rat,session,neuron])\n",
    "\n",
    "overall_ratios = [len(np.where(np.array(FR_list)>=0)[0]), len(np.where(np.array(FR_mat)==0)[0])]\n",
    "\n",
    "print(\"Active:\",str(np.round(overall_ratios[0]/np.sum(overall_ratios)*100)),\"%\")\n",
    "print(\"Inactive:\",str(np.round(overall_ratios[1]/np.sum(overall_ratios)*100)),\"%\")\n",
    "\n",
    "\n",
    "plt.figure()\n",
    "ax = plt.axes()\n",
    "ax.set_facecolor(\"lightgrey\")\n",
    "plt.hist(FR_list, color='k', bins=200)\n",
    "plt.xlabel('Frequency of all BLA neurons recorded')\n",
    "plt.ylabel('Occurrence')\n",
    "plt.xlim([0,25])\n",
    "plt.show()\n",
    "\n",
    "\n",
    "plt.figure(figsize=([6,5]))\n",
    "ax = plt.axes()\n",
    "ax.set_facecolor(\"lightgrey\")\n",
    "plt.hist(FR_list, color='k', bins=300, density=True)\n",
    "x = np.linspace(0, 25, 500)\n",
    "plt.plot(x, 4.93 *np.exp(- 4.93 *x), linewidth=3)\n",
    "plt.xlim([0,5])\n",
    "plt.xlabel('Baseline frequency of recorded BLA neurons')\n",
    "plt.ylabel('Probability density')\n",
    "\n",
    "plt.show()\n",
    "\n",
    "plt.figure(figsize=([6,5]))\n",
    "ax = plt.axes()\n",
    "ax.set_facecolor(\"lightgrey\")\n",
    "plt.hist(FR_list, color='k', bins=5000, density=True)\n",
    "x = np.linspace(0, 25, 500)\n",
    "plt.plot(x, 4.93 *np.exp(- 4.93 *x), linewidth=3)\n",
    "plt.xlim([0,1])\n",
    "plt.xlabel('Baseline frequency of recorded BLA neurons')\n",
    "plt.ylabel('Probability density')\n",
    "\n",
    "plt.show()"
   ]
  },
  {
   "cell_type": "markdown",
   "id": "a638b08b-bf46-45a2-8c6b-51b6bcc587fd",
   "metadata": {},
   "source": [
    "# Fit a line to describe distribution of firing rates"
   ]
  },
  {
   "cell_type": "code",
   "execution_count": 30,
   "id": "cd7f4c58-8923-44d2-a638-8e89a5fca7bc",
   "metadata": {},
   "outputs": [
    {
     "data": {
      "image/png": "[encoded data removed]",
      "text/plain": [
       "<Figure size 432x288 with 1 Axes>"
      ]
     },
     "metadata": {
      "needs_background": "light"
     },
     "output_type": "display_data"
    },
    {
     "data": {
      "image/png": "[encoded data removed]",
      "text/plain": [
       "<Figure size 432x288 with 1 Axes>"
      ]
     },
     "metadata": {
      "needs_background": "light"
     },
     "output_type": "display_data"
    }
   ],
   "source": [
    "from scipy.optimize import curve_fit\n",
    "\n",
    "# Find frequencies and bins of histogram\n",
    "frequency_bins, bin_range = np.histogram(FR_list, bins=10000, density=True)[0], np.histogram(FR_list, bins=10000, density=True)[1]\n",
    "\n",
    "# Fit the function a * np.exp(b * t) + c to x and y\n",
    "popt, pcov = curve_fit(lambda t, a: a * np.exp(-1*a * t), bin_range[:-1], frequency_bins)\n",
    "a = popt[0]\n",
    "\n",
    "xfit = np.linspace(bin_range[0], bin_range[-1], 200)\n",
    "\n",
    "plt.plot(bin_range[:-1], frequency_bins, 'o')\n",
    "plt.plot(xfit, a * np.exp(-1*a* xfit))\n",
    "\n",
    "plt.figure()\n",
    "ax = plt.axes()\n",
    "ax.set_facecolor(\"lightgrey\")\n",
    "plt.hist(FR_list, color='k', bins=500, density=True)\n",
    "plt.plot(xfit, a * np.exp(-1*a* xfit), linewidth=2)\n",
    "plt.xlabel('Frequency of all BLA neurons recorded')\n",
    "plt.ylabel('Occurrence')\n",
    "plt.xlim([0,3])\n",
    "plt.show()"
   ]
  },
  {
   "cell_type": "code",
   "execution_count": 31,
   "id": "4b1c228b-90a5-46ba-b358-6285c862a9dd",
   "metadata": {},
   "outputs": [
    {
     "name": "stdout",
     "output_type": "stream",
     "text": [
      "Fitted line: 3.68 *e^(- 3.68 *x)\n"
     ]
    }
   ],
   "source": [
    "print(\"Fitted line:\", str(round(a, 2)),\"*e^(-\",str(round(a,2)),\"*x)\")"
   ]
  },
  {
   "cell_type": "markdown",
   "id": "c3d263c4",
   "metadata": {},
   "source": [
    "# Compute p-values for stimulus-locked sequences"
   ]
  },
  {
   "cell_type": "code",
   "execution_count": 17,
   "id": "546bc5fa",
   "metadata": {},
   "outputs": [
    {
     "name": "stdout",
     "output_type": "stream",
     "text": [
      "Rat: 0\n",
      "C:\\Users\\pepij\\OneDrive\\Documenten\\02 AI\\4 Thesis\\GG-Dataset-Tulio-Ultralight\\\n",
      "    Session: 0\n",
      "         True\n"
     ]
    },
    {
     "name": "stderr",
     "output_type": "stream",
     "text": [
      "C:\\Users\\pepij\\anaconda3\\lib\\site-packages\\numpy\\core\\fromnumeric.py:3464: RuntimeWarning: Mean of empty slice.\n",
      "  return _methods._mean(a, axis=axis, dtype=dtype,\n",
      "C:\\Users\\pepij\\anaconda3\\lib\\site-packages\\numpy\\core\\_methods.py:192: RuntimeWarning: invalid value encountered in scalar divide\n",
      "  ret = ret.dtype.type(ret / rcount)\n"
     ]
    },
    {
     "name": "stdout",
     "output_type": "stream",
     "text": [
      "nan\n",
      "         False\n",
      "nan\n",
      "    Session: 1\n",
      "         True\n"
     ]
    },
    {
     "name": "stderr",
     "output_type": "stream",
     "text": [
      "C:\\Users\\pepij\\AppData\\Local\\Temp\\ipykernel_12508\\2787300561.py:10: RuntimeWarning: invalid value encountered in divide\n",
      "  p_Y = np.sum(M, axis=0) / total\n",
      "C:\\Users\\pepij\\AppData\\Local\\Temp\\ipykernel_12508\\2787300561.py:11: RuntimeWarning: invalid value encountered in divide\n",
      "  p_X = np.sum(M, axis=1) / total\n"
     ]
    },
    {
     "name": "stdout",
     "output_type": "stream",
     "text": [
      "nan\n",
      "         False\n",
      "0.487\n",
      "    Session: 2\n",
      "         True\n",
      "1.0\n",
      "         False\n",
      "nan\n",
      "    Session: 3\n",
      "         True\n",
      "0.243\n",
      "         False\n",
      "nan\n",
      "    Session: 4\n",
      "         True\n",
      "0.406\n",
      "         False\n",
      "0.804\n",
      "    Session: 5\n",
      "         True\n",
      "0.254\n",
      "         False\n",
      "0.976\n",
      "    Session: 6\n",
      "         True\n",
      "0.272\n",
      "         False\n",
      "0.93\n",
      "    Session: 7\n",
      "         True\n",
      "0.336\n",
      "         False\n",
      "0.69\n",
      "    Session: 8\n",
      "         True\n",
      "0.506\n",
      "         False\n",
      "0.659\n",
      "Rat: 1\n",
      "C:\\Users\\pepij\\OneDrive\\Documenten\\02 AI\\4 Thesis\\GG-Dataset-Tulio-Ultralight\\\n"
     ]
    },
    {
     "name": "stderr",
     "output_type": "stream",
     "text": [
      "C:\\Users\\pepij\\OneDrive\\Documenten\\02 AI\\4 Thesis\\GG-Dataset-Tulio-Ultralight\\data_loader.py:590: UserWarning: The file does not exist in the dataset, check the folder \n",
      " C:\\Users\\pepij\\OneDrive\\Documenten\\02 AI\\4 Thesis\\GG-Dataset-Tulio-Ultralight\\Rat09\\Rat09-20140324\\Rat09-20140324.rip.evt\n",
      "  self.__warning_msg(path)\n",
      "C:\\Users\\pepij\\OneDrive\\Documenten\\02 AI\\4 Thesis\\GG-Dataset-Tulio-Ultralight\\data_loader.py:590: UserWarning: The file does not exist in the dataset, check the folder \n",
      " C:\\Users\\pepij\\OneDrive\\Documenten\\02 AI\\4 Thesis\\GG-Dataset-Tulio-Ultralight\\Rat09\\Rat09-20140325\\Rat09-20140325.rip.evt\n",
      "  self.__warning_msg(path)\n",
      "C:\\Users\\pepij\\OneDrive\\Documenten\\02 AI\\4 Thesis\\GG-Dataset-Tulio-Ultralight\\data_loader.py:590: UserWarning: The file does not exist in the dataset, check the folder \n",
      " C:\\Users\\pepij\\OneDrive\\Documenten\\02 AI\\4 Thesis\\GG-Dataset-Tulio-Ultralight\\Rat09\\Rat09-20140326\\Rat09-20140326.rip.evt\n",
      "  self.__warning_msg(path)\n",
      "C:\\Users\\pepij\\OneDrive\\Documenten\\02 AI\\4 Thesis\\GG-Dataset-Tulio-Ultralight\\data_loader.py:590: UserWarning: The file does not exist in the dataset, check the folder \n",
      " C:\\Users\\pepij\\OneDrive\\Documenten\\02 AI\\4 Thesis\\GG-Dataset-Tulio-Ultralight\\Rat09\\Rat09-20140327\\Rat09-20140327.rip.evt\n",
      "  self.__warning_msg(path)\n",
      "C:\\Users\\pepij\\OneDrive\\Documenten\\02 AI\\4 Thesis\\GG-Dataset-Tulio-Ultralight\\data_loader.py:590: UserWarning: The file does not exist in the dataset, check the folder \n",
      " C:\\Users\\pepij\\OneDrive\\Documenten\\02 AI\\4 Thesis\\GG-Dataset-Tulio-Ultralight\\Rat09\\Rat09-20140328\\Rat09-20140328.rip.evt\n",
      "  self.__warning_msg(path)\n",
      "C:\\Users\\pepij\\OneDrive\\Documenten\\02 AI\\4 Thesis\\GG-Dataset-Tulio-Ultralight\\data_loader.py:590: UserWarning: The file does not exist in the dataset, check the folder \n",
      " C:\\Users\\pepij\\OneDrive\\Documenten\\02 AI\\4 Thesis\\GG-Dataset-Tulio-Ultralight\\Rat09\\Rat09-20140329\\Rat09-20140329.rip.evt\n",
      "  self.__warning_msg(path)\n",
      "C:\\Users\\pepij\\OneDrive\\Documenten\\02 AI\\4 Thesis\\GG-Dataset-Tulio-Ultralight\\data_loader.py:590: UserWarning: The file does not exist in the dataset, check the folder \n",
      " C:\\Users\\pepij\\OneDrive\\Documenten\\02 AI\\4 Thesis\\GG-Dataset-Tulio-Ultralight\\Rat09\\Rat09-20140331\\Rat09-20140331.rip.evt\n",
      "  self.__warning_msg(path)\n",
      "C:\\Users\\pepij\\OneDrive\\Documenten\\02 AI\\4 Thesis\\GG-Dataset-Tulio-Ultralight\\data_loader.py:590: UserWarning: The file does not exist in the dataset, check the folder \n",
      " C:\\Users\\pepij\\OneDrive\\Documenten\\02 AI\\4 Thesis\\GG-Dataset-Tulio-Ultralight\\Rat09\\Rat09-20140401\\Rat09-20140401.rip.evt\n",
      "  self.__warning_msg(path)\n",
      "C:\\Users\\pepij\\OneDrive\\Documenten\\02 AI\\4 Thesis\\GG-Dataset-Tulio-Ultralight\\data_loader.py:590: UserWarning: The file does not exist in the dataset, check the folder \n",
      " C:\\Users\\pepij\\OneDrive\\Documenten\\02 AI\\4 Thesis\\GG-Dataset-Tulio-Ultralight\\Rat09\\Rat09-20140402\\Rat09-20140402.rip.evt\n",
      "  self.__warning_msg(path)\n",
      "C:\\Users\\pepij\\OneDrive\\Documenten\\02 AI\\4 Thesis\\GG-Dataset-Tulio-Ultralight\\data_loader.py:590: UserWarning: The file does not exist in the dataset, check the folder \n",
      " C:\\Users\\pepij\\OneDrive\\Documenten\\02 AI\\4 Thesis\\GG-Dataset-Tulio-Ultralight\\Rat09\\Rat09-20140403\\Rat09-20140403.rip.evt\n",
      "  self.__warning_msg(path)\n"
     ]
    },
    {
     "name": "stdout",
     "output_type": "stream",
     "text": [
      "    Session: 0\n",
      "         True\n"
     ]
    },
    {
     "name": "stderr",
     "output_type": "stream",
     "text": [
      "C:\\Users\\pepij\\anaconda3\\lib\\site-packages\\numpy\\core\\fromnumeric.py:3464: RuntimeWarning: Mean of empty slice.\n",
      "  return _methods._mean(a, axis=axis, dtype=dtype,\n",
      "C:\\Users\\pepij\\anaconda3\\lib\\site-packages\\numpy\\core\\_methods.py:192: RuntimeWarning: invalid value encountered in scalar divide\n",
      "  ret = ret.dtype.type(ret / rcount)\n"
     ]
    },
    {
     "name": "stdout",
     "output_type": "stream",
     "text": [
      "0.068\n",
      "         False\n",
      "0.223\n",
      "    Session: 1\n",
      "         True\n",
      "nan\n",
      "         False\n",
      "1.0\n",
      "    Session: 2\n",
      "         True\n",
      "0.216\n",
      "         False\n",
      "0.863\n",
      "    Session: 3\n",
      "         True\n",
      "0.074\n",
      "         False\n",
      "0.105\n",
      "    Session: 5\n",
      "         True\n",
      "0.173\n",
      "         False\n",
      "0.077\n",
      "    Session: 6\n",
      "         True\n",
      "0.397\n",
      "         False\n",
      "0.463\n",
      "    Session: 7\n",
      "         True\n",
      "0.539\n",
      "         False\n",
      "0.285\n",
      "    Session: 8\n",
      "         True\n",
      "0.3\n",
      "         False\n",
      "0.785\n",
      "    Session: 9\n",
      "         True\n",
      "nan\n",
      "         False\n",
      "0.732\n",
      "Rat: 2\n",
      "C:\\Users\\pepij\\OneDrive\\Documenten\\02 AI\\4 Thesis\\GG-Dataset-Tulio-Ultralight\\\n"
     ]
    },
    {
     "name": "stderr",
     "output_type": "stream",
     "text": [
      "C:\\Users\\pepij\\OneDrive\\Documenten\\02 AI\\4 Thesis\\GG-Dataset-Tulio-Ultralight\\data_loader.py:515: UserWarning: The file does not exist in the dataset, check the folder \n",
      " C:\\Users\\pepij\\OneDrive\\Documenten\\02 AI\\4 Thesis\\GG-Dataset-Tulio-Ultralight\\Rat10\\Rat10-20140704\\Rat10-20140704-pos.csv\n",
      "  self.__warning_msg(self.paths[rat][session]['position'])\n"
     ]
    },
    {
     "name": "stdout",
     "output_type": "stream",
     "text": [
      "    Session: 0\n",
      "         True\n",
      "nan\n",
      "         False\n"
     ]
    },
    {
     "name": "stderr",
     "output_type": "stream",
     "text": [
      "C:\\Users\\pepij\\anaconda3\\lib\\site-packages\\numpy\\core\\fromnumeric.py:3464: RuntimeWarning: Mean of empty slice.\n",
      "  return _methods._mean(a, axis=axis, dtype=dtype,\n",
      "C:\\Users\\pepij\\anaconda3\\lib\\site-packages\\numpy\\core\\_methods.py:192: RuntimeWarning: invalid value encountered in scalar divide\n",
      "  ret = ret.dtype.type(ret / rcount)\n",
      "C:\\Users\\pepij\\AppData\\Local\\Temp\\ipykernel_12508\\2787300561.py:10: RuntimeWarning: invalid value encountered in divide\n",
      "  p_Y = np.sum(M, axis=0) / total\n",
      "C:\\Users\\pepij\\AppData\\Local\\Temp\\ipykernel_12508\\2787300561.py:11: RuntimeWarning: invalid value encountered in divide\n",
      "  p_X = np.sum(M, axis=1) / total\n"
     ]
    },
    {
     "name": "stdout",
     "output_type": "stream",
     "text": [
      "nan\n",
      "    Session: 2\n",
      "         True\n",
      "0.491\n",
      "         False\n",
      "0.087\n",
      "    Session: 3\n",
      "         True\n",
      "0.64\n",
      "         False\n",
      "0.83\n",
      "    Session: 4\n",
      "         True\n",
      "nan\n",
      "         False\n",
      "0.498\n",
      "    Session: 5\n",
      "         True\n",
      "1.0\n",
      "         False\n",
      "0.326\n",
      "    Session: 6\n",
      "         True\n",
      "0.954\n",
      "         False\n",
      "0.027\n",
      "    Session: 7\n",
      "         True\n",
      "nan\n",
      "         False\n",
      "0.872\n",
      "    Session: 8\n",
      "         True\n",
      "nan\n",
      "         False\n",
      "nan\n",
      "    Session: 9\n",
      "         True\n",
      "nan\n",
      "         False\n",
      "nan\n",
      "Rat: 3\n",
      "C:\\Users\\pepij\\OneDrive\\Documenten\\02 AI\\4 Thesis\\GG-Dataset-Tulio-Ultralight\\\n",
      "    Session: 0\n",
      "         True\n"
     ]
    },
    {
     "name": "stderr",
     "output_type": "stream",
     "text": [
      "C:\\Users\\pepij\\anaconda3\\lib\\site-packages\\numpy\\core\\fromnumeric.py:3464: RuntimeWarning: Mean of empty slice.\n",
      "  return _methods._mean(a, axis=axis, dtype=dtype,\n",
      "C:\\Users\\pepij\\anaconda3\\lib\\site-packages\\numpy\\core\\_methods.py:192: RuntimeWarning: invalid value encountered in scalar divide\n",
      "  ret = ret.dtype.type(ret / rcount)\n"
     ]
    },
    {
     "name": "stdout",
     "output_type": "stream",
     "text": [
      "0.587\n",
      "         False\n",
      "0.065\n",
      "    Session: 1\n",
      "         True\n",
      "0.326\n",
      "         False\n",
      "0.169\n",
      "    Session: 2\n",
      "         True\n",
      "0.142\n",
      "         False\n",
      "0.063\n",
      "    Session: 3\n",
      "         True\n",
      "0.009\n",
      "         False\n",
      "0.096\n",
      "    Session: 4\n",
      "         True\n",
      "0.096\n",
      "         False\n",
      "0.513\n",
      "    Session: 5\n",
      "         True\n",
      "0.993\n",
      "         False\n",
      "0.384\n",
      "    Session: 6\n",
      "         True\n",
      "0.535\n",
      "         False\n",
      "0.331\n",
      "    Session: 7\n",
      "         True\n",
      "0.653\n",
      "         False\n",
      "0.109\n"
     ]
    }
   ],
   "source": [
    "v = False\n",
    "\n",
    "seq_window = 100 # in ms\n",
    "\n",
    "# We construct a matrix for all p-values, with dimensions: [rat x session x  puff/safe]\n",
    "p = np.full([4, 12, 2], np.nan)\n",
    "\n",
    "rats = ['Rat08', 'Rat09', 'Rat10', 'Rat11']\n",
    "\n",
    "puff_ = [True, False]\n",
    "\n",
    "for irat, rat in enumerate(rats):\n",
    "    print(\"Rat:\", str(irat))\n",
    "    # Load the (spike) data\n",
    "    data = load_data(rat)\n",
    "    spk = data.get_spk()\n",
    "    \n",
    "    \n",
    "    for session_nr in session_matrix[irat]:\n",
    "        if np.isnan(session_nr):\n",
    "            continue\n",
    "        print(\"    Session:\", str(int(session_nr)))\n",
    "        \n",
    "        session_nr = int(session_nr)\n",
    "\n",
    "        # Define neurons, session and times of the run\n",
    "        neuron_list, n_neurons, session, begin_run_t, end_run_t = session_vars(session_nr)\n",
    "\n",
    "        # Define variables related to the location of the rats and airpuff events\n",
    "        x, y, time_loc, x_mean, puff_locs_x, puff_locs_y, x_cut, y_cut = position_vars(visualization = v)\n",
    "\n",
    "        # Construct the spike matrix \n",
    "        spk_matrix_, trial_type = spike_matrix_init(window, bin_width, visualization = v)   \n",
    "\n",
    "        # For both puff and no puff \n",
    "        for ipuff in range(2):\n",
    "            print(\"        \", str(puff_[ipuff]))\n",
    "            # Mask the spike matrix to the events\n",
    "            spk_matrix = mask_spikes(puff=puff_[ipuff])\n",
    "\n",
    "            # Find p-value\n",
    "            p_val = event_locked_seq(seq_window, n_surrogates, visualization = v)[1]\n",
    "            print(p_val)\n",
    "\n",
    "            p[irat,session_nr, ipuff] = p_val"
   ]
  },
  {
   "cell_type": "code",
   "execution_count": 18,
   "id": "9825a1ed",
   "metadata": {},
   "outputs": [
    {
     "name": "stdout",
     "output_type": "stream",
     "text": [
      "SAFE:\n",
      "Rat: 2\n",
      "Session: 6\n",
      "P-val: 0.027\n",
      "\n",
      "PUFF:\n",
      "Rat: 3\n",
      "Session: 3\n",
      "P-val: 0.009\n",
      "\n"
     ]
    }
   ],
   "source": [
    "#p, win_range = result_p_puff_locked_2()\n",
    "\n",
    "n_sessions = 12\n",
    "\n",
    "significant_seq_puff = []\n",
    "\n",
    "significant_seq_safe = []\n",
    "\n",
    "for irat in range(p.shape[0]):\n",
    "    for isession in range(p.shape[1]):\n",
    "        p_puff = p[irat, isession, 0]\n",
    "        p_safe = p[irat, isession, 1]\n",
    "        if ~np.isnan(p_puff) and p_puff <= 0.05:\n",
    "            significant_seq_puff.append([irat, isession, p_puff])\n",
    "        if ~np.isnan(p_safe) and p_safe <= 0.05:\n",
    "            significant_seq_safe.append([irat, isession, p_safe])\n",
    "\n",
    "print(\"PUFF:\")\n",
    "for i in range(len(significant_seq_puff)):\n",
    "    print(\"Rat:\", significant_seq_puff[i][0])\n",
    "    print(\"Session:\", significant_seq_puff[i][1])\n",
    "    print(\"P-val:\", significant_seq_puff[i][2])\n",
    "    print()"
   ]
  },
  {
   "cell_type": "code",
   "execution_count": 16,
   "id": "4457795b-6177-4497-97ee-4dac34ee3411",
   "metadata": {},
   "outputs": [],
   "source": [
    "considered_sessions_puff = np.array([[3, 3]])                                 "
   ]
  },
  {
   "cell_type": "markdown",
   "id": "82e399ac",
   "metadata": {},
   "source": [
    "# Construct sequence templates for puff events"
   ]
  },
  {
   "cell_type": "code",
   "execution_count": 67,
   "id": "b1b1d74e-0747-4dfe-b206-a8d260e8a646",
   "metadata": {},
   "outputs": [],
   "source": [
    "def MI_decrease(ranks, neurons):\n",
    "    \"\"\"\n",
    "    Calculates all the MIs after pruning each neuron individually.\n",
    "    Input: \n",
    "    - ranks           : the ranks of all the trials\n",
    "    - neurons         : a list of all neurons\n",
    "\n",
    "    Output:\n",
    "    - MIs_sorted      : all MIs after pruning, sorted\n",
    "    - neurons_sorted  : all neurons, sorted on their MI after pruning\n",
    "    \"\"\"\n",
    "    # Calculate MI before pruning\n",
    "    baseline_MI = MI(firing_ranks2occ_matrix(ranks))\n",
    "    \n",
    "    MIs = np.zeros(len(neurons))\n",
    "    \n",
    "    # Prune each neuron individually from the original ranks and calculate MI\n",
    "    for ineuron, neuron in enumerate(neurons):\n",
    "        ranks_candidate, MI_candidate = cut_ranks(ranks, neuron)\n",
    "        MIs[ineuron] = MI_candidate\n",
    "\n",
    "    # Sort the MIs based on their decrease\n",
    "    MIs_sorted = baseline_MI - np.sort(MIs)\n",
    "\n",
    "    # Sort the neurons according to their decrease  (larger decreases resemble a higher likelihood to be part of the sequence)\n",
    "    neurons_sorted = np.array(neurons)[np.argsort(MIs)]\n",
    "    return MIs_sorted, neurons_sorted\n",
    "\n",
    "def construct_sequence(ranks, n_neurons, n_surrogates, threshold=0.05, mode=\"max\", max_neurons=10): \n",
    "\"\"\"\n",
    "    Constructs the sequence, by filtering out insignificant neurons and subsequently ordering on either the mean or mode rank.\n",
    "    Input:\n",
    "    - ranks          :  the ranks of all the trials.\n",
    "    - n_neurons      :  the total number of neurons in the data.\n",
    "    - n_surrogates   :  the number of surrogates used for testing significance of individual neurons\n",
    "    - threshold      :  value between 0 and 1. used for significance testing and can be interpreted as the p-value.\n",
    "    - mode           :  either \"mean\" or \"max\". decides how the significant neurons are ordered to find sequence order.\n",
    "    - max_neurons    :  the maximum sequence length. \n",
    "\n",
    "    Output:\n",
    "    - sequence             :  a list containing the ordered sequence\n",
    "    \"\"\"\n",
    "\n",
    "    # Find MIs with the largest decrease after pruning the neurons individually\n",
    "    MIs, seq_neurons = MI_decrease(ranks, range(n_neurons))\n",
    "    MIs = MIs[:max_neurons]\n",
    "    seq_neurons = seq_neurons[:max_neurons]\n",
    "    \n",
    "    MIs_surrogate = np.zeros([n_surrogates, max_neurons])\n",
    "\n",
    "    # Keep track of total number of surrogates that have a larger MI decrease after pruning the x'th most significant neuron\n",
    "    for s in range(n_surrogates):\n",
    "        for ineuron in range(max_neurons):\n",
    "            #print(seq_neurons[ineuron])\n",
    "            surrogate = surrogate_ranks(ranks, seq_neurons[ineuron])\n",
    "            occ = firing_ranks2occ_matrix(surrogate)\n",
    "            #plt.figure()\n",
    "            #plt.imshow(sort_occ_matrix(occ)[0], aspect='auto')\n",
    "            #plt.yticks(range(sort_occ_matrix(occ)[0].shape[0]), sort_occ_matrix(occ)[2][sort_occ_matrix(occ)[1]])\n",
    "            #plt.show()\n",
    "\n",
    "            MIs_surrogate[s, ineuron] = MI(firing_ranks2occ_matrix(surrogate)) - cut_ranks(surrogate, seq_neurons[ineuron])[1]\n",
    "\n",
    "    insignificant = np.array([np.count_nonzero(MIs_surrogate[:,ineuron]>=MIs[ineuron])/n_surrogates > threshold for ineuron in range(max_neurons)], dtype=int)\n",
    "    ratios = [np.count_nonzero(MIs_surrogate[:,ineuron]>=MIs[ineuron])/n_surrogates for ineuron in range(max_neurons)]\n",
    "    \n",
    "    if len(np.where(insignificant==0)[0])>0:\n",
    "        seq_neurons = seq_neurons[np.where(insignificant==0)[0]]\n",
    "    else:\n",
    "        seq_neurons = seq_neurons[:3]\n",
    "    \n",
    "    \n",
    "    occ_matrix = firing_ranks2occ_matrix(ranks)\n",
    "    \n",
    "    # Compute mean and maximum ranks\n",
    "    mean_ranks = np.zeros(len(seq_neurons))\n",
    "    max_ranks = np.zeros(len(seq_neurons))\n",
    "    for ineuron, neuron in enumerate(seq_neurons):        \n",
    "        mean_ranks[ineuron] = np.mean(occ_matrix[neuron,:]*np.arange(occ_matrix.shape[1]))\n",
    "        max_ranks[ineuron] = np.argmax(occ_matrix[neuron,:])\n",
    "\n",
    "    # Sort the sequence neurons\n",
    "    if mode == \"mean\":\n",
    "        sequence = np.array(seq_neurons)[np.argsort(mean_ranks)]\n",
    "    else: \n",
    "        sequence = np.array(seq_neurons)[np.argsort(max_ranks)]\n",
    "\n",
    "    # Create the template\n",
    "    template = np.zeros([occ_matrix.shape[0], occ_matrix.shape[0]])\n",
    "\n",
    "    for rank, neuron in enumerate(sequence):\n",
    "        template[neuron, rank] = 1\n",
    "\n",
    "    # Create the null-template\n",
    "    null_template = np.zeros([occ_matrix.shape[0], occ_matrix.shape[0]])\n",
    "    null_template[sequence,:len(sequence)] = 1/len(sequence)\n",
    "\n",
    "    return sequence, template, null_template, MIs, MIs_surrogate, ratios\n",
    "\n",
    "def cut_ranks(ranks, neuron):\n",
    "    \"\"\"\n",
    "    Cuts all entries of the neuron out of the ranks. Also, the MI after cutting is outputted.\n",
    "    \"\"\"\n",
    "    pruned_ranks = np.zeros([ranks.shape[0], ranks.shape[1]])\n",
    "    for itrial in range(ranks.shape[0]):\n",
    "        trial = list(ranks[itrial])\n",
    "        if neuron in trial:\n",
    "            trial.remove(neuron)\n",
    "            trial.append(np.nan)\n",
    "        pruned_ranks[itrial] = trial    \n",
    "    return pruned_ranks, MI(firing_ranks2occ_matrix(pruned_ranks))\n",
    "\n",
    "def surrogate_ranks(firing_ranks, neuron): \n",
    "    \"\"\"\n",
    "    Surrogate ranks are created by randomly shuffling the ranks of all spikes of the given neuron. \n",
    "    The sequential information of all other neurons remain untouched.\n",
    "    \"\"\"\n",
    "    ranks = np.zeros([firing_ranks.shape[0], firing_ranks.shape[1]])\n",
    "    \n",
    "    for itrial, trial in enumerate(firing_ranks):\n",
    "        if np.any(trial==neuron):\n",
    "            trial_list = list(trial)\n",
    "            spike_indices = np.sort(np.where(trial==neuron)[0],)[::-1]\n",
    "            \n",
    "            for spike_idx in spike_indices:\n",
    "                trial_list.pop(spike_idx)      \n",
    "            for spk in range(len(spike_indices)):\n",
    "                ivalid = np.where(~np.isnan(trial))[0]\n",
    "                n_slots = len(ivalid)+1\n",
    "                new_rank = np.random.randint(n_slots)\n",
    "                trial_list.insert(new_rank, neuron)\n",
    "            ranks[itrial,:] = np.array(trial_list)\n",
    "        else:\n",
    "            ranks[itrial,:] = firing_ranks[itrial]\n",
    "    return ranks\n",
    "    "
   ]
  },
  {
   "cell_type": "code",
   "execution_count": 23,
   "id": "db685e93-a648-41f3-8da3-bab7ded92758",
   "metadata": {},
   "outputs": [],
   "source": [
    "n_surrogates = 100"
   ]
  },
  {
   "cell_type": "code",
   "execution_count": 27,
   "id": "275ea11a",
   "metadata": {},
   "outputs": [
    {
     "name": "stdout",
     "output_type": "stream",
     "text": [
      "C:\\Users\\pepij\\OneDrive\\Documenten\\02 AI\\4 Thesis\\GG-Dataset-Tulio-Ultralight\\\n"
     ]
    },
    {
     "name": "stderr",
     "output_type": "stream",
     "text": [
      "C:\\Users\\pepij\\anaconda3\\lib\\site-packages\\numpy\\core\\fromnumeric.py:3464: RuntimeWarning: Mean of empty slice.\n",
      "  return _methods._mean(a, axis=axis, dtype=dtype,\n",
      "C:\\Users\\pepij\\anaconda3\\lib\\site-packages\\numpy\\core\\_methods.py:192: RuntimeWarning: invalid value encountered in scalar divide\n",
      "  ret = ret.dtype.type(ret / rcount)\n"
     ]
    },
    {
     "data": {
      "image/png": "[encoded data removed]",
      "text/plain": [
       "<Figure size 1080x360 with 5 Axes>"
      ]
     },
     "metadata": {
      "needs_background": "light"
     },
     "output_type": "display_data"
    }
   ],
   "source": [
    "figlabels = ['Figure10.svg', 'Figure11.svg']\n",
    "figlabels_2 = ['Figure10.jpg', 'Figure11.jpg']\n",
    "\n",
    "rat_id = 3\n",
    "rat = rats[rat_id]\n",
    "session_nr = 3\n",
    "seq_window = 95\n",
    "window = (-500,500)\n",
    "\n",
    "# Load the (spike) data\n",
    "data = load_data(rat)\n",
    "spk = data.get_spk()\n",
    "\n",
    "# Define neurons, session and times of the run\n",
    "neuron_list, n_neurons, session, begin_run_t, end_run_t = session_vars(session_nr)\n",
    "\n",
    "# Define variables related to the location of the rats and airpuff events\n",
    "x, y, time_loc, x_mean, puff_locs_x, puff_locs_y, x_cut, y_cut = position_vars(visualization = False)\n",
    "\n",
    "# Construct the spike matrix \n",
    "spk_matrix_, trial_type = spike_matrix_init(window, bin_width, visualization = False)   \n",
    "\n",
    "# Mask the spike matrix to the events\n",
    "spk_matrix = mask_spikes()\n",
    "\n",
    "# Find the ranks, OCC matrix and URI\n",
    "ranks = firing_ranks_spkmatrix(spk_matrix[:,:,window[1]:window[1]+seq_window])    \n",
    "occurrence_matrix = firing_ranks2occ_matrix(ranks)\n",
    "\n",
    "URI = MI(occurrence_matrix)\n",
    "sorted_occ = sort_occ_matrix(occurrence_matrix)\n",
    "\n",
    "sequence, template, null_template, MIs, MIs_surrogate, ratios  = construct_sequence(ranks, n_neurons, n_surrogates, threshold=0.05, mode=\"max\", max_neurons=30)\n",
    "sorted_template = sort_occ_matrix(template)\n",
    "sorted_null = sort_occ_matrix(null_template)\n",
    "\n",
    "plt.figure(figsize=(15, 5))\n",
    "plt.subplot(1, 3, 1)\n",
    "plt.imshow(sorted_occ[0])\n",
    "plt.yticks(range(len(sorted_occ[2])), sorted_occ[2][sorted_occ[1]])\n",
    "plt.colorbar()\n",
    "plt.subplot(1, 3, 2)\n",
    "plt.pcolormesh(sorted_template[0], edgecolors='w', linewidth=2)\n",
    "plt.xticks(range(sorted_template[0].shape[1]))\n",
    "plt.yticks(range(sorted_template[0].shape[0]), sorted_template[2][sorted_template[1]])\n",
    "plt.subplot(1, 3, 3)\n",
    "#plt.imshow(sorted_null[0])\n",
    "plt.xticks(range(sorted_null[0].shape[1]))\n",
    "plt.yticks(range(sorted_null[0].shape[0]), sorted_null[2][sorted_null[1]])\n",
    "plt.pcolormesh(sorted_null[0], edgecolors='w', linewidth=2)\n",
    "plt.colorbar()\n",
    "#plt.savefig(figlabels[i])\n",
    "#plt.savefig(figlabels_2[i])\n",
    "plt.show()"
   ]
  },
  {
   "cell_type": "code",
   "execution_count": 28,
   "id": "c54404fb-e51b-48ae-bbe3-60714cff2e51",
   "metadata": {},
   "outputs": [
    {
     "data": {
      "text/plain": [
       "[<matplotlib.lines.Line2D at 0x224c36f5400>]"
      ]
     },
     "execution_count": 28,
     "metadata": {},
     "output_type": "execute_result"
    },
    {
     "data": {
      "image/png": "[encoded data removed]",
      "text/plain": [
       "<Figure size 432x288 with 1 Axes>"
      ]
     },
     "metadata": {
      "needs_background": "light"
     },
     "output_type": "display_data"
    }
   ],
   "source": [
    "plt.plot(MIs)\n",
    "plt.plot(np.mean(MIs_surrogate, axis=0))"
   ]
  },
  {
   "cell_type": "code",
   "execution_count": 16,
   "id": "ab992996-cae4-42a2-a2e1-486ea26461e9",
   "metadata": {},
   "outputs": [
    {
     "name": "stdout",
     "output_type": "stream",
     "text": [
      "C:\\Users\\pepij\\OneDrive\\Documenten\\02 AI\\4 Thesis\\GG-Dataset-Tulio-Ultralight\\\n"
     ]
    },
    {
     "name": "stderr",
     "output_type": "stream",
     "text": [
      "C:\\Users\\pepij\\anaconda3\\lib\\site-packages\\numpy\\core\\fromnumeric.py:3464: RuntimeWarning: Mean of empty slice.\n",
      "  return _methods._mean(a, axis=axis, dtype=dtype,\n",
      "C:\\Users\\pepij\\anaconda3\\lib\\site-packages\\numpy\\core\\_methods.py:192: RuntimeWarning: invalid value encountered in scalar divide\n",
      "  ret = ret.dtype.type(ret / rcount)\n"
     ]
    }
   ],
   "source": [
    "rat_id = 3\n",
    "rat = rats[rat_id]\n",
    "session_nr = 3\n",
    "window = (-1200,1200)\n",
    "\n",
    "# Load the (spike) data\n",
    "data = load_data(rat)\n",
    "spk = data.get_spk()\n",
    "\n",
    "# Define neurons, session and times of the run\n",
    "neuron_list, n_neurons, session, begin_run_t, end_run_t = session_vars(session_nr)\n",
    "\n",
    "# Define variables related to the location of the rats and airpuff events\n",
    "x, y, time_loc, x_mean, puff_locs_x, puff_locs_y, x_cut, y_cut = position_vars(visualization = False)\n",
    "\n",
    "# Construct the spike matrix \n",
    "spk_matrix_, trial_type = spike_matrix_init(window, bin_width, visualization = False)   \n",
    "\n",
    "# Mask the spike matrix to the events\n",
    "spk_matrix = mask_spikes()\n",
    "\n",
    "# Find the ranks, OCC matrix and URI\n",
    "ranks = firing_ranks_spkmatrix(spk_matrix[:,:,window[1]:window[1]+seq_window])    \n",
    "occurrence_matrix = firing_ranks2occ_matrix(ranks)\n",
    "\n",
    "# Make matrices of shape [puff/safe x timebin]\n",
    "template_corr = np.zeros([2,spk_matrix_.shape[2]-seq_window])\n",
    "null_template_corr = np.zeros([2,spk_matrix_.shape[2]-seq_window])"
   ]
  },
  {
   "cell_type": "code",
   "execution_count": 20,
   "id": "53135cdb-3cc5-4bd0-a157-7de530d8dda6",
   "metadata": {},
   "outputs": [],
   "source": [
    "sequence = np.array([54, 67, 15, 122, 98, 70, 37, 62, 53])"
   ]
  },
  {
   "cell_type": "code",
   "execution_count": 21,
   "id": "953e44a1-d063-44a1-8d49-c425de406b79",
   "metadata": {},
   "outputs": [
    {
     "data": {
      "text/plain": [
       "<matplotlib.image.AxesImage at 0x1431661dc40>"
      ]
     },
     "execution_count": 21,
     "metadata": {},
     "output_type": "execute_result"
    },
    {
     "data": {
      "image/png": "[encoded data removed]",
      "text/plain": [
       "<Figure size 432x288 with 1 Axes>"
      ]
     },
     "metadata": {
      "needs_background": "light"
     },
     "output_type": "display_data"
    }
   ],
   "source": [
    "occurrence_matrix_filtered = np.zeros([occurrence_matrix.shape[0], occurrence_matrix.shape[1]])\n",
    "\n",
    "for seq_neur in sequence:\n",
    "    occurrence_matrix_filtered[seq_neur] = occurrence_matrix[seq_neur]/np.sum(occurrence_matrix[seq_neur])\n",
    "\n",
    "plt.imshow(sort_occ_matrix(occurrence_matrix_filtered)[0])"
   ]
  },
  {
   "cell_type": "code",
   "execution_count": 25,
   "id": "e84918b2-2c10-4497-9396-e8c4d624f50d",
   "metadata": {},
   "outputs": [],
   "source": [
    "# Create the null-template\n",
    "null_template = np.zeros([occurrence_matrix.shape[0], occurrence_matrix.shape[0]])\n",
    "active_ranks = sort_occ_matrix(occurrence_matrix_filtered)[0].shape[1]\n",
    "null_template[sequence,:active_ranks] = 1/active_ranks"
   ]
  },
  {
   "cell_type": "code",
   "execution_count": 26,
   "id": "b0ddf2b6-cc66-4afd-8a26-6502b73509fa",
   "metadata": {},
   "outputs": [],
   "source": [
    "for i, puff_boolean in enumerate([True, False]):\n",
    "    # Construct the spike matrix \n",
    "    spk_matrix = mask_spikes(puff=puff_boolean)\n",
    "    for t in range(spk_matrix.shape[2]-seq_window):\n",
    "        # Find the ranks, OCC matrix and URI\n",
    "        ranks = firing_ranks_spkmatrix(spk_matrix[:,:,t:t+seq_window])    \n",
    "        occurrence_matrix = firing_ranks2occ_matrix(ranks)\n",
    "        template_corr[i,t] = np.dot(occurrence_matrix_filtered.flatten()/np.linalg.norm(occurrence_matrix_filtered), occurrence_matrix.flatten()/np.linalg.norm(occurrence_matrix))\n",
    "        null_template_corr[i,t] = np.dot(null_template.flatten()/np.linalg.norm(null_template), occurrence_matrix.flatten()/np.linalg.norm(occurrence_matrix))"
   ]
  },
  {
   "cell_type": "code",
   "execution_count": 27,
   "id": "d73fd5c3-c2b6-44ad-90d8-c95e55855fd4",
   "metadata": {},
   "outputs": [
    {
     "data": {
      "image/png": "[encoded data removed]",
      "text/plain": [
       "<Figure size 1080x720 with 6 Axes>"
      ]
     },
     "metadata": {
      "needs_background": "light"
     },
     "output_type": "display_data"
    }
   ],
   "source": [
    "lw = 0.9\n",
    "lw2 = 2\n",
    "\n",
    "ylims=(0.15,0.75)\n",
    "ylims_diff=(-0.35,0.25)\n",
    "\n",
    "plt.figure(figsize=(15,10))\n",
    "plt.subplot(2, 3, 1)\n",
    "plt.title('Correlation with template of sequence')\n",
    "plt.plot(np.array(range(spk_matrix.shape[2]-seq_window))-window[1], template_corr[0], lw=lw, label='Puff trials')\n",
    "plt.vlines(x = 0, ymin = -10, ymax=ylims[1], color='k', linestyle='--', alpha=0.3)\n",
    "plt.plot(np.array(range(spk_matrix.shape[2]-seq_window))-window[1], template_corr[1], lw=lw, label='Safe trials')\n",
    "plt.xlabel('Time (ms)')\n",
    "plt.ylabel('Correlation')\n",
    "plt.ylim(ylims)\n",
    "plt.xlim(-1200+95, 1200-95)\n",
    "plt.margins(x=0)\n",
    "plt.margins(y=0)\n",
    "\n",
    "plt.subplot(2, 3, 2)\n",
    "plt.title('Correlation with null-template of sequence')\n",
    "plt.plot(np.array(range(spk_matrix.shape[2]-seq_window))-window[1], null_template_corr[0],lw=lw, label='Puff trials')\n",
    "plt.plot(np.array(range(spk_matrix.shape[2]-seq_window))-window[1], null_template_corr[1],lw=lw, label='Safe trials')\n",
    "plt.xlabel('Time (ms)')\n",
    "plt.ylabel('Correlation')\n",
    "plt.ylim(ylims)\n",
    "plt.vlines(x = 0, ymin = -10, ymax=ylims[1], color='k', linestyle='--', alpha=0.3)\n",
    "plt.xlim(-1200+95, 1200-95)\n",
    "plt.margins(x=0)\n",
    "plt.margins(y=0)\n",
    "\n",
    "\n",
    "plt.subplot(2, 3, 3)\n",
    "plt.title('Difference in correlation')\n",
    "plt.plot(np.array(range(spk_matrix.shape[2]-seq_window))-window[1], template_corr[0]-null_template_corr[0],lw=lw, label='Puff trials')\n",
    "plt.vlines(x = 0, ymin =-10, ymax=ylims[1], color='k', linestyle='--', alpha=0.3)\n",
    "plt.plot(np.array(range(spk_matrix.shape[2]-seq_window))-window[1], template_corr[1]-null_template_corr[1],lw=lw, label='Safe trials')\n",
    "plt.xlabel('Time (ms)')\n",
    "plt.ylabel('Difference')\n",
    "plt.margins(x=0)\n",
    "plt.margins(y=0)\n",
    "plt.xlim(-1200+95, 1200-95)\n",
    "plt.ylim(ylims_diff)\n",
    "\n",
    "\n",
    "plt.subplot(2, 3, 4)\n",
    "plt.plot(np.array(range(spk_matrix.shape[2]-seq_window))-window[1], template_corr[0], lw=lw2, label='Puff trials')\n",
    "plt.vlines(x = 0, ymin = -10, ymax=ylims[1], color='k', linestyle='--', alpha=0.3)\n",
    "plt.plot(np.array(range(spk_matrix.shape[2]-seq_window))-window[1], template_corr[1], lw=lw2, label='Safe trials')\n",
    "plt.xlabel('Time (ms)')\n",
    "plt.ylabel('Correlation with template')\n",
    "plt.ylim(ylims)\n",
    "plt.margins(x=0)\n",
    "plt.margins(y=0)\n",
    "plt.xlim([-100, 100])\n",
    "\n",
    "\n",
    "plt.subplot(2, 3, 5)\n",
    "plt.plot(np.array(range(spk_matrix.shape[2]-seq_window))-window[1], null_template_corr[0],lw=lw2, label='Puff trials')\n",
    "plt.plot(np.array(range(spk_matrix.shape[2]-seq_window))-window[1], null_template_corr[1],lw=lw2, label='Safe trials')\n",
    "plt.xlabel('Time (ms)')\n",
    "plt.ylabel('Correlation with null-template')\n",
    "plt.ylim(ylims)\n",
    "plt.vlines(x = 0, ymin = -10, ymax=ylims[1], color='k', linestyle='--', alpha=0.3)\n",
    "plt.margins(x=0)\n",
    "plt.margins(y=0)\n",
    "plt.xlim([-100, 100])\n",
    "\n",
    "\n",
    "plt.subplot(2, 3, 6)\n",
    "plt.plot(np.array(range(spk_matrix.shape[2]-seq_window))-window[1], template_corr[0]-null_template_corr[0],lw=lw2, label='Puff trials')\n",
    "plt.vlines(x = 0, ymin =-10, ymax=ylims[1], color='k', linestyle='--', alpha=0.3)\n",
    "plt.plot(np.array(range(spk_matrix.shape[2]-seq_window))-window[1], template_corr[1]-null_template_corr[1],lw=lw2, label='Safe trials')\n",
    "plt.xlabel('Time (ms)')\n",
    "plt.ylabel('Difference')\n",
    "plt.margins(x=0)\n",
    "plt.margins(y=0)\n",
    "plt.ylim(ylims_diff)\n",
    "plt.xlim([-100, 100])\n",
    "plt.legend()\n",
    "\n",
    "\n",
    "plt.savefig('Figure12.svg')\n",
    "plt.savefig('Figure12.png')\n",
    "\n",
    "plt.show()\n"
   ]
  },
  {
   "cell_type": "code",
   "execution_count": 28,
   "id": "d66527a5-dd34-4e50-b7f5-6fca72b04d88",
   "metadata": {},
   "outputs": [
    {
     "name": "stdout",
     "output_type": "stream",
     "text": [
      "C:\\Users\\pepij\\OneDrive\\Documenten\\02 AI\\4 Thesis\\GG-Dataset-Tulio-Ultralight\\\n"
     ]
    }
   ],
   "source": [
    "rat_id = 3\n",
    "rat = rats[rat_id]\n",
    "session_nr = 3\n",
    "seq_window = 95\n",
    "window = (-200,200)\n",
    "\n",
    "# Load the (spike) data\n",
    "data = load_data(rat)\n",
    "spk = data.get_spk()\n",
    "\n",
    "# Define neurons, session and times of the run\n",
    "neuron_list, n_neurons, session, begin_run_t, end_run_t = session_vars(session_nr)\n",
    "\n",
    "# Define variables related to the location of the rats and airpuff events\n",
    "x, y, time_loc, x_mean, puff_locs_x, puff_locs_y, x_cut, y_cut = position_vars(visualization = False)\n",
    "\n",
    "# Construct the spike matrix \n",
    "spk_matrix_, trial_type = spike_matrix_init(window, bin_width, visualization = False)   \n",
    "\n",
    "# Mask the spike matrix to the events\n",
    "spk_matrix = mask_spikes()"
   ]
  },
  {
   "cell_type": "code",
   "execution_count": 32,
   "id": "0207ab9c-c285-4dfa-8055-cf92dec62e62",
   "metadata": {},
   "outputs": [],
   "source": [
    "trial_corr = np.zeros([len(mask_spikes())])\n",
    "trial_corr_safe = np.zeros([len(mask_spikes(puff=False))])\n",
    "\n",
    "spk_matrix = mask_spikes()\n",
    "for itrial_slice, trial_slice in enumerate(spk_matrix):\n",
    "    spk_matrix_slice = np.zeros([2, trial_slice.shape[0], trial_slice.shape[1]])\n",
    "    spk_matrix_slice[0] = trial_slice\n",
    "    ranks = firing_ranks_spkmatrix(spk_matrix_slice[:,:,200:200+seq_window])    \n",
    "    occurrence_matrix = firing_ranks2occ_matrix(ranks)\n",
    "    trial_corr[itrial_slice] = np.dot(occurrence_matrix.flatten()/np.linalg.norm(occurrence_matrix.flatten()), occurrence_matrix_filtered.flatten()/np.linalg.norm(occurrence_matrix_filtered.flatten())) - np.dot(null_template.flatten()/np.linalg.norm(null_template), occurrence_matrix.flatten()/np.linalg.norm(occurrence_matrix))\n",
    "\n",
    "spk_matrix = mask_spikes(puff=False)\n",
    "for itrial_slice, trial_slice in enumerate(spk_matrix):\n",
    "    spk_matrix_slice = np.zeros([2, trial_slice.shape[0], trial_slice.shape[1]])\n",
    "    spk_matrix_slice[0] = trial_slice\n",
    "    ranks = firing_ranks_spkmatrix(spk_matrix_slice[:,:,200:200+seq_window])    \n",
    "    occurrence_matrix = firing_ranks2occ_matrix(ranks)\n",
    "    trial_corr_safe[itrial_slice] =  np.dot(occurrence_matrix.flatten()/np.linalg.norm(occurrence_matrix.flatten()), occurrence_matrix_filtered.flatten()/np.linalg.norm(occurrence_matrix_filtered.flatten())) - np.dot(null_template.flatten()/np.linalg.norm(null_template), occurrence_matrix.flatten()/np.linalg.norm(occurrence_matrix))"
   ]
  },
  {
   "cell_type": "code",
   "execution_count": 33,
   "id": "2491f891-146b-4216-ada9-7e6bbda51637",
   "metadata": {},
   "outputs": [
    {
     "data": {
      "image/png": "[encoded data removed]",
      "text/plain": [
       "<Figure size 720x360 with 2 Axes>"
      ]
     },
     "metadata": {
      "needs_background": "light"
     },
     "output_type": "display_data"
    }
   ],
   "source": [
    "width=0\n",
    "spk_matrix = mask_spikes()\n",
    "ind = np.arange(len(spk_matrix)-1)\n",
    "\n",
    "plt.figure(figsize=(10,5))\n",
    "plt.subplot(1, 2, 1)\n",
    "plt.scatter(ind,np.sort(trial_corr[:len(trial_corr)-1])[::-1])\n",
    "spk_matrix = mask_spikes(puff=False)\n",
    "plt.scatter(ind,trial_corr_safe[np.argsort(trial_corr[:len(trial_corr)-1])][::-1])\n",
    "#plt.ylim([0,1])\n",
    "plt.xlabel('Trial')\n",
    "plt.ylabel('Correlation')\n",
    "\n",
    "plt.subplot(1, 2, 2)\n",
    "\n",
    "plt.hist(trial_corr, bins=10, alpha=0.2)\n",
    "plt.hist(trial_corr_safe, bins=10, alpha=0.2)\n",
    "#plt.savefig('Figure15.svg')\n",
    "#plt.savefig('Figure15.jpg')\n",
    "plt.show()"
   ]
  },
  {
   "cell_type": "code",
   "execution_count": 36,
   "id": "6aa1daa6-3150-4337-917f-3e138cba7e08",
   "metadata": {},
   "outputs": [],
   "source": [
    "from scipy.stats import spearmanr as spearmanr"
   ]
  },
  {
   "cell_type": "code",
   "execution_count": 39,
   "id": "3592fa0d-d33e-4d7a-a35d-563e18dabcf0",
   "metadata": {},
   "outputs": [
    {
     "data": {
      "text/plain": [
       "SignificanceResult(statistic=-0.16307007786429364, pvalue=0.3892359903991873)"
      ]
     },
     "execution_count": 39,
     "metadata": {},
     "output_type": "execute_result"
    }
   ],
   "source": [
    "spearmanr(trial_corr[:len(trial_corr)-1], trial_corr_safe)"
   ]
  },
  {
   "cell_type": "code",
   "execution_count": 34,
   "id": "7cdf861e-854c-46f4-9875-f60148545a92",
   "metadata": {},
   "outputs": [
    {
     "data": {
      "image/png": "[encoded data removed]",
      "text/plain": [
       "<Figure size 720x360 with 2 Axes>"
      ]
     },
     "metadata": {
      "needs_background": "light"
     },
     "output_type": "display_data"
    }
   ],
   "source": [
    "width=0\n",
    "spk_matrix = mask_spikes()\n",
    "ind = np.arange(len(spk_matrix)-1)\n",
    "\n",
    "plt.figure(figsize=(10,5))\n",
    "plt.subplot(1, 2, 1)\n",
    "plt.scatter(ind,trial_corr[:len(trial_corr)-1])\n",
    "spk_matrix = mask_spikes(puff=False)\n",
    "plt.scatter(ind,trial_corr_safe)\n",
    "plt.scatter(len(spk_matrix), trial_corr[-1])\n",
    "#plt.ylim([0,1])\n",
    "plt.xlabel('Trial')\n",
    "plt.ylabel('Correlation')\n",
    "\n",
    "plt.subplot(1, 2, 2)\n",
    "\n",
    "plt.hist(trial_corr, bins=10, alpha=0.2)\n",
    "plt.hist(trial_corr_safe, bins=10, alpha=0.2)\n",
    "plt.savefig('Figure14.svg')\n",
    "plt.savefig('Figure14.jpg')\n",
    "plt.show()"
   ]
  },
  {
   "cell_type": "code",
   "execution_count": null,
   "id": "ca62dcd1-19bd-42f8-a49a-1373bd806306",
   "metadata": {},
   "outputs": [],
   "source": []
  }
 ],
 "metadata": {
  "kernelspec": {
   "display_name": "Python 3 (ipykernel)",
   "language": "python",
   "name": "python3"
  },
  "language_info": {
   "codemirror_mode": {
    "name": "ipython",
    "version": 3
   },
   "file_extension": ".py",
   "mimetype": "text/x-python",
   "name": "python",
   "nbconvert_exporter": "python",
   "pygments_lexer": "ipython3",
   "version": "3.9.7"
  }
 },
 "nbformat": 4,
 "nbformat_minor": 5
}
